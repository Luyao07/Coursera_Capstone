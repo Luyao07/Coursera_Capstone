{
 "cells": [
  {
   "cell_type": "markdown",
   "metadata": {},
   "source": [
    "### Predict Accident Severity"
   ]
  },
  {
   "cell_type": "markdown",
   "metadata": {},
   "source": [
    "Lorena Wang"
   ]
  },
  {
   "cell_type": "markdown",
   "metadata": {},
   "source": [
    "### Introduction\n"
   ]
  },
  {
   "cell_type": "markdown",
   "metadata": {},
   "source": [
    "Road traffic injuries and deaths has been a global severe problem. According to the statistic report from World Health Organization (WHO):\n",
    "+ Every year 1.35 million people are killed as a result of a road traffic crash.\n",
    "+ Between 20 and 50 million people suffer non-fatal injuries, which most can lead to disabilities in their life.\n",
    "+ Road traffic injuries are estimated to be the eighth leading cause of death globally for all age groups and the leading cause of death for children and young people aged 5–29 years old. More people now die in road traffic crashes than from HIV/AIDS.\n",
    "\n",
    "This severe problem needs our attention, since human lives are irreplaceable. Thanks to the development of data science, we can get the insight of the traffic collision data and predict the severity of car accidents based on the complex various factors, such as weather, road condition, light condition, speeding etc. Machine Learning is an ideal method as this is a scientific approach for modelling and predicting the parameter of interest demanding only a low budget. We can also identify which factors have more impact on this problem and people can take actions to them. \n",
    "\n",
    "This project is aimed to use Machine Learning to build models to predict the severity of the traffic accidents according to the factors in the car collision data in the city of Seattle, USA. This predictive model can be applied to multiple practical conditions to save life, such as safe route planning, emergency signal light control, vehicle allocation, signals placement or even AI car design. \n",
    "This study of car accidents in Seattle can help other cities in similar conditions, and the methodology can be used widely among other countries.  The stakeholders of the present problem involve state and local government agencies, non-governmental organizations, regional authorities, AI technology companies, and even individuals.\n",
    "\n"
   ]
  },
  {
   "cell_type": "markdown",
   "metadata": {},
   "source": [
    "### Data"
   ]
  },
  {
   "cell_type": "markdown",
   "metadata": {},
   "source": [
    "The car collision data is obtained from Seattle Govt’s website, which records the severity of the accident and the current factors, including road condition, light, speed,weather,etc. The detailed information can be checked in Data Attributes.\n",
    "\n",
    "Data Source: http://data-seattlecitygis.opendata.arcgis.com/datasets/5b5c745e0f1f48e7a53acec63a0022ab_0/data\n",
    "\n",
    "Data Catalogue: https://www.seattle.gov/Documents/Departments/SDOT/GIS/Collisions_OD.pdf"
   ]
  },
  {
   "cell_type": "markdown",
   "metadata": {},
   "source": [
    "### Data Attributes"
   ]
  },
  {
   "cell_type": "markdown",
   "metadata": {},
   "source": [
    "| Attribute  | Data type, length | Description |\n",
    "| -----------| ----------------- | ----------- |\n",
    "| OBJECTID |ObjectID|ESRI unique identifier|\n",
    "|INCKEY |Long| A unique key for the incident |\n",
    "|COLDETKEY |Long| Secondary key for the incident |\n",
    "|ADDRTYPE|Text, 12| Collision address type:• Alley• Block• Intersection|\n",
    "|INTKEY| Double Key| that corresponds to the intersection associated with a collision |\n",
    "|LOCATION|Text, 255|Description of the general location of the collision|\n",
    "|EXCEPTRSNCODE|Text, 10|Not specified\n",
    "EXCEPTRSNDESC|Text, 300|Not specified\n",
    "SEVERITYCODE|Text, 100|A code that corresponds to the severity of the collision: 3—fatality, 2b—serious injury, 2—injury, 1—prop damage, 0—unknown\n",
    "SEVERITYDESC|Text|A detailed description of the severity of the collision\n",
    "COLLISIONTYPE|Text, 300|Collision type\n",
    "PERSONCOUNT|Double|The total number of people involved in the collision\n",
    "PEDCOUNT|Double|The number of pedestrians involved in the collision. This is entered by the state.\n",
    "PEDCYLCOUNT|Double|The number of bicycles involved in the collision. This is entered by the state.\n",
    "VEHCOUNT|Double|The number of vehicles involved in the collision. This is entered by the state.\n",
    "INJURIES|Double|The number of total injuries in the collision. This is entered by the state.\n",
    "SERIOUSINJURIES|Double|The number of serious injuries in the collision. This is entered by the state.\n",
    "FATALITIES|Double|The number of fatalities in the collision. This is entered by the state.\n",
    "INCDATE|Date|The date of the incident.\n",
    "INCDTTM|Text, 30|The date and time of the incident.\n",
    "JUNCTIONTYPE|Text, 300|Category of junction at which collision took place\n",
    "SDOT_COLCODE|Text, 10|A code given to the collision by SDOT.\n",
    "SDOT_COLDESC|Text, 300|A description of the collision corresponding to the collision code.\n",
    "INATTENTIONIND|Text, 1|Whether or not collision was due to inattention. (Y/N)\n",
    "UNDERINFL|Text, 10|Whether or not a driver involved was under the influence of drugs or alcohol.\n",
    "WEATHER|Text, 300|A description of the weather conditions during the time of the collision.\n",
    "ROADCOND|Text, 300|The condition of the road during the collision.\n",
    "LIGHTCOND|Text, 300|The light conditions during the collision.\n",
    "PEDROWNOTGRNT|Text, 1|Whether or not the pedestrian right of way was not granted. (Y/N)\n",
    "SDOTCOLNUM|Text, 10|A number given to the collision by SDOT.\n",
    "SPEEDING|Text, 1|Whether or not speeding was a factor in the collision. (Y/N)\n",
    "ST_COLCODE|Text, 10|A code provided by the state that describes the collision. For more information about these codes, please see the State Collision Code Dictionary.\n",
    "ST_COLDES|Text, 300|A description that corresponds to the state’s coding designation.\n",
    "SEGLANEKEY|Long|A key for the lane segment in which the collision occurred.\n",
    "CROSSWALKKEY|Long|A key for the crosswalk at which the collision occurred.\n",
    "HITPARKEDCAR|Text, 1|Whether or not the collision involved hitting a parked car. (Y/N)\n",
    "\n",
    "\n"
   ]
  },
  {
   "cell_type": "code",
   "execution_count": 1,
   "metadata": {},
   "outputs": [],
   "source": [
    "import pandas as pd\n",
    "import pylab as pl\n",
    "import numpy as np\n",
    "import matplotlib.pyplot as plt\n",
    "%matplotlib inline\n",
    "import seaborn as sns"
   ]
  },
  {
   "cell_type": "code",
   "execution_count": 31,
   "metadata": {},
   "outputs": [],
   "source": [
    "df=pd.read_csv(\"Collisions.csv\")"
   ]
  },
  {
   "cell_type": "code",
   "execution_count": 27,
   "metadata": {},
   "outputs": [
    {
     "data": {
      "text/html": [
       "<div>\n",
       "<style scoped>\n",
       "    .dataframe tbody tr th:only-of-type {\n",
       "        vertical-align: middle;\n",
       "    }\n",
       "\n",
       "    .dataframe tbody tr th {\n",
       "        vertical-align: top;\n",
       "    }\n",
       "\n",
       "    .dataframe thead th {\n",
       "        text-align: right;\n",
       "    }\n",
       "</style>\n",
       "<table border=\"1\" class=\"dataframe\">\n",
       "  <thead>\n",
       "    <tr style=\"text-align: right;\">\n",
       "      <th></th>\n",
       "      <th>X</th>\n",
       "      <th>Y</th>\n",
       "      <th>OBJECTID</th>\n",
       "      <th>INCKEY</th>\n",
       "      <th>COLDETKEY</th>\n",
       "      <th>REPORTNO</th>\n",
       "      <th>STATUS</th>\n",
       "      <th>ADDRTYPE</th>\n",
       "      <th>INTKEY</th>\n",
       "      <th>LOCATION</th>\n",
       "      <th>...</th>\n",
       "      <th>ROADCOND</th>\n",
       "      <th>LIGHTCOND</th>\n",
       "      <th>PEDROWNOTGRNT</th>\n",
       "      <th>SDOTCOLNUM</th>\n",
       "      <th>SPEEDING</th>\n",
       "      <th>ST_COLCODE</th>\n",
       "      <th>ST_COLDESC</th>\n",
       "      <th>SEGLANEKEY</th>\n",
       "      <th>CROSSWALKKEY</th>\n",
       "      <th>HITPARKEDCAR</th>\n",
       "    </tr>\n",
       "  </thead>\n",
       "  <tbody>\n",
       "    <tr>\n",
       "      <th>0</th>\n",
       "      <td>-122.320757</td>\n",
       "      <td>47.609408</td>\n",
       "      <td>1</td>\n",
       "      <td>328476</td>\n",
       "      <td>329976</td>\n",
       "      <td>EA08706</td>\n",
       "      <td>Matched</td>\n",
       "      <td>Block</td>\n",
       "      <td>NaN</td>\n",
       "      <td>BROADWAY BETWEEN E COLUMBIA ST AND BOYLSTON AVE</td>\n",
       "      <td>...</td>\n",
       "      <td>Wet</td>\n",
       "      <td>Dark - Street Lights On</td>\n",
       "      <td>NaN</td>\n",
       "      <td>NaN</td>\n",
       "      <td>NaN</td>\n",
       "      <td>11</td>\n",
       "      <td>From same direction - both going straight - bo...</td>\n",
       "      <td>0.0</td>\n",
       "      <td>0.0</td>\n",
       "      <td>N</td>\n",
       "    </tr>\n",
       "    <tr>\n",
       "      <th>1</th>\n",
       "      <td>-122.319561</td>\n",
       "      <td>47.662221</td>\n",
       "      <td>2</td>\n",
       "      <td>328142</td>\n",
       "      <td>329642</td>\n",
       "      <td>EA06882</td>\n",
       "      <td>Matched</td>\n",
       "      <td>Block</td>\n",
       "      <td>NaN</td>\n",
       "      <td>8TH AVE NE BETWEEN NE 45TH E ST AND NE 47TH ST</td>\n",
       "      <td>...</td>\n",
       "      <td>Dry</td>\n",
       "      <td>Daylight</td>\n",
       "      <td>NaN</td>\n",
       "      <td>NaN</td>\n",
       "      <td>NaN</td>\n",
       "      <td>32</td>\n",
       "      <td>One parked--one moving</td>\n",
       "      <td>0.0</td>\n",
       "      <td>0.0</td>\n",
       "      <td>Y</td>\n",
       "    </tr>\n",
       "    <tr>\n",
       "      <th>2</th>\n",
       "      <td>-122.327525</td>\n",
       "      <td>47.604393</td>\n",
       "      <td>3</td>\n",
       "      <td>20700</td>\n",
       "      <td>20700</td>\n",
       "      <td>1181833</td>\n",
       "      <td>Unmatched</td>\n",
       "      <td>Block</td>\n",
       "      <td>NaN</td>\n",
       "      <td>JAMES ST BETWEEN 6TH AVE AND 7TH AVE</td>\n",
       "      <td>...</td>\n",
       "      <td>NaN</td>\n",
       "      <td>NaN</td>\n",
       "      <td>NaN</td>\n",
       "      <td>4030032.0</td>\n",
       "      <td>NaN</td>\n",
       "      <td>NaN</td>\n",
       "      <td>NaN</td>\n",
       "      <td>0.0</td>\n",
       "      <td>0.0</td>\n",
       "      <td>N</td>\n",
       "    </tr>\n",
       "    <tr>\n",
       "      <th>3</th>\n",
       "      <td>-122.327525</td>\n",
       "      <td>47.708622</td>\n",
       "      <td>4</td>\n",
       "      <td>332126</td>\n",
       "      <td>333626</td>\n",
       "      <td>M16001640</td>\n",
       "      <td>Unmatched</td>\n",
       "      <td>Block</td>\n",
       "      <td>NaN</td>\n",
       "      <td>NE NORTHGATE WAY BETWEEN 1ST AVE NE AND NE NOR...</td>\n",
       "      <td>...</td>\n",
       "      <td>NaN</td>\n",
       "      <td>NaN</td>\n",
       "      <td>NaN</td>\n",
       "      <td>NaN</td>\n",
       "      <td>NaN</td>\n",
       "      <td></td>\n",
       "      <td>NaN</td>\n",
       "      <td>0.0</td>\n",
       "      <td>0.0</td>\n",
       "      <td>N</td>\n",
       "    </tr>\n",
       "    <tr>\n",
       "      <th>4</th>\n",
       "      <td>-122.292120</td>\n",
       "      <td>47.559009</td>\n",
       "      <td>5</td>\n",
       "      <td>328238</td>\n",
       "      <td>329738</td>\n",
       "      <td>3857118</td>\n",
       "      <td>Unmatched</td>\n",
       "      <td>Block</td>\n",
       "      <td>NaN</td>\n",
       "      <td>M L KING JR ER WAY S BETWEEN S ANGELINE ST AND...</td>\n",
       "      <td>...</td>\n",
       "      <td>NaN</td>\n",
       "      <td>NaN</td>\n",
       "      <td>NaN</td>\n",
       "      <td>NaN</td>\n",
       "      <td>NaN</td>\n",
       "      <td></td>\n",
       "      <td>NaN</td>\n",
       "      <td>0.0</td>\n",
       "      <td>0.0</td>\n",
       "      <td>N</td>\n",
       "    </tr>\n",
       "  </tbody>\n",
       "</table>\n",
       "<p>5 rows × 40 columns</p>\n",
       "</div>"
      ],
      "text/plain": [
       "            X          Y  OBJECTID  INCKEY  COLDETKEY   REPORTNO     STATUS  \\\n",
       "0 -122.320757  47.609408         1  328476     329976    EA08706    Matched   \n",
       "1 -122.319561  47.662221         2  328142     329642    EA06882    Matched   \n",
       "2 -122.327525  47.604393         3   20700      20700    1181833  Unmatched   \n",
       "3 -122.327525  47.708622         4  332126     333626  M16001640  Unmatched   \n",
       "4 -122.292120  47.559009         5  328238     329738    3857118  Unmatched   \n",
       "\n",
       "  ADDRTYPE  INTKEY                                           LOCATION  ...  \\\n",
       "0    Block     NaN    BROADWAY BETWEEN E COLUMBIA ST AND BOYLSTON AVE  ...   \n",
       "1    Block     NaN     8TH AVE NE BETWEEN NE 45TH E ST AND NE 47TH ST  ...   \n",
       "2    Block     NaN               JAMES ST BETWEEN 6TH AVE AND 7TH AVE  ...   \n",
       "3    Block     NaN  NE NORTHGATE WAY BETWEEN 1ST AVE NE AND NE NOR...  ...   \n",
       "4    Block     NaN  M L KING JR ER WAY S BETWEEN S ANGELINE ST AND...  ...   \n",
       "\n",
       "  ROADCOND                LIGHTCOND PEDROWNOTGRNT SDOTCOLNUM SPEEDING  \\\n",
       "0      Wet  Dark - Street Lights On           NaN        NaN      NaN   \n",
       "1      Dry                 Daylight           NaN        NaN      NaN   \n",
       "2      NaN                      NaN           NaN  4030032.0      NaN   \n",
       "3      NaN                      NaN           NaN        NaN      NaN   \n",
       "4      NaN                      NaN           NaN        NaN      NaN   \n",
       "\n",
       "   ST_COLCODE                                         ST_COLDESC  SEGLANEKEY  \\\n",
       "0          11  From same direction - both going straight - bo...         0.0   \n",
       "1          32                             One parked--one moving         0.0   \n",
       "2         NaN                                                NaN         0.0   \n",
       "3                                                            NaN         0.0   \n",
       "4                                                            NaN         0.0   \n",
       "\n",
       "   CROSSWALKKEY  HITPARKEDCAR  \n",
       "0           0.0             N  \n",
       "1           0.0             Y  \n",
       "2           0.0             N  \n",
       "3           0.0             N  \n",
       "4           0.0             N  \n",
       "\n",
       "[5 rows x 40 columns]"
      ]
     },
     "execution_count": 27,
     "metadata": {},
     "output_type": "execute_result"
    }
   ],
   "source": [
    "df.head()"
   ]
  },
  {
   "cell_type": "code",
   "execution_count": 28,
   "metadata": {},
   "outputs": [
    {
     "data": {
      "text/plain": [
       "(43776, 40)"
      ]
     },
     "execution_count": 28,
     "metadata": {},
     "output_type": "execute_result"
    }
   ],
   "source": [
    "df.shape"
   ]
  },
  {
   "cell_type": "code",
   "execution_count": 29,
   "metadata": {},
   "outputs": [
    {
     "data": {
      "text/plain": [
       "Index(['X', 'Y', 'OBJECTID', 'INCKEY', 'COLDETKEY', 'REPORTNO', 'STATUS',\n",
       "       'ADDRTYPE', 'INTKEY', 'LOCATION', 'EXCEPTRSNCODE', 'EXCEPTRSNDESC',\n",
       "       'SEVERITYCODE', 'SEVERITYDESC', 'COLLISIONTYPE', 'PERSONCOUNT',\n",
       "       'PEDCOUNT', 'PEDCYLCOUNT', 'VEHCOUNT', 'INJURIES', 'SERIOUSINJURIES',\n",
       "       'FATALITIES', 'INCDATE', 'INCDTTM', 'JUNCTIONTYPE', 'SDOT_COLCODE',\n",
       "       'SDOT_COLDESC', 'INATTENTIONIND', 'UNDERINFL', 'WEATHER', 'ROADCOND',\n",
       "       'LIGHTCOND', 'PEDROWNOTGRNT', 'SDOTCOLNUM', 'SPEEDING', 'ST_COLCODE',\n",
       "       'ST_COLDESC', 'SEGLANEKEY', 'CROSSWALKKEY', 'HITPARKEDCAR'],\n",
       "      dtype='object')"
      ]
     },
     "execution_count": 29,
     "metadata": {},
     "output_type": "execute_result"
    }
   ],
   "source": [
    "df.columns"
   ]
  },
  {
   "cell_type": "code",
   "execution_count": 30,
   "metadata": {},
   "outputs": [
    {
     "data": {
      "text/plain": [
       "0        1/22/2020 3:21:00 PM\n",
       "1         1/7/2020 8:00:00 AM\n",
       "2                   1/30/2004\n",
       "3                   1/23/2016\n",
       "4                   1/26/2020\n",
       "                 ...         \n",
       "43771    8/26/2006 2:30:00 PM\n",
       "43772    7/27/2006 7:07:00 AM\n",
       "43773               11/5/2006\n",
       "43774                7/6/2006\n",
       "43775    3/30/2006 8:10:00 AM\n",
       "Name: INCDTTM, Length: 43776, dtype: object"
      ]
     },
     "execution_count": 30,
     "metadata": {},
     "output_type": "execute_result"
    }
   ],
   "source": [
    "df['INCDTTM']"
   ]
  },
  {
   "cell_type": "code",
   "execution_count": 31,
   "metadata": {},
   "outputs": [
    {
     "data": {
      "text/plain": [
       "0       2020-01-22 15:21:00\n",
       "1       2020-01-07 08:00:00\n",
       "2       2004-01-30 00:00:00\n",
       "3       2016-01-23 00:00:00\n",
       "4       2020-01-26 00:00:00\n",
       "                ...        \n",
       "43771   2006-08-26 14:30:00\n",
       "43772   2006-07-27 07:07:00\n",
       "43773   2006-11-05 00:00:00\n",
       "43774   2006-07-06 00:00:00\n",
       "43775   2006-03-30 08:10:00\n",
       "Name: INCDTTM, Length: 43776, dtype: datetime64[ns]"
      ]
     },
     "execution_count": 31,
     "metadata": {},
     "output_type": "execute_result"
    }
   ],
   "source": [
    "# Convert INCDTTM to date type\n",
    "\n",
    "df['INCDTTM'] = pd.to_datetime(df['INCDTTM'], errors='coerce')\n",
    "df['INCDTTM']\n"
   ]
  },
  {
   "cell_type": "code",
   "execution_count": 32,
   "metadata": {},
   "outputs": [],
   "source": [
    "# Extract month, weekday, hour information\n",
    "\n",
    "df['Month']=df['INCDTTM'].dt.month\n",
    "df['Weekday']=df['INCDTTM'].dt.weekday\n",
    "df['Hour']=df['INCDTTM'].dt.hour"
   ]
  },
  {
   "cell_type": "code",
   "execution_count": 33,
   "metadata": {},
   "outputs": [
    {
     "data": {
      "text/html": [
       "<div>\n",
       "<style scoped>\n",
       "    .dataframe tbody tr th:only-of-type {\n",
       "        vertical-align: middle;\n",
       "    }\n",
       "\n",
       "    .dataframe tbody tr th {\n",
       "        vertical-align: top;\n",
       "    }\n",
       "\n",
       "    .dataframe thead th {\n",
       "        text-align: right;\n",
       "    }\n",
       "</style>\n",
       "<table border=\"1\" class=\"dataframe\">\n",
       "  <thead>\n",
       "    <tr style=\"text-align: right;\">\n",
       "      <th></th>\n",
       "      <th>X</th>\n",
       "      <th>Y</th>\n",
       "      <th>OBJECTID</th>\n",
       "      <th>INCKEY</th>\n",
       "      <th>COLDETKEY</th>\n",
       "      <th>REPORTNO</th>\n",
       "      <th>STATUS</th>\n",
       "      <th>ADDRTYPE</th>\n",
       "      <th>INTKEY</th>\n",
       "      <th>LOCATION</th>\n",
       "      <th>...</th>\n",
       "      <th>SDOTCOLNUM</th>\n",
       "      <th>SPEEDING</th>\n",
       "      <th>ST_COLCODE</th>\n",
       "      <th>ST_COLDESC</th>\n",
       "      <th>SEGLANEKEY</th>\n",
       "      <th>CROSSWALKKEY</th>\n",
       "      <th>HITPARKEDCAR</th>\n",
       "      <th>Month</th>\n",
       "      <th>Weekday</th>\n",
       "      <th>Hour</th>\n",
       "    </tr>\n",
       "  </thead>\n",
       "  <tbody>\n",
       "    <tr>\n",
       "      <th>0</th>\n",
       "      <td>-122.320757</td>\n",
       "      <td>47.609408</td>\n",
       "      <td>1</td>\n",
       "      <td>328476</td>\n",
       "      <td>329976</td>\n",
       "      <td>EA08706</td>\n",
       "      <td>Matched</td>\n",
       "      <td>Block</td>\n",
       "      <td>NaN</td>\n",
       "      <td>BROADWAY BETWEEN E COLUMBIA ST AND BOYLSTON AVE</td>\n",
       "      <td>...</td>\n",
       "      <td>NaN</td>\n",
       "      <td>NaN</td>\n",
       "      <td>11</td>\n",
       "      <td>From same direction - both going straight - bo...</td>\n",
       "      <td>0.0</td>\n",
       "      <td>0.0</td>\n",
       "      <td>N</td>\n",
       "      <td>1</td>\n",
       "      <td>2</td>\n",
       "      <td>15</td>\n",
       "    </tr>\n",
       "    <tr>\n",
       "      <th>1</th>\n",
       "      <td>-122.319561</td>\n",
       "      <td>47.662221</td>\n",
       "      <td>2</td>\n",
       "      <td>328142</td>\n",
       "      <td>329642</td>\n",
       "      <td>EA06882</td>\n",
       "      <td>Matched</td>\n",
       "      <td>Block</td>\n",
       "      <td>NaN</td>\n",
       "      <td>8TH AVE NE BETWEEN NE 45TH E ST AND NE 47TH ST</td>\n",
       "      <td>...</td>\n",
       "      <td>NaN</td>\n",
       "      <td>NaN</td>\n",
       "      <td>32</td>\n",
       "      <td>One parked--one moving</td>\n",
       "      <td>0.0</td>\n",
       "      <td>0.0</td>\n",
       "      <td>Y</td>\n",
       "      <td>1</td>\n",
       "      <td>1</td>\n",
       "      <td>8</td>\n",
       "    </tr>\n",
       "    <tr>\n",
       "      <th>2</th>\n",
       "      <td>-122.327525</td>\n",
       "      <td>47.604393</td>\n",
       "      <td>3</td>\n",
       "      <td>20700</td>\n",
       "      <td>20700</td>\n",
       "      <td>1181833</td>\n",
       "      <td>Unmatched</td>\n",
       "      <td>Block</td>\n",
       "      <td>NaN</td>\n",
       "      <td>JAMES ST BETWEEN 6TH AVE AND 7TH AVE</td>\n",
       "      <td>...</td>\n",
       "      <td>4030032.0</td>\n",
       "      <td>NaN</td>\n",
       "      <td>NaN</td>\n",
       "      <td>NaN</td>\n",
       "      <td>0.0</td>\n",
       "      <td>0.0</td>\n",
       "      <td>N</td>\n",
       "      <td>1</td>\n",
       "      <td>4</td>\n",
       "      <td>0</td>\n",
       "    </tr>\n",
       "    <tr>\n",
       "      <th>3</th>\n",
       "      <td>-122.327525</td>\n",
       "      <td>47.708622</td>\n",
       "      <td>4</td>\n",
       "      <td>332126</td>\n",
       "      <td>333626</td>\n",
       "      <td>M16001640</td>\n",
       "      <td>Unmatched</td>\n",
       "      <td>Block</td>\n",
       "      <td>NaN</td>\n",
       "      <td>NE NORTHGATE WAY BETWEEN 1ST AVE NE AND NE NOR...</td>\n",
       "      <td>...</td>\n",
       "      <td>NaN</td>\n",
       "      <td>NaN</td>\n",
       "      <td></td>\n",
       "      <td>NaN</td>\n",
       "      <td>0.0</td>\n",
       "      <td>0.0</td>\n",
       "      <td>N</td>\n",
       "      <td>1</td>\n",
       "      <td>5</td>\n",
       "      <td>0</td>\n",
       "    </tr>\n",
       "    <tr>\n",
       "      <th>4</th>\n",
       "      <td>-122.292120</td>\n",
       "      <td>47.559009</td>\n",
       "      <td>5</td>\n",
       "      <td>328238</td>\n",
       "      <td>329738</td>\n",
       "      <td>3857118</td>\n",
       "      <td>Unmatched</td>\n",
       "      <td>Block</td>\n",
       "      <td>NaN</td>\n",
       "      <td>M L KING JR ER WAY S BETWEEN S ANGELINE ST AND...</td>\n",
       "      <td>...</td>\n",
       "      <td>NaN</td>\n",
       "      <td>NaN</td>\n",
       "      <td></td>\n",
       "      <td>NaN</td>\n",
       "      <td>0.0</td>\n",
       "      <td>0.0</td>\n",
       "      <td>N</td>\n",
       "      <td>1</td>\n",
       "      <td>6</td>\n",
       "      <td>0</td>\n",
       "    </tr>\n",
       "  </tbody>\n",
       "</table>\n",
       "<p>5 rows × 43 columns</p>\n",
       "</div>"
      ],
      "text/plain": [
       "            X          Y  OBJECTID  INCKEY  COLDETKEY   REPORTNO     STATUS  \\\n",
       "0 -122.320757  47.609408         1  328476     329976    EA08706    Matched   \n",
       "1 -122.319561  47.662221         2  328142     329642    EA06882    Matched   \n",
       "2 -122.327525  47.604393         3   20700      20700    1181833  Unmatched   \n",
       "3 -122.327525  47.708622         4  332126     333626  M16001640  Unmatched   \n",
       "4 -122.292120  47.559009         5  328238     329738    3857118  Unmatched   \n",
       "\n",
       "  ADDRTYPE  INTKEY                                           LOCATION  ...  \\\n",
       "0    Block     NaN    BROADWAY BETWEEN E COLUMBIA ST AND BOYLSTON AVE  ...   \n",
       "1    Block     NaN     8TH AVE NE BETWEEN NE 45TH E ST AND NE 47TH ST  ...   \n",
       "2    Block     NaN               JAMES ST BETWEEN 6TH AVE AND 7TH AVE  ...   \n",
       "3    Block     NaN  NE NORTHGATE WAY BETWEEN 1ST AVE NE AND NE NOR...  ...   \n",
       "4    Block     NaN  M L KING JR ER WAY S BETWEEN S ANGELINE ST AND...  ...   \n",
       "\n",
       "  SDOTCOLNUM SPEEDING ST_COLCODE  \\\n",
       "0        NaN      NaN         11   \n",
       "1        NaN      NaN         32   \n",
       "2  4030032.0      NaN        NaN   \n",
       "3        NaN      NaN              \n",
       "4        NaN      NaN              \n",
       "\n",
       "                                          ST_COLDESC SEGLANEKEY  CROSSWALKKEY  \\\n",
       "0  From same direction - both going straight - bo...        0.0           0.0   \n",
       "1                             One parked--one moving        0.0           0.0   \n",
       "2                                                NaN        0.0           0.0   \n",
       "3                                                NaN        0.0           0.0   \n",
       "4                                                NaN        0.0           0.0   \n",
       "\n",
       "   HITPARKEDCAR  Month  Weekday  Hour  \n",
       "0             N      1        2    15  \n",
       "1             Y      1        1     8  \n",
       "2             N      1        4     0  \n",
       "3             N      1        5     0  \n",
       "4             N      1        6     0  \n",
       "\n",
       "[5 rows x 43 columns]"
      ]
     },
     "execution_count": 33,
     "metadata": {},
     "output_type": "execute_result"
    }
   ],
   "source": [
    "df.head()"
   ]
  },
  {
   "cell_type": "code",
   "execution_count": 36,
   "metadata": {},
   "outputs": [],
   "source": [
    "# drop duplicate varaibles\n",
    "df.drop(['INCDATE','INCDTTM'],axis=1,inplace=True)"
   ]
  },
  {
   "cell_type": "code",
   "execution_count": 37,
   "metadata": {},
   "outputs": [],
   "source": [
    "# drop key variables, since they cannot be used to predict accident severity.\n",
    "df.drop(['OBJECTID', 'INCKEY', 'COLDETKEY', 'INTKEY', 'SEGLANEKEY', 'CROSSWALKKEY'],axis=1,inplace=True)"
   ]
  },
  {
   "cell_type": "code",
   "execution_count": 38,
   "metadata": {},
   "outputs": [
    {
     "data": {
      "text/html": [
       "<div>\n",
       "<style scoped>\n",
       "    .dataframe tbody tr th:only-of-type {\n",
       "        vertical-align: middle;\n",
       "    }\n",
       "\n",
       "    .dataframe tbody tr th {\n",
       "        vertical-align: top;\n",
       "    }\n",
       "\n",
       "    .dataframe thead th {\n",
       "        text-align: right;\n",
       "    }\n",
       "</style>\n",
       "<table border=\"1\" class=\"dataframe\">\n",
       "  <thead>\n",
       "    <tr style=\"text-align: right;\">\n",
       "      <th></th>\n",
       "      <th>X</th>\n",
       "      <th>Y</th>\n",
       "      <th>ADDRTYPE</th>\n",
       "      <th>LOCATION</th>\n",
       "      <th>SEVERITYCODE</th>\n",
       "      <th>SEVERITYDESC</th>\n",
       "      <th>COLLISIONTYPE</th>\n",
       "      <th>PERSONCOUNT</th>\n",
       "      <th>PEDCOUNT</th>\n",
       "      <th>PEDCYLCOUNT</th>\n",
       "      <th>...</th>\n",
       "      <th>ROADCOND</th>\n",
       "      <th>LIGHTCOND</th>\n",
       "      <th>PEDROWNOTGRNT</th>\n",
       "      <th>SPEEDING</th>\n",
       "      <th>ST_COLCODE</th>\n",
       "      <th>ST_COLDESC</th>\n",
       "      <th>HITPARKEDCAR</th>\n",
       "      <th>Month</th>\n",
       "      <th>Weekday</th>\n",
       "      <th>Hour</th>\n",
       "    </tr>\n",
       "  </thead>\n",
       "  <tbody>\n",
       "    <tr>\n",
       "      <th>0</th>\n",
       "      <td>-122.320757</td>\n",
       "      <td>47.609408</td>\n",
       "      <td>Block</td>\n",
       "      <td>BROADWAY BETWEEN E COLUMBIA ST AND BOYLSTON AVE</td>\n",
       "      <td>1</td>\n",
       "      <td>Property Damage Only Collision</td>\n",
       "      <td>Sideswipe</td>\n",
       "      <td>2</td>\n",
       "      <td>0</td>\n",
       "      <td>0</td>\n",
       "      <td>...</td>\n",
       "      <td>Wet</td>\n",
       "      <td>Dark - Street Lights On</td>\n",
       "      <td>NaN</td>\n",
       "      <td>NaN</td>\n",
       "      <td>11</td>\n",
       "      <td>From same direction - both going straight - bo...</td>\n",
       "      <td>N</td>\n",
       "      <td>1</td>\n",
       "      <td>2</td>\n",
       "      <td>15</td>\n",
       "    </tr>\n",
       "    <tr>\n",
       "      <th>1</th>\n",
       "      <td>-122.319561</td>\n",
       "      <td>47.662221</td>\n",
       "      <td>Block</td>\n",
       "      <td>8TH AVE NE BETWEEN NE 45TH E ST AND NE 47TH ST</td>\n",
       "      <td>1</td>\n",
       "      <td>Property Damage Only Collision</td>\n",
       "      <td>Parked Car</td>\n",
       "      <td>2</td>\n",
       "      <td>0</td>\n",
       "      <td>0</td>\n",
       "      <td>...</td>\n",
       "      <td>Dry</td>\n",
       "      <td>Daylight</td>\n",
       "      <td>NaN</td>\n",
       "      <td>NaN</td>\n",
       "      <td>32</td>\n",
       "      <td>One parked--one moving</td>\n",
       "      <td>Y</td>\n",
       "      <td>1</td>\n",
       "      <td>1</td>\n",
       "      <td>8</td>\n",
       "    </tr>\n",
       "    <tr>\n",
       "      <th>2</th>\n",
       "      <td>-122.327525</td>\n",
       "      <td>47.604393</td>\n",
       "      <td>Block</td>\n",
       "      <td>JAMES ST BETWEEN 6TH AVE AND 7TH AVE</td>\n",
       "      <td>0</td>\n",
       "      <td>Unknown</td>\n",
       "      <td>NaN</td>\n",
       "      <td>0</td>\n",
       "      <td>0</td>\n",
       "      <td>0</td>\n",
       "      <td>...</td>\n",
       "      <td>NaN</td>\n",
       "      <td>NaN</td>\n",
       "      <td>NaN</td>\n",
       "      <td>NaN</td>\n",
       "      <td>NaN</td>\n",
       "      <td>NaN</td>\n",
       "      <td>N</td>\n",
       "      <td>1</td>\n",
       "      <td>4</td>\n",
       "      <td>0</td>\n",
       "    </tr>\n",
       "    <tr>\n",
       "      <th>3</th>\n",
       "      <td>-122.327525</td>\n",
       "      <td>47.708622</td>\n",
       "      <td>Block</td>\n",
       "      <td>NE NORTHGATE WAY BETWEEN 1ST AVE NE AND NE NOR...</td>\n",
       "      <td>0</td>\n",
       "      <td>Unknown</td>\n",
       "      <td>NaN</td>\n",
       "      <td>0</td>\n",
       "      <td>0</td>\n",
       "      <td>0</td>\n",
       "      <td>...</td>\n",
       "      <td>NaN</td>\n",
       "      <td>NaN</td>\n",
       "      <td>NaN</td>\n",
       "      <td>NaN</td>\n",
       "      <td></td>\n",
       "      <td>NaN</td>\n",
       "      <td>N</td>\n",
       "      <td>1</td>\n",
       "      <td>5</td>\n",
       "      <td>0</td>\n",
       "    </tr>\n",
       "    <tr>\n",
       "      <th>4</th>\n",
       "      <td>-122.292120</td>\n",
       "      <td>47.559009</td>\n",
       "      <td>Block</td>\n",
       "      <td>M L KING JR ER WAY S BETWEEN S ANGELINE ST AND...</td>\n",
       "      <td>0</td>\n",
       "      <td>Unknown</td>\n",
       "      <td>NaN</td>\n",
       "      <td>0</td>\n",
       "      <td>0</td>\n",
       "      <td>0</td>\n",
       "      <td>...</td>\n",
       "      <td>NaN</td>\n",
       "      <td>NaN</td>\n",
       "      <td>NaN</td>\n",
       "      <td>NaN</td>\n",
       "      <td></td>\n",
       "      <td>NaN</td>\n",
       "      <td>N</td>\n",
       "      <td>1</td>\n",
       "      <td>6</td>\n",
       "      <td>0</td>\n",
       "    </tr>\n",
       "  </tbody>\n",
       "</table>\n",
       "<p>5 rows × 30 columns</p>\n",
       "</div>"
      ],
      "text/plain": [
       "            X          Y ADDRTYPE  \\\n",
       "0 -122.320757  47.609408    Block   \n",
       "1 -122.319561  47.662221    Block   \n",
       "2 -122.327525  47.604393    Block   \n",
       "3 -122.327525  47.708622    Block   \n",
       "4 -122.292120  47.559009    Block   \n",
       "\n",
       "                                            LOCATION SEVERITYCODE  \\\n",
       "0    BROADWAY BETWEEN E COLUMBIA ST AND BOYLSTON AVE            1   \n",
       "1     8TH AVE NE BETWEEN NE 45TH E ST AND NE 47TH ST            1   \n",
       "2               JAMES ST BETWEEN 6TH AVE AND 7TH AVE            0   \n",
       "3  NE NORTHGATE WAY BETWEEN 1ST AVE NE AND NE NOR...            0   \n",
       "4  M L KING JR ER WAY S BETWEEN S ANGELINE ST AND...            0   \n",
       "\n",
       "                     SEVERITYDESC COLLISIONTYPE  PERSONCOUNT  PEDCOUNT  \\\n",
       "0  Property Damage Only Collision     Sideswipe            2         0   \n",
       "1  Property Damage Only Collision    Parked Car            2         0   \n",
       "2                         Unknown           NaN            0         0   \n",
       "3                         Unknown           NaN            0         0   \n",
       "4                         Unknown           NaN            0         0   \n",
       "\n",
       "   PEDCYLCOUNT  ...  ROADCOND                LIGHTCOND  PEDROWNOTGRNT  \\\n",
       "0            0  ...       Wet  Dark - Street Lights On            NaN   \n",
       "1            0  ...       Dry                 Daylight            NaN   \n",
       "2            0  ...       NaN                      NaN            NaN   \n",
       "3            0  ...       NaN                      NaN            NaN   \n",
       "4            0  ...       NaN                      NaN            NaN   \n",
       "\n",
       "   SPEEDING ST_COLCODE                                         ST_COLDESC  \\\n",
       "0       NaN         11  From same direction - both going straight - bo...   \n",
       "1       NaN         32                             One parked--one moving   \n",
       "2       NaN        NaN                                                NaN   \n",
       "3       NaN                                                           NaN   \n",
       "4       NaN                                                           NaN   \n",
       "\n",
       "  HITPARKEDCAR Month Weekday Hour  \n",
       "0            N     1       2   15  \n",
       "1            Y     1       1    8  \n",
       "2            N     1       4    0  \n",
       "3            N     1       5    0  \n",
       "4            N     1       6    0  \n",
       "\n",
       "[5 rows x 30 columns]"
      ]
     },
     "execution_count": 38,
     "metadata": {},
     "output_type": "execute_result"
    }
   ],
   "source": [
    "df.head()"
   ]
  },
  {
   "cell_type": "code",
   "execution_count": 40,
   "metadata": {},
   "outputs": [
    {
     "data": {
      "text/plain": [
       "Index(['X', 'Y', 'ADDRTYPE', 'LOCATION', 'SEVERITYCODE', 'SEVERITYDESC',\n",
       "       'COLLISIONTYPE', 'PERSONCOUNT', 'PEDCOUNT', 'PEDCYLCOUNT', 'VEHCOUNT',\n",
       "       'INJURIES', 'SERIOUSINJURIES', 'FATALITIES', 'JUNCTIONTYPE',\n",
       "       'SDOT_COLCODE', 'SDOT_COLDESC', 'INATTENTIONIND', 'UNDERINFL',\n",
       "       'WEATHER', 'ROADCOND', 'LIGHTCOND', 'PEDROWNOTGRNT', 'SPEEDING',\n",
       "       'ST_COLCODE', 'ST_COLDESC', 'HITPARKEDCAR', 'Month', 'Weekday', 'Hour'],\n",
       "      dtype='object')"
      ]
     },
     "execution_count": 40,
     "metadata": {},
     "output_type": "execute_result"
    }
   ],
   "source": [
    "df.columns"
   ]
  },
  {
   "cell_type": "code",
   "execution_count": 41,
   "metadata": {},
   "outputs": [],
   "source": [
    "# Drop columns having descriptions corresponding to codes:\n",
    "# EXCEPTRSNDESC, SEVERITYDESC, SDOT_COLDESC, ST_COLDESC\n",
    "\n",
    "df.drop(['SEVERITYDESC', 'SDOT_COLDESC', 'ST_COLDESC', 'LOCATION'], axis=1, inplace=True)"
   ]
  },
  {
   "cell_type": "code",
   "execution_count": 42,
   "metadata": {},
   "outputs": [
    {
     "data": {
      "text/html": [
       "<div>\n",
       "<style scoped>\n",
       "    .dataframe tbody tr th:only-of-type {\n",
       "        vertical-align: middle;\n",
       "    }\n",
       "\n",
       "    .dataframe tbody tr th {\n",
       "        vertical-align: top;\n",
       "    }\n",
       "\n",
       "    .dataframe thead th {\n",
       "        text-align: right;\n",
       "    }\n",
       "</style>\n",
       "<table border=\"1\" class=\"dataframe\">\n",
       "  <thead>\n",
       "    <tr style=\"text-align: right;\">\n",
       "      <th></th>\n",
       "      <th>X</th>\n",
       "      <th>Y</th>\n",
       "      <th>ADDRTYPE</th>\n",
       "      <th>SEVERITYCODE</th>\n",
       "      <th>COLLISIONTYPE</th>\n",
       "      <th>PERSONCOUNT</th>\n",
       "      <th>PEDCOUNT</th>\n",
       "      <th>PEDCYLCOUNT</th>\n",
       "      <th>VEHCOUNT</th>\n",
       "      <th>INJURIES</th>\n",
       "      <th>...</th>\n",
       "      <th>WEATHER</th>\n",
       "      <th>ROADCOND</th>\n",
       "      <th>LIGHTCOND</th>\n",
       "      <th>PEDROWNOTGRNT</th>\n",
       "      <th>SPEEDING</th>\n",
       "      <th>ST_COLCODE</th>\n",
       "      <th>HITPARKEDCAR</th>\n",
       "      <th>Month</th>\n",
       "      <th>Weekday</th>\n",
       "      <th>Hour</th>\n",
       "    </tr>\n",
       "  </thead>\n",
       "  <tbody>\n",
       "    <tr>\n",
       "      <th>0</th>\n",
       "      <td>-122.320757</td>\n",
       "      <td>47.609408</td>\n",
       "      <td>Block</td>\n",
       "      <td>1</td>\n",
       "      <td>Sideswipe</td>\n",
       "      <td>2</td>\n",
       "      <td>0</td>\n",
       "      <td>0</td>\n",
       "      <td>2</td>\n",
       "      <td>0</td>\n",
       "      <td>...</td>\n",
       "      <td>Raining</td>\n",
       "      <td>Wet</td>\n",
       "      <td>Dark - Street Lights On</td>\n",
       "      <td>NaN</td>\n",
       "      <td>NaN</td>\n",
       "      <td>11</td>\n",
       "      <td>N</td>\n",
       "      <td>1</td>\n",
       "      <td>2</td>\n",
       "      <td>15</td>\n",
       "    </tr>\n",
       "    <tr>\n",
       "      <th>1</th>\n",
       "      <td>-122.319561</td>\n",
       "      <td>47.662221</td>\n",
       "      <td>Block</td>\n",
       "      <td>1</td>\n",
       "      <td>Parked Car</td>\n",
       "      <td>2</td>\n",
       "      <td>0</td>\n",
       "      <td>0</td>\n",
       "      <td>2</td>\n",
       "      <td>0</td>\n",
       "      <td>...</td>\n",
       "      <td>Clear</td>\n",
       "      <td>Dry</td>\n",
       "      <td>Daylight</td>\n",
       "      <td>NaN</td>\n",
       "      <td>NaN</td>\n",
       "      <td>32</td>\n",
       "      <td>Y</td>\n",
       "      <td>1</td>\n",
       "      <td>1</td>\n",
       "      <td>8</td>\n",
       "    </tr>\n",
       "    <tr>\n",
       "      <th>2</th>\n",
       "      <td>-122.327525</td>\n",
       "      <td>47.604393</td>\n",
       "      <td>Block</td>\n",
       "      <td>0</td>\n",
       "      <td>NaN</td>\n",
       "      <td>0</td>\n",
       "      <td>0</td>\n",
       "      <td>0</td>\n",
       "      <td>0</td>\n",
       "      <td>0</td>\n",
       "      <td>...</td>\n",
       "      <td>NaN</td>\n",
       "      <td>NaN</td>\n",
       "      <td>NaN</td>\n",
       "      <td>NaN</td>\n",
       "      <td>NaN</td>\n",
       "      <td>NaN</td>\n",
       "      <td>N</td>\n",
       "      <td>1</td>\n",
       "      <td>4</td>\n",
       "      <td>0</td>\n",
       "    </tr>\n",
       "    <tr>\n",
       "      <th>3</th>\n",
       "      <td>-122.327525</td>\n",
       "      <td>47.708622</td>\n",
       "      <td>Block</td>\n",
       "      <td>0</td>\n",
       "      <td>NaN</td>\n",
       "      <td>0</td>\n",
       "      <td>0</td>\n",
       "      <td>0</td>\n",
       "      <td>0</td>\n",
       "      <td>0</td>\n",
       "      <td>...</td>\n",
       "      <td>NaN</td>\n",
       "      <td>NaN</td>\n",
       "      <td>NaN</td>\n",
       "      <td>NaN</td>\n",
       "      <td>NaN</td>\n",
       "      <td></td>\n",
       "      <td>N</td>\n",
       "      <td>1</td>\n",
       "      <td>5</td>\n",
       "      <td>0</td>\n",
       "    </tr>\n",
       "    <tr>\n",
       "      <th>4</th>\n",
       "      <td>-122.292120</td>\n",
       "      <td>47.559009</td>\n",
       "      <td>Block</td>\n",
       "      <td>0</td>\n",
       "      <td>NaN</td>\n",
       "      <td>0</td>\n",
       "      <td>0</td>\n",
       "      <td>0</td>\n",
       "      <td>0</td>\n",
       "      <td>0</td>\n",
       "      <td>...</td>\n",
       "      <td>NaN</td>\n",
       "      <td>NaN</td>\n",
       "      <td>NaN</td>\n",
       "      <td>NaN</td>\n",
       "      <td>NaN</td>\n",
       "      <td></td>\n",
       "      <td>N</td>\n",
       "      <td>1</td>\n",
       "      <td>6</td>\n",
       "      <td>0</td>\n",
       "    </tr>\n",
       "  </tbody>\n",
       "</table>\n",
       "<p>5 rows × 26 columns</p>\n",
       "</div>"
      ],
      "text/plain": [
       "            X          Y ADDRTYPE SEVERITYCODE COLLISIONTYPE  PERSONCOUNT  \\\n",
       "0 -122.320757  47.609408    Block            1     Sideswipe            2   \n",
       "1 -122.319561  47.662221    Block            1    Parked Car            2   \n",
       "2 -122.327525  47.604393    Block            0           NaN            0   \n",
       "3 -122.327525  47.708622    Block            0           NaN            0   \n",
       "4 -122.292120  47.559009    Block            0           NaN            0   \n",
       "\n",
       "   PEDCOUNT  PEDCYLCOUNT  VEHCOUNT  INJURIES  ...  WEATHER  ROADCOND  \\\n",
       "0         0            0         2         0  ...  Raining       Wet   \n",
       "1         0            0         2         0  ...    Clear       Dry   \n",
       "2         0            0         0         0  ...      NaN       NaN   \n",
       "3         0            0         0         0  ...      NaN       NaN   \n",
       "4         0            0         0         0  ...      NaN       NaN   \n",
       "\n",
       "                 LIGHTCOND  PEDROWNOTGRNT SPEEDING ST_COLCODE HITPARKEDCAR  \\\n",
       "0  Dark - Street Lights On            NaN      NaN         11            N   \n",
       "1                 Daylight            NaN      NaN         32            Y   \n",
       "2                      NaN            NaN      NaN        NaN            N   \n",
       "3                      NaN            NaN      NaN                       N   \n",
       "4                      NaN            NaN      NaN                       N   \n",
       "\n",
       "  Month Weekday Hour  \n",
       "0     1       2   15  \n",
       "1     1       1    8  \n",
       "2     1       4    0  \n",
       "3     1       5    0  \n",
       "4     1       6    0  \n",
       "\n",
       "[5 rows x 26 columns]"
      ]
     },
     "execution_count": 42,
     "metadata": {},
     "output_type": "execute_result"
    }
   ],
   "source": [
    "df.head()"
   ]
  },
  {
   "cell_type": "code",
   "execution_count": 43,
   "metadata": {},
   "outputs": [],
   "source": [
    "# since we have ST_COLCODE, SDOT_COLCODE is not needed.\n",
    "df.drop(['SDOT_COLCODE'], axis=1, inplace=True)"
   ]
  },
  {
   "cell_type": "code",
   "execution_count": 44,
   "metadata": {},
   "outputs": [],
   "source": [
    "# save this data file as a new scv file\n",
    "filename='New-Data-Collision'\n",
    "df.to_csv(filename,index=False)"
   ]
  },
  {
   "cell_type": "code",
   "execution_count": 45,
   "metadata": {},
   "outputs": [
    {
     "data": {
      "text/html": [
       "<div>\n",
       "<style scoped>\n",
       "    .dataframe tbody tr th:only-of-type {\n",
       "        vertical-align: middle;\n",
       "    }\n",
       "\n",
       "    .dataframe tbody tr th {\n",
       "        vertical-align: top;\n",
       "    }\n",
       "\n",
       "    .dataframe thead th {\n",
       "        text-align: right;\n",
       "    }\n",
       "</style>\n",
       "<table border=\"1\" class=\"dataframe\">\n",
       "  <thead>\n",
       "    <tr style=\"text-align: right;\">\n",
       "      <th></th>\n",
       "      <th>X</th>\n",
       "      <th>Y</th>\n",
       "      <th>ADDRTYPE</th>\n",
       "      <th>SEVERITYCODE</th>\n",
       "      <th>COLLISIONTYPE</th>\n",
       "      <th>PERSONCOUNT</th>\n",
       "      <th>PEDCOUNT</th>\n",
       "      <th>PEDCYLCOUNT</th>\n",
       "      <th>VEHCOUNT</th>\n",
       "      <th>INJURIES</th>\n",
       "      <th>...</th>\n",
       "      <th>WEATHER</th>\n",
       "      <th>ROADCOND</th>\n",
       "      <th>LIGHTCOND</th>\n",
       "      <th>PEDROWNOTGRNT</th>\n",
       "      <th>SPEEDING</th>\n",
       "      <th>ST_COLCODE</th>\n",
       "      <th>HITPARKEDCAR</th>\n",
       "      <th>Month</th>\n",
       "      <th>Weekday</th>\n",
       "      <th>Hour</th>\n",
       "    </tr>\n",
       "  </thead>\n",
       "  <tbody>\n",
       "    <tr>\n",
       "      <th>0</th>\n",
       "      <td>-122.320757</td>\n",
       "      <td>47.609408</td>\n",
       "      <td>Block</td>\n",
       "      <td>1</td>\n",
       "      <td>Sideswipe</td>\n",
       "      <td>2</td>\n",
       "      <td>0</td>\n",
       "      <td>0</td>\n",
       "      <td>2</td>\n",
       "      <td>0</td>\n",
       "      <td>...</td>\n",
       "      <td>Raining</td>\n",
       "      <td>Wet</td>\n",
       "      <td>Dark - Street Lights On</td>\n",
       "      <td>NaN</td>\n",
       "      <td>NaN</td>\n",
       "      <td>11</td>\n",
       "      <td>N</td>\n",
       "      <td>1</td>\n",
       "      <td>2</td>\n",
       "      <td>15</td>\n",
       "    </tr>\n",
       "    <tr>\n",
       "      <th>1</th>\n",
       "      <td>-122.319561</td>\n",
       "      <td>47.662221</td>\n",
       "      <td>Block</td>\n",
       "      <td>1</td>\n",
       "      <td>Parked Car</td>\n",
       "      <td>2</td>\n",
       "      <td>0</td>\n",
       "      <td>0</td>\n",
       "      <td>2</td>\n",
       "      <td>0</td>\n",
       "      <td>...</td>\n",
       "      <td>Clear</td>\n",
       "      <td>Dry</td>\n",
       "      <td>Daylight</td>\n",
       "      <td>NaN</td>\n",
       "      <td>NaN</td>\n",
       "      <td>32</td>\n",
       "      <td>Y</td>\n",
       "      <td>1</td>\n",
       "      <td>1</td>\n",
       "      <td>8</td>\n",
       "    </tr>\n",
       "    <tr>\n",
       "      <th>2</th>\n",
       "      <td>-122.327525</td>\n",
       "      <td>47.604393</td>\n",
       "      <td>Block</td>\n",
       "      <td>0</td>\n",
       "      <td>NaN</td>\n",
       "      <td>0</td>\n",
       "      <td>0</td>\n",
       "      <td>0</td>\n",
       "      <td>0</td>\n",
       "      <td>0</td>\n",
       "      <td>...</td>\n",
       "      <td>NaN</td>\n",
       "      <td>NaN</td>\n",
       "      <td>NaN</td>\n",
       "      <td>NaN</td>\n",
       "      <td>NaN</td>\n",
       "      <td>NaN</td>\n",
       "      <td>N</td>\n",
       "      <td>1</td>\n",
       "      <td>4</td>\n",
       "      <td>0</td>\n",
       "    </tr>\n",
       "    <tr>\n",
       "      <th>3</th>\n",
       "      <td>-122.327525</td>\n",
       "      <td>47.708622</td>\n",
       "      <td>Block</td>\n",
       "      <td>0</td>\n",
       "      <td>NaN</td>\n",
       "      <td>0</td>\n",
       "      <td>0</td>\n",
       "      <td>0</td>\n",
       "      <td>0</td>\n",
       "      <td>0</td>\n",
       "      <td>...</td>\n",
       "      <td>NaN</td>\n",
       "      <td>NaN</td>\n",
       "      <td>NaN</td>\n",
       "      <td>NaN</td>\n",
       "      <td>NaN</td>\n",
       "      <td></td>\n",
       "      <td>N</td>\n",
       "      <td>1</td>\n",
       "      <td>5</td>\n",
       "      <td>0</td>\n",
       "    </tr>\n",
       "    <tr>\n",
       "      <th>4</th>\n",
       "      <td>-122.292120</td>\n",
       "      <td>47.559009</td>\n",
       "      <td>Block</td>\n",
       "      <td>0</td>\n",
       "      <td>NaN</td>\n",
       "      <td>0</td>\n",
       "      <td>0</td>\n",
       "      <td>0</td>\n",
       "      <td>0</td>\n",
       "      <td>0</td>\n",
       "      <td>...</td>\n",
       "      <td>NaN</td>\n",
       "      <td>NaN</td>\n",
       "      <td>NaN</td>\n",
       "      <td>NaN</td>\n",
       "      <td>NaN</td>\n",
       "      <td></td>\n",
       "      <td>N</td>\n",
       "      <td>1</td>\n",
       "      <td>6</td>\n",
       "      <td>0</td>\n",
       "    </tr>\n",
       "  </tbody>\n",
       "</table>\n",
       "<p>5 rows × 25 columns</p>\n",
       "</div>"
      ],
      "text/plain": [
       "            X          Y ADDRTYPE SEVERITYCODE COLLISIONTYPE  PERSONCOUNT  \\\n",
       "0 -122.320757  47.609408    Block            1     Sideswipe            2   \n",
       "1 -122.319561  47.662221    Block            1    Parked Car            2   \n",
       "2 -122.327525  47.604393    Block            0           NaN            0   \n",
       "3 -122.327525  47.708622    Block            0           NaN            0   \n",
       "4 -122.292120  47.559009    Block            0           NaN            0   \n",
       "\n",
       "   PEDCOUNT  PEDCYLCOUNT  VEHCOUNT  INJURIES  ...  WEATHER  ROADCOND  \\\n",
       "0         0            0         2         0  ...  Raining       Wet   \n",
       "1         0            0         2         0  ...    Clear       Dry   \n",
       "2         0            0         0         0  ...      NaN       NaN   \n",
       "3         0            0         0         0  ...      NaN       NaN   \n",
       "4         0            0         0         0  ...      NaN       NaN   \n",
       "\n",
       "                 LIGHTCOND PEDROWNOTGRNT SPEEDING ST_COLCODE HITPARKEDCAR  \\\n",
       "0  Dark - Street Lights On           NaN      NaN         11            N   \n",
       "1                 Daylight           NaN      NaN         32            Y   \n",
       "2                      NaN           NaN      NaN        NaN            N   \n",
       "3                      NaN           NaN      NaN                       N   \n",
       "4                      NaN           NaN      NaN                       N   \n",
       "\n",
       "  Month Weekday Hour  \n",
       "0     1       2   15  \n",
       "1     1       1    8  \n",
       "2     1       4    0  \n",
       "3     1       5    0  \n",
       "4     1       6    0  \n",
       "\n",
       "[5 rows x 25 columns]"
      ]
     },
     "execution_count": 45,
     "metadata": {},
     "output_type": "execute_result"
    }
   ],
   "source": [
    "df.head()"
   ]
  },
  {
   "cell_type": "code",
   "execution_count": 46,
   "metadata": {},
   "outputs": [
    {
     "data": {
      "text/plain": [
       "1     0.619106\n",
       "2     0.261285\n",
       "0     0.103459\n",
       "2b    0.014323\n",
       "3     0.001827\n",
       "Name: SEVERITYCODE, dtype: float64"
      ]
     },
     "execution_count": 46,
     "metadata": {},
     "output_type": "execute_result"
    }
   ],
   "source": [
    "df['SEVERITYCODE'].value_counts(normalize=True, dropna=False)"
   ]
  },
  {
   "cell_type": "code",
   "execution_count": 47,
   "metadata": {},
   "outputs": [
    {
     "data": {
      "text/plain": [
       "(43776, 25)"
      ]
     },
     "execution_count": 47,
     "metadata": {},
     "output_type": "execute_result"
    }
   ],
   "source": [
    "df.shape"
   ]
  },
  {
   "cell_type": "code",
   "execution_count": 32,
   "metadata": {},
   "outputs": [],
   "source": [
    "df=pd.read_csv('New-Data-Collision')"
   ]
  },
  {
   "cell_type": "code",
   "execution_count": 33,
   "metadata": {},
   "outputs": [],
   "source": [
    "df['SEVERITYCODE'].replace('0', np.nan, inplace=True)\n",
    "df.dropna(axis=0,subset=['SEVERITYCODE'], inplace=True)"
   ]
  },
  {
   "cell_type": "code",
   "execution_count": 34,
   "metadata": {},
   "outputs": [
    {
     "data": {
      "text/html": [
       "<div>\n",
       "<style scoped>\n",
       "    .dataframe tbody tr th:only-of-type {\n",
       "        vertical-align: middle;\n",
       "    }\n",
       "\n",
       "    .dataframe tbody tr th {\n",
       "        vertical-align: top;\n",
       "    }\n",
       "\n",
       "    .dataframe thead th {\n",
       "        text-align: right;\n",
       "    }\n",
       "</style>\n",
       "<table border=\"1\" class=\"dataframe\">\n",
       "  <thead>\n",
       "    <tr style=\"text-align: right;\">\n",
       "      <th></th>\n",
       "      <th>X</th>\n",
       "      <th>Y</th>\n",
       "      <th>ADDRTYPE</th>\n",
       "      <th>SEVERITYCODE</th>\n",
       "      <th>COLLISIONTYPE</th>\n",
       "      <th>PERSONCOUNT</th>\n",
       "      <th>PEDCOUNT</th>\n",
       "      <th>PEDCYLCOUNT</th>\n",
       "      <th>VEHCOUNT</th>\n",
       "      <th>INJURIES</th>\n",
       "      <th>...</th>\n",
       "      <th>WEATHER</th>\n",
       "      <th>ROADCOND</th>\n",
       "      <th>LIGHTCOND</th>\n",
       "      <th>PEDROWNOTGRNT</th>\n",
       "      <th>SPEEDING</th>\n",
       "      <th>ST_COLCODE</th>\n",
       "      <th>HITPARKEDCAR</th>\n",
       "      <th>Month</th>\n",
       "      <th>Weekday</th>\n",
       "      <th>Hour</th>\n",
       "    </tr>\n",
       "  </thead>\n",
       "  <tbody>\n",
       "    <tr>\n",
       "      <th>0</th>\n",
       "      <td>-122.320757</td>\n",
       "      <td>47.609408</td>\n",
       "      <td>Block</td>\n",
       "      <td>1</td>\n",
       "      <td>Sideswipe</td>\n",
       "      <td>2</td>\n",
       "      <td>0</td>\n",
       "      <td>0</td>\n",
       "      <td>2</td>\n",
       "      <td>0</td>\n",
       "      <td>...</td>\n",
       "      <td>Raining</td>\n",
       "      <td>Wet</td>\n",
       "      <td>Dark - Street Lights On</td>\n",
       "      <td>NaN</td>\n",
       "      <td>NaN</td>\n",
       "      <td>11</td>\n",
       "      <td>N</td>\n",
       "      <td>1</td>\n",
       "      <td>2</td>\n",
       "      <td>15</td>\n",
       "    </tr>\n",
       "    <tr>\n",
       "      <th>1</th>\n",
       "      <td>-122.319561</td>\n",
       "      <td>47.662221</td>\n",
       "      <td>Block</td>\n",
       "      <td>1</td>\n",
       "      <td>Parked Car</td>\n",
       "      <td>2</td>\n",
       "      <td>0</td>\n",
       "      <td>0</td>\n",
       "      <td>2</td>\n",
       "      <td>0</td>\n",
       "      <td>...</td>\n",
       "      <td>Clear</td>\n",
       "      <td>Dry</td>\n",
       "      <td>Daylight</td>\n",
       "      <td>NaN</td>\n",
       "      <td>NaN</td>\n",
       "      <td>32</td>\n",
       "      <td>Y</td>\n",
       "      <td>1</td>\n",
       "      <td>1</td>\n",
       "      <td>8</td>\n",
       "    </tr>\n",
       "    <tr>\n",
       "      <th>5</th>\n",
       "      <td>-122.374194</td>\n",
       "      <td>47.564076</td>\n",
       "      <td>Block</td>\n",
       "      <td>1</td>\n",
       "      <td>Rear Ended</td>\n",
       "      <td>2</td>\n",
       "      <td>0</td>\n",
       "      <td>0</td>\n",
       "      <td>2</td>\n",
       "      <td>0</td>\n",
       "      <td>...</td>\n",
       "      <td>Clear</td>\n",
       "      <td>Dry</td>\n",
       "      <td>Daylight</td>\n",
       "      <td>NaN</td>\n",
       "      <td>NaN</td>\n",
       "      <td>14</td>\n",
       "      <td>N</td>\n",
       "      <td>6</td>\n",
       "      <td>3</td>\n",
       "      <td>17</td>\n",
       "    </tr>\n",
       "    <tr>\n",
       "      <th>6</th>\n",
       "      <td>-122.290734</td>\n",
       "      <td>47.709276</td>\n",
       "      <td>Block</td>\n",
       "      <td>1</td>\n",
       "      <td>Other</td>\n",
       "      <td>2</td>\n",
       "      <td>0</td>\n",
       "      <td>0</td>\n",
       "      <td>1</td>\n",
       "      <td>0</td>\n",
       "      <td>...</td>\n",
       "      <td>Clear</td>\n",
       "      <td>Wet</td>\n",
       "      <td>Daylight</td>\n",
       "      <td>NaN</td>\n",
       "      <td>Y</td>\n",
       "      <td>50</td>\n",
       "      <td>N</td>\n",
       "      <td>2</td>\n",
       "      <td>0</td>\n",
       "      <td>9</td>\n",
       "    </tr>\n",
       "    <tr>\n",
       "      <th>8</th>\n",
       "      <td>-122.336565</td>\n",
       "      <td>47.590398</td>\n",
       "      <td>Intersection</td>\n",
       "      <td>1</td>\n",
       "      <td>Sideswipe</td>\n",
       "      <td>2</td>\n",
       "      <td>0</td>\n",
       "      <td>0</td>\n",
       "      <td>2</td>\n",
       "      <td>0</td>\n",
       "      <td>...</td>\n",
       "      <td>Overcast</td>\n",
       "      <td>Dry</td>\n",
       "      <td>Daylight</td>\n",
       "      <td>NaN</td>\n",
       "      <td>NaN</td>\n",
       "      <td>81</td>\n",
       "      <td>N</td>\n",
       "      <td>1</td>\n",
       "      <td>3</td>\n",
       "      <td>8</td>\n",
       "    </tr>\n",
       "  </tbody>\n",
       "</table>\n",
       "<p>5 rows × 25 columns</p>\n",
       "</div>"
      ],
      "text/plain": [
       "            X          Y      ADDRTYPE SEVERITYCODE COLLISIONTYPE  \\\n",
       "0 -122.320757  47.609408         Block            1     Sideswipe   \n",
       "1 -122.319561  47.662221         Block            1    Parked Car   \n",
       "5 -122.374194  47.564076         Block            1    Rear Ended   \n",
       "6 -122.290734  47.709276         Block            1         Other   \n",
       "8 -122.336565  47.590398  Intersection            1     Sideswipe   \n",
       "\n",
       "   PERSONCOUNT  PEDCOUNT  PEDCYLCOUNT  VEHCOUNT  INJURIES  ...   WEATHER  \\\n",
       "0            2         0            0         2         0  ...   Raining   \n",
       "1            2         0            0         2         0  ...     Clear   \n",
       "5            2         0            0         2         0  ...     Clear   \n",
       "6            2         0            0         1         0  ...     Clear   \n",
       "8            2         0            0         2         0  ...  Overcast   \n",
       "\n",
       "   ROADCOND                LIGHTCOND PEDROWNOTGRNT SPEEDING ST_COLCODE  \\\n",
       "0       Wet  Dark - Street Lights On           NaN      NaN         11   \n",
       "1       Dry                 Daylight           NaN      NaN         32   \n",
       "5       Dry                 Daylight           NaN      NaN         14   \n",
       "6       Wet                 Daylight           NaN        Y         50   \n",
       "8       Dry                 Daylight           NaN      NaN         81   \n",
       "\n",
       "  HITPARKEDCAR Month Weekday Hour  \n",
       "0            N     1       2   15  \n",
       "1            Y     1       1    8  \n",
       "5            N     6       3   17  \n",
       "6            N     2       0    9  \n",
       "8            N     1       3    8  \n",
       "\n",
       "[5 rows x 25 columns]"
      ]
     },
     "execution_count": 34,
     "metadata": {},
     "output_type": "execute_result"
    }
   ],
   "source": [
    "df.head()"
   ]
  },
  {
   "cell_type": "code",
   "execution_count": 35,
   "metadata": {},
   "outputs": [
    {
     "data": {
      "text/plain": [
       "X                  float64\n",
       "Y                  float64\n",
       "ADDRTYPE            object\n",
       "SEVERITYCODE        object\n",
       "COLLISIONTYPE       object\n",
       "PERSONCOUNT          int64\n",
       "PEDCOUNT             int64\n",
       "PEDCYLCOUNT          int64\n",
       "VEHCOUNT             int64\n",
       "INJURIES             int64\n",
       "SERIOUSINJURIES      int64\n",
       "FATALITIES           int64\n",
       "JUNCTIONTYPE        object\n",
       "INATTENTIONIND      object\n",
       "UNDERINFL           object\n",
       "WEATHER             object\n",
       "ROADCOND            object\n",
       "LIGHTCOND           object\n",
       "PEDROWNOTGRNT       object\n",
       "SPEEDING            object\n",
       "ST_COLCODE          object\n",
       "HITPARKEDCAR        object\n",
       "Month                int64\n",
       "Weekday              int64\n",
       "Hour                 int64\n",
       "dtype: object"
      ]
     },
     "execution_count": 35,
     "metadata": {},
     "output_type": "execute_result"
    }
   ],
   "source": [
    "df.dtypes"
   ]
  },
  {
   "cell_type": "code",
   "execution_count": 5,
   "metadata": {},
   "outputs": [
    {
     "data": {
      "text/plain": [
       "1     0.690550\n",
       "2     0.291436\n",
       "2b    0.015976\n",
       "3     0.002038\n",
       "Name: SEVERITYCODE, dtype: float64"
      ]
     },
     "execution_count": 5,
     "metadata": {},
     "output_type": "execute_result"
    }
   ],
   "source": [
    "df['SEVERITYCODE'].value_counts(normalize=True, dropna=False)"
   ]
  },
  {
   "cell_type": "code",
   "execution_count": 6,
   "metadata": {},
   "outputs": [],
   "source": [
    "df['SEVERITYCODE'].replace('3', '4', inplace=True)\n",
    "df['SEVERITYCODE'].replace('2b','3',inplace=True)"
   ]
  },
  {
   "cell_type": "code",
   "execution_count": 7,
   "metadata": {},
   "outputs": [
    {
     "data": {
      "text/plain": [
       "1    0.690550\n",
       "2    0.291436\n",
       "3    0.015976\n",
       "4    0.002038\n",
       "Name: SEVERITYCODE, dtype: float64"
      ]
     },
     "execution_count": 7,
     "metadata": {},
     "output_type": "execute_result"
    }
   ],
   "source": [
    "df['SEVERITYCODE'].value_counts(normalize=True, dropna=False)"
   ]
  },
  {
   "cell_type": "markdown",
   "metadata": {},
   "source": [
    "The new severity code means: 4—fatality, 3—serious injury, 2—injury, 1—prop damage"
   ]
  },
  {
   "cell_type": "markdown",
   "metadata": {},
   "source": [
    "### Exploratory Data Analysis\n",
    "Data Visualization\n",
    "\n",
    "Let's see the first 100 traffic accidents location in the map."
   ]
  },
  {
   "cell_type": "code",
   "execution_count": 36,
   "metadata": {},
   "outputs": [],
   "source": [
    "# Lets's see the accidents in map\n",
    "import folium\n",
    "world_map = folium.Map(tiles='Mapbox Bright')\n"
   ]
  },
  {
   "cell_type": "code",
   "execution_count": 37,
   "metadata": {},
   "outputs": [
    {
     "data": {
      "text/html": [
       "<div style=\"width:100%;\"><div style=\"position:relative;width:100%;height:0;padding-bottom:60%;\"><span style=\"color:#565656\">Make this Notebook Trusted to load map: File -> Trust Notebook</span><iframe src=\"about:blank\" style=\"position:absolute;width:100%;height:100%;left:0;top:0;border:none !important;\" data-html=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 onload=\"this.contentDocument.open();this.contentDocument.write(atob(this.getAttribute('data-html')));this.contentDocument.close();\" allowfullscreen webkitallowfullscreen mozallowfullscreen></iframe></div></div>"
      ],
      "text/plain": [
       "<folium.folium.Map at 0x7fe121198cf8>"
      ]
     },
     "execution_count": 37,
     "metadata": {},
     "output_type": "execute_result"
    }
   ],
   "source": [
    "Seattle_map=folium.Map(location=[47.6062,-122.3321],zoom_start=4)\n",
    "Seattle_map"
   ]
  },
  {
   "cell_type": "code",
   "execution_count": 11,
   "metadata": {},
   "outputs": [
    {
     "data": {
      "text/html": [
       "<div>\n",
       "<style scoped>\n",
       "    .dataframe tbody tr th:only-of-type {\n",
       "        vertical-align: middle;\n",
       "    }\n",
       "\n",
       "    .dataframe tbody tr th {\n",
       "        vertical-align: top;\n",
       "    }\n",
       "\n",
       "    .dataframe thead th {\n",
       "        text-align: right;\n",
       "    }\n",
       "</style>\n",
       "<table border=\"1\" class=\"dataframe\">\n",
       "  <thead>\n",
       "    <tr style=\"text-align: right;\">\n",
       "      <th></th>\n",
       "      <th>X</th>\n",
       "      <th>Y</th>\n",
       "      <th>ADDRTYPE</th>\n",
       "      <th>SEVERITYCODE</th>\n",
       "      <th>COLLISIONTYPE</th>\n",
       "      <th>PERSONCOUNT</th>\n",
       "      <th>PEDCOUNT</th>\n",
       "      <th>PEDCYLCOUNT</th>\n",
       "      <th>VEHCOUNT</th>\n",
       "      <th>INJURIES</th>\n",
       "      <th>...</th>\n",
       "      <th>WEATHER</th>\n",
       "      <th>ROADCOND</th>\n",
       "      <th>LIGHTCOND</th>\n",
       "      <th>PEDROWNOTGRNT</th>\n",
       "      <th>SPEEDING</th>\n",
       "      <th>ST_COLCODE</th>\n",
       "      <th>HITPARKEDCAR</th>\n",
       "      <th>Month</th>\n",
       "      <th>Weekday</th>\n",
       "      <th>Hour</th>\n",
       "    </tr>\n",
       "  </thead>\n",
       "  <tbody>\n",
       "    <tr>\n",
       "      <th>0</th>\n",
       "      <td>-122.320757</td>\n",
       "      <td>47.609408</td>\n",
       "      <td>Block</td>\n",
       "      <td>1</td>\n",
       "      <td>Sideswipe</td>\n",
       "      <td>2</td>\n",
       "      <td>0</td>\n",
       "      <td>0</td>\n",
       "      <td>2</td>\n",
       "      <td>0</td>\n",
       "      <td>...</td>\n",
       "      <td>Raining</td>\n",
       "      <td>Wet</td>\n",
       "      <td>Dark - Street Lights On</td>\n",
       "      <td>NaN</td>\n",
       "      <td>NaN</td>\n",
       "      <td>11</td>\n",
       "      <td>N</td>\n",
       "      <td>1</td>\n",
       "      <td>2</td>\n",
       "      <td>15</td>\n",
       "    </tr>\n",
       "    <tr>\n",
       "      <th>1</th>\n",
       "      <td>-122.319561</td>\n",
       "      <td>47.662221</td>\n",
       "      <td>Block</td>\n",
       "      <td>1</td>\n",
       "      <td>Parked Car</td>\n",
       "      <td>2</td>\n",
       "      <td>0</td>\n",
       "      <td>0</td>\n",
       "      <td>2</td>\n",
       "      <td>0</td>\n",
       "      <td>...</td>\n",
       "      <td>Clear</td>\n",
       "      <td>Dry</td>\n",
       "      <td>Daylight</td>\n",
       "      <td>NaN</td>\n",
       "      <td>NaN</td>\n",
       "      <td>32</td>\n",
       "      <td>Y</td>\n",
       "      <td>1</td>\n",
       "      <td>1</td>\n",
       "      <td>8</td>\n",
       "    </tr>\n",
       "    <tr>\n",
       "      <th>5</th>\n",
       "      <td>-122.374194</td>\n",
       "      <td>47.564076</td>\n",
       "      <td>Block</td>\n",
       "      <td>1</td>\n",
       "      <td>Rear Ended</td>\n",
       "      <td>2</td>\n",
       "      <td>0</td>\n",
       "      <td>0</td>\n",
       "      <td>2</td>\n",
       "      <td>0</td>\n",
       "      <td>...</td>\n",
       "      <td>Clear</td>\n",
       "      <td>Dry</td>\n",
       "      <td>Daylight</td>\n",
       "      <td>NaN</td>\n",
       "      <td>NaN</td>\n",
       "      <td>14</td>\n",
       "      <td>N</td>\n",
       "      <td>6</td>\n",
       "      <td>3</td>\n",
       "      <td>17</td>\n",
       "    </tr>\n",
       "    <tr>\n",
       "      <th>6</th>\n",
       "      <td>-122.290734</td>\n",
       "      <td>47.709276</td>\n",
       "      <td>Block</td>\n",
       "      <td>1</td>\n",
       "      <td>Other</td>\n",
       "      <td>2</td>\n",
       "      <td>0</td>\n",
       "      <td>0</td>\n",
       "      <td>1</td>\n",
       "      <td>0</td>\n",
       "      <td>...</td>\n",
       "      <td>Clear</td>\n",
       "      <td>Wet</td>\n",
       "      <td>Daylight</td>\n",
       "      <td>NaN</td>\n",
       "      <td>Y</td>\n",
       "      <td>50</td>\n",
       "      <td>N</td>\n",
       "      <td>2</td>\n",
       "      <td>0</td>\n",
       "      <td>9</td>\n",
       "    </tr>\n",
       "    <tr>\n",
       "      <th>8</th>\n",
       "      <td>-122.336565</td>\n",
       "      <td>47.590398</td>\n",
       "      <td>Intersection</td>\n",
       "      <td>1</td>\n",
       "      <td>Sideswipe</td>\n",
       "      <td>2</td>\n",
       "      <td>0</td>\n",
       "      <td>0</td>\n",
       "      <td>2</td>\n",
       "      <td>0</td>\n",
       "      <td>...</td>\n",
       "      <td>Overcast</td>\n",
       "      <td>Dry</td>\n",
       "      <td>Daylight</td>\n",
       "      <td>NaN</td>\n",
       "      <td>NaN</td>\n",
       "      <td>81</td>\n",
       "      <td>N</td>\n",
       "      <td>1</td>\n",
       "      <td>3</td>\n",
       "      <td>8</td>\n",
       "    </tr>\n",
       "  </tbody>\n",
       "</table>\n",
       "<p>5 rows × 25 columns</p>\n",
       "</div>"
      ],
      "text/plain": [
       "            X          Y      ADDRTYPE SEVERITYCODE COLLISIONTYPE  \\\n",
       "0 -122.320757  47.609408         Block            1     Sideswipe   \n",
       "1 -122.319561  47.662221         Block            1    Parked Car   \n",
       "5 -122.374194  47.564076         Block            1    Rear Ended   \n",
       "6 -122.290734  47.709276         Block            1         Other   \n",
       "8 -122.336565  47.590398  Intersection            1     Sideswipe   \n",
       "\n",
       "   PERSONCOUNT  PEDCOUNT  PEDCYLCOUNT  VEHCOUNT  INJURIES  ...   WEATHER  \\\n",
       "0            2         0            0         2         0  ...   Raining   \n",
       "1            2         0            0         2         0  ...     Clear   \n",
       "5            2         0            0         2         0  ...     Clear   \n",
       "6            2         0            0         1         0  ...     Clear   \n",
       "8            2         0            0         2         0  ...  Overcast   \n",
       "\n",
       "   ROADCOND                LIGHTCOND PEDROWNOTGRNT SPEEDING ST_COLCODE  \\\n",
       "0       Wet  Dark - Street Lights On           NaN      NaN         11   \n",
       "1       Dry                 Daylight           NaN      NaN         32   \n",
       "5       Dry                 Daylight           NaN      NaN         14   \n",
       "6       Wet                 Daylight           NaN        Y         50   \n",
       "8       Dry                 Daylight           NaN      NaN         81   \n",
       "\n",
       "  HITPARKEDCAR Month Weekday Hour  \n",
       "0            N     1       2   15  \n",
       "1            Y     1       1    8  \n",
       "5            N     6       3   17  \n",
       "6            N     2       0    9  \n",
       "8            N     1       3    8  \n",
       "\n",
       "[5 rows x 25 columns]"
      ]
     },
     "execution_count": 11,
     "metadata": {},
     "output_type": "execute_result"
    }
   ],
   "source": [
    "df.head()"
   ]
  },
  {
   "cell_type": "code",
   "execution_count": 38,
   "metadata": {},
   "outputs": [],
   "source": [
    "limit = 100\n",
    "df_incidents = df.iloc[0:limit, :]\n",
    "incidents = folium.map.FeatureGroup()\n",
    "for lat, lng, in zip(df_incidents.Y, df_incidents.X):\n",
    "    incidents.add_child(\n",
    "        folium.features.CircleMarker(\n",
    "            [lat, lng],\n",
    "            radius=5, # define how big you want the circle markers to be\n",
    "            color='yellow',\n",
    "            fill=True,\n",
    "            fill_color='blue',\n",
    "            fill_opacity=0.6\n",
    "        )\n",
    "    )\n",
    "    \n"
   ]
  },
  {
   "cell_type": "code",
   "execution_count": 39,
   "metadata": {},
   "outputs": [
    {
     "data": {
      "text/html": [
       "<div style=\"width:100%;\"><div style=\"position:relative;width:100%;height:0;padding-bottom:60%;\"><span style=\"color:#565656\">Make this Notebook Trusted to load map: File -> Trust Notebook</span><iframe src=\"about:blank\" style=\"position:absolute;width:100%;height:100%;left:0;top:0;border:none !important;\" data-html=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 onload=\"this.contentDocument.open();this.contentDocument.write(atob(this.getAttribute('data-html')));this.contentDocument.close();\" allowfullscreen webkitallowfullscreen mozallowfullscreen></iframe></div></div>"
      ],
      "text/plain": [
       "<folium.folium.Map at 0x7fe121198cf8>"
      ]
     },
     "execution_count": 39,
     "metadata": {},
     "output_type": "execute_result"
    }
   ],
   "source": [
    "Seattle_map.add_child(incidents)"
   ]
  },
  {
   "cell_type": "code",
   "execution_count": 40,
   "metadata": {},
   "outputs": [
    {
     "data": {
      "text/html": [
       "<div style=\"width:100%;\"><div style=\"position:relative;width:100%;height:0;padding-bottom:60%;\"><span style=\"color:#565656\">Make this Notebook Trusted to load map: File -> Trust Notebook</span><iframe src=\"about:blank\" style=\"position:absolute;width:100%;height:100%;left:0;top:0;border:none !important;\" data-html=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 onload=\"this.contentDocument.open();this.contentDocument.write(atob(this.getAttribute('data-html')));this.contentDocument.close();\" allowfullscreen webkitallowfullscreen mozallowfullscreen></iframe></div></div>"
      ],
      "text/plain": [
       "<folium.folium.Map at 0x7fe121198cf8>"
      ]
     },
     "execution_count": 40,
     "metadata": {},
     "output_type": "execute_result"
    }
   ],
   "source": [
    "latitudes = list(df_incidents.Y)\n",
    "longitudes = list(df_incidents.X)\n",
    "labels = list(df_incidents.SEVERITYCODE)\n",
    "\n",
    "for lat, lng, label in zip(latitudes, longitudes, labels):\n",
    "    folium.Marker([lat, lng], popup=label).add_to(Seattle_map)    \n",
    "    \n",
    "# add incidents to map\n",
    "Seattle_map.add_child(incidents)\n"
   ]
  },
  {
   "cell_type": "code",
   "execution_count": 32,
   "metadata": {},
   "outputs": [],
   "source": [
    "df['SEVERITYCODE'] = df['SEVERITYCODE'].astype(int)"
   ]
  },
  {
   "cell_type": "code",
   "execution_count": 33,
   "metadata": {},
   "outputs": [
    {
     "data": {
      "text/plain": [
       "X                  float64\n",
       "Y                  float64\n",
       "ADDRTYPE            object\n",
       "SEVERITYCODE         int64\n",
       "COLLISIONTYPE       object\n",
       "PERSONCOUNT          int64\n",
       "PEDCOUNT             int64\n",
       "PEDCYLCOUNT          int64\n",
       "VEHCOUNT             int64\n",
       "INJURIES             int64\n",
       "SERIOUSINJURIES      int64\n",
       "FATALITIES           int64\n",
       "JUNCTIONTYPE        object\n",
       "INATTENTIONIND      object\n",
       "UNDERINFL           object\n",
       "WEATHER             object\n",
       "ROADCOND            object\n",
       "LIGHTCOND           object\n",
       "PEDROWNOTGRNT       object\n",
       "SPEEDING            object\n",
       "ST_COLCODE          object\n",
       "HITPARKEDCAR        object\n",
       "Month                int64\n",
       "Weekday              int64\n",
       "Hour                 int64\n",
       "dtype: object"
      ]
     },
     "execution_count": 33,
     "metadata": {},
     "output_type": "execute_result"
    }
   ],
   "source": [
    "df.dtypes"
   ]
  },
  {
   "cell_type": "code",
   "execution_count": 39,
   "metadata": {},
   "outputs": [
    {
     "data": {
      "text/plain": [
       "Text(0, 0.5, 'Count')"
      ]
     },
     "execution_count": 39,
     "metadata": {},
     "output_type": "execute_result"
    },
    {
     "data": {
      "image/png": "[encoded data removed]",
      "text/plain": [
       "<Figure size 360x360 with 1 Axes>"
      ]
     },
     "metadata": {
      "needs_background": "light"
     },
     "output_type": "display_data"
    }
   ],
   "source": [
    "\n",
    "df['SEVERITYCODE'].plot(kind='hist', figsize=(5,5))\n",
    "plt.title(\"Count of different severity of traffic accidents\")\n",
    "\n",
    "new_ticks = np.linspace(1, 4, 4)\n",
    "plt.xticks(new_ticks)\n",
    "\n",
    "plt.xlabel(\"Severity Code\")\n",
    "plt.ylabel(\"Count\")\n",
    "\n"
   ]
  },
  {
   "cell_type": "code",
   "execution_count": 54,
   "metadata": {},
   "outputs": [
    {
     "data": {
      "text/html": [
       "<div>\n",
       "<style scoped>\n",
       "    .dataframe tbody tr th:only-of-type {\n",
       "        vertical-align: middle;\n",
       "    }\n",
       "\n",
       "    .dataframe tbody tr th {\n",
       "        vertical-align: top;\n",
       "    }\n",
       "\n",
       "    .dataframe thead th {\n",
       "        text-align: right;\n",
       "    }\n",
       "</style>\n",
       "<table border=\"1\" class=\"dataframe\">\n",
       "  <thead>\n",
       "    <tr style=\"text-align: right;\">\n",
       "      <th></th>\n",
       "      <th>WEATHER</th>\n",
       "      <th>SEVERITYCODE</th>\n",
       "    </tr>\n",
       "  </thead>\n",
       "  <tbody>\n",
       "    <tr>\n",
       "      <th>0</th>\n",
       "      <td>Raining</td>\n",
       "      <td>1</td>\n",
       "    </tr>\n",
       "    <tr>\n",
       "      <th>1</th>\n",
       "      <td>Clear</td>\n",
       "      <td>1</td>\n",
       "    </tr>\n",
       "    <tr>\n",
       "      <th>5</th>\n",
       "      <td>Clear</td>\n",
       "      <td>1</td>\n",
       "    </tr>\n",
       "    <tr>\n",
       "      <th>6</th>\n",
       "      <td>Clear</td>\n",
       "      <td>1</td>\n",
       "    </tr>\n",
       "    <tr>\n",
       "      <th>8</th>\n",
       "      <td>Overcast</td>\n",
       "      <td>1</td>\n",
       "    </tr>\n",
       "    <tr>\n",
       "      <th>9</th>\n",
       "      <td>Clear</td>\n",
       "      <td>1</td>\n",
       "    </tr>\n",
       "    <tr>\n",
       "      <th>10</th>\n",
       "      <td>Overcast</td>\n",
       "      <td>1</td>\n",
       "    </tr>\n",
       "    <tr>\n",
       "      <th>11</th>\n",
       "      <td>Overcast</td>\n",
       "      <td>1</td>\n",
       "    </tr>\n",
       "    <tr>\n",
       "      <th>12</th>\n",
       "      <td>Clear</td>\n",
       "      <td>1</td>\n",
       "    </tr>\n",
       "    <tr>\n",
       "      <th>13</th>\n",
       "      <td>Overcast</td>\n",
       "      <td>2</td>\n",
       "    </tr>\n",
       "    <tr>\n",
       "      <th>14</th>\n",
       "      <td>NaN</td>\n",
       "      <td>1</td>\n",
       "    </tr>\n",
       "    <tr>\n",
       "      <th>15</th>\n",
       "      <td>NaN</td>\n",
       "      <td>1</td>\n",
       "    </tr>\n",
       "    <tr>\n",
       "      <th>16</th>\n",
       "      <td>Raining</td>\n",
       "      <td>1</td>\n",
       "    </tr>\n",
       "    <tr>\n",
       "      <th>17</th>\n",
       "      <td>Snowing</td>\n",
       "      <td>1</td>\n",
       "    </tr>\n",
       "    <tr>\n",
       "      <th>18</th>\n",
       "      <td>Raining</td>\n",
       "      <td>2</td>\n",
       "    </tr>\n",
       "    <tr>\n",
       "      <th>20</th>\n",
       "      <td>Raining</td>\n",
       "      <td>2</td>\n",
       "    </tr>\n",
       "    <tr>\n",
       "      <th>21</th>\n",
       "      <td>Clear</td>\n",
       "      <td>2</td>\n",
       "    </tr>\n",
       "    <tr>\n",
       "      <th>22</th>\n",
       "      <td>Raining</td>\n",
       "      <td>1</td>\n",
       "    </tr>\n",
       "    <tr>\n",
       "      <th>23</th>\n",
       "      <td>NaN</td>\n",
       "      <td>1</td>\n",
       "    </tr>\n",
       "    <tr>\n",
       "      <th>24</th>\n",
       "      <td>Overcast</td>\n",
       "      <td>1</td>\n",
       "    </tr>\n",
       "  </tbody>\n",
       "</table>\n",
       "</div>"
      ],
      "text/plain": [
       "     WEATHER  SEVERITYCODE\n",
       "0    Raining             1\n",
       "1      Clear             1\n",
       "5      Clear             1\n",
       "6      Clear             1\n",
       "8   Overcast             1\n",
       "9      Clear             1\n",
       "10  Overcast             1\n",
       "11  Overcast             1\n",
       "12     Clear             1\n",
       "13  Overcast             2\n",
       "14       NaN             1\n",
       "15       NaN             1\n",
       "16   Raining             1\n",
       "17   Snowing             1\n",
       "18   Raining             2\n",
       "20   Raining             2\n",
       "21     Clear             2\n",
       "22   Raining             1\n",
       "23       NaN             1\n",
       "24  Overcast             1"
      ]
     },
     "execution_count": 54,
     "metadata": {},
     "output_type": "execute_result"
    }
   ],
   "source": [
    "df_weather = df[['WEATHER', 'SEVERITYCODE']]\n",
    "df_weather.head(20)"
   ]
  },
  {
   "cell_type": "code",
   "execution_count": 56,
   "metadata": {},
   "outputs": [],
   "source": [
    "df['WEATHER'].replace('Unknown', np.nan, inplace=True)\n",
    "df['WEATHER'].replace('Other', np.nan, inplace=True)"
   ]
  },
  {
   "cell_type": "code",
   "execution_count": 122,
   "metadata": {},
   "outputs": [
    {
     "data": {
      "text/plain": [
       "array(['Raining', 'Clear', 'Overcast', nan, 'Snowing', 'Fog/Smog/Smoke',\n",
       "       'Partly Cloudy', 'Sleet/Hail/Freezing Rain', 'Blowing Sand/Dirt',\n",
       "       'Severe Crosswind'], dtype=object)"
      ]
     },
     "execution_count": 122,
     "metadata": {},
     "output_type": "execute_result"
    }
   ],
   "source": [
    "df['WEATHER'].unique()\n"
   ]
  },
  {
   "cell_type": "code",
   "execution_count": 123,
   "metadata": {},
   "outputs": [],
   "source": [
    "df['WEATHER'].replace(np.nan,\"Unknown\", inplace=True)"
   ]
  },
  {
   "cell_type": "code",
   "execution_count": 124,
   "metadata": {},
   "outputs": [
    {
     "data": {
      "text/html": [
       "<div>\n",
       "<style scoped>\n",
       "    .dataframe tbody tr th:only-of-type {\n",
       "        vertical-align: middle;\n",
       "    }\n",
       "\n",
       "    .dataframe tbody tr th {\n",
       "        vertical-align: top;\n",
       "    }\n",
       "\n",
       "    .dataframe thead th {\n",
       "        text-align: right;\n",
       "    }\n",
       "</style>\n",
       "<table border=\"1\" class=\"dataframe\">\n",
       "  <thead>\n",
       "    <tr style=\"text-align: right;\">\n",
       "      <th></th>\n",
       "      <th>X</th>\n",
       "      <th>Y</th>\n",
       "      <th>ADDRTYPE</th>\n",
       "      <th>SEVERITYCODE</th>\n",
       "      <th>COLLISIONTYPE</th>\n",
       "      <th>PERSONCOUNT</th>\n",
       "      <th>PEDCOUNT</th>\n",
       "      <th>PEDCYLCOUNT</th>\n",
       "      <th>VEHCOUNT</th>\n",
       "      <th>INJURIES</th>\n",
       "      <th>...</th>\n",
       "      <th>ROADCOND</th>\n",
       "      <th>LIGHTCOND</th>\n",
       "      <th>PEDROWNOTGRNT</th>\n",
       "      <th>SPEEDING</th>\n",
       "      <th>ST_COLCODE</th>\n",
       "      <th>HITPARKEDCAR</th>\n",
       "      <th>Month</th>\n",
       "      <th>Weekday</th>\n",
       "      <th>Hour</th>\n",
       "      <th>COUNT</th>\n",
       "    </tr>\n",
       "  </thead>\n",
       "  <tbody>\n",
       "    <tr>\n",
       "      <th>0</th>\n",
       "      <td>-122.320757</td>\n",
       "      <td>47.609408</td>\n",
       "      <td>Block</td>\n",
       "      <td>1</td>\n",
       "      <td>Sideswipe</td>\n",
       "      <td>2</td>\n",
       "      <td>0</td>\n",
       "      <td>0</td>\n",
       "      <td>2</td>\n",
       "      <td>0</td>\n",
       "      <td>...</td>\n",
       "      <td>Wet</td>\n",
       "      <td>Dark - Street Lights On</td>\n",
       "      <td>NaN</td>\n",
       "      <td>NaN</td>\n",
       "      <td>11</td>\n",
       "      <td>N</td>\n",
       "      <td>1</td>\n",
       "      <td>2</td>\n",
       "      <td>15</td>\n",
       "      <td>1</td>\n",
       "    </tr>\n",
       "    <tr>\n",
       "      <th>1</th>\n",
       "      <td>-122.319561</td>\n",
       "      <td>47.662221</td>\n",
       "      <td>Block</td>\n",
       "      <td>1</td>\n",
       "      <td>Parked Car</td>\n",
       "      <td>2</td>\n",
       "      <td>0</td>\n",
       "      <td>0</td>\n",
       "      <td>2</td>\n",
       "      <td>0</td>\n",
       "      <td>...</td>\n",
       "      <td>Dry</td>\n",
       "      <td>Daylight</td>\n",
       "      <td>NaN</td>\n",
       "      <td>NaN</td>\n",
       "      <td>32</td>\n",
       "      <td>Y</td>\n",
       "      <td>1</td>\n",
       "      <td>1</td>\n",
       "      <td>8</td>\n",
       "      <td>1</td>\n",
       "    </tr>\n",
       "    <tr>\n",
       "      <th>5</th>\n",
       "      <td>-122.374194</td>\n",
       "      <td>47.564076</td>\n",
       "      <td>Block</td>\n",
       "      <td>1</td>\n",
       "      <td>Rear Ended</td>\n",
       "      <td>2</td>\n",
       "      <td>0</td>\n",
       "      <td>0</td>\n",
       "      <td>2</td>\n",
       "      <td>0</td>\n",
       "      <td>...</td>\n",
       "      <td>Dry</td>\n",
       "      <td>Daylight</td>\n",
       "      <td>NaN</td>\n",
       "      <td>NaN</td>\n",
       "      <td>14</td>\n",
       "      <td>N</td>\n",
       "      <td>6</td>\n",
       "      <td>3</td>\n",
       "      <td>17</td>\n",
       "      <td>1</td>\n",
       "    </tr>\n",
       "    <tr>\n",
       "      <th>6</th>\n",
       "      <td>-122.290734</td>\n",
       "      <td>47.709276</td>\n",
       "      <td>Block</td>\n",
       "      <td>1</td>\n",
       "      <td>Other</td>\n",
       "      <td>2</td>\n",
       "      <td>0</td>\n",
       "      <td>0</td>\n",
       "      <td>1</td>\n",
       "      <td>0</td>\n",
       "      <td>...</td>\n",
       "      <td>Wet</td>\n",
       "      <td>Daylight</td>\n",
       "      <td>NaN</td>\n",
       "      <td>Y</td>\n",
       "      <td>50</td>\n",
       "      <td>N</td>\n",
       "      <td>2</td>\n",
       "      <td>0</td>\n",
       "      <td>9</td>\n",
       "      <td>1</td>\n",
       "    </tr>\n",
       "    <tr>\n",
       "      <th>8</th>\n",
       "      <td>-122.336565</td>\n",
       "      <td>47.590398</td>\n",
       "      <td>Intersection</td>\n",
       "      <td>1</td>\n",
       "      <td>Sideswipe</td>\n",
       "      <td>2</td>\n",
       "      <td>0</td>\n",
       "      <td>0</td>\n",
       "      <td>2</td>\n",
       "      <td>0</td>\n",
       "      <td>...</td>\n",
       "      <td>Dry</td>\n",
       "      <td>Daylight</td>\n",
       "      <td>NaN</td>\n",
       "      <td>NaN</td>\n",
       "      <td>81</td>\n",
       "      <td>N</td>\n",
       "      <td>1</td>\n",
       "      <td>3</td>\n",
       "      <td>8</td>\n",
       "      <td>1</td>\n",
       "    </tr>\n",
       "  </tbody>\n",
       "</table>\n",
       "<p>5 rows × 26 columns</p>\n",
       "</div>"
      ],
      "text/plain": [
       "            X          Y      ADDRTYPE  SEVERITYCODE COLLISIONTYPE  \\\n",
       "0 -122.320757  47.609408         Block             1     Sideswipe   \n",
       "1 -122.319561  47.662221         Block             1    Parked Car   \n",
       "5 -122.374194  47.564076         Block             1    Rear Ended   \n",
       "6 -122.290734  47.709276         Block             1         Other   \n",
       "8 -122.336565  47.590398  Intersection             1     Sideswipe   \n",
       "\n",
       "   PERSONCOUNT  PEDCOUNT  PEDCYLCOUNT  VEHCOUNT  INJURIES  ...  ROADCOND  \\\n",
       "0            2         0            0         2         0  ...       Wet   \n",
       "1            2         0            0         2         0  ...       Dry   \n",
       "5            2         0            0         2         0  ...       Dry   \n",
       "6            2         0            0         1         0  ...       Wet   \n",
       "8            2         0            0         2         0  ...       Dry   \n",
       "\n",
       "                 LIGHTCOND PEDROWNOTGRNT SPEEDING ST_COLCODE HITPARKEDCAR  \\\n",
       "0  Dark - Street Lights On           NaN      NaN         11            N   \n",
       "1                 Daylight           NaN      NaN         32            Y   \n",
       "5                 Daylight           NaN      NaN         14            N   \n",
       "6                 Daylight           NaN        Y         50            N   \n",
       "8                 Daylight           NaN      NaN         81            N   \n",
       "\n",
       "  Month Weekday Hour COUNT  \n",
       "0     1       2   15     1  \n",
       "1     1       1    8     1  \n",
       "5     6       3   17     1  \n",
       "6     2       0    9     1  \n",
       "8     1       3    8     1  \n",
       "\n",
       "[5 rows x 26 columns]"
      ]
     },
     "execution_count": 124,
     "metadata": {},
     "output_type": "execute_result"
    }
   ],
   "source": [
    "df['COUNT'] = 1\n",
    "df.head()\n"
   ]
  },
  {
   "cell_type": "code",
   "execution_count": 73,
   "metadata": {},
   "outputs": [
    {
     "data": {
      "text/html": [
       "<div>\n",
       "<style scoped>\n",
       "    .dataframe tbody tr th:only-of-type {\n",
       "        vertical-align: middle;\n",
       "    }\n",
       "\n",
       "    .dataframe tbody tr th {\n",
       "        vertical-align: top;\n",
       "    }\n",
       "\n",
       "    .dataframe thead th {\n",
       "        text-align: right;\n",
       "    }\n",
       "</style>\n",
       "<table border=\"1\" class=\"dataframe\">\n",
       "  <thead>\n",
       "    <tr style=\"text-align: right;\">\n",
       "      <th></th>\n",
       "      <th>X</th>\n",
       "      <th>Y</th>\n",
       "      <th>SEVERITYCODE</th>\n",
       "      <th>PERSONCOUNT</th>\n",
       "      <th>PEDCOUNT</th>\n",
       "      <th>PEDCYLCOUNT</th>\n",
       "      <th>VEHCOUNT</th>\n",
       "      <th>INJURIES</th>\n",
       "      <th>SERIOUSINJURIES</th>\n",
       "      <th>FATALITIES</th>\n",
       "      <th>Month</th>\n",
       "      <th>Weekday</th>\n",
       "      <th>Hour</th>\n",
       "      <th>COUNT</th>\n",
       "    </tr>\n",
       "    <tr>\n",
       "      <th>WEATHER</th>\n",
       "      <th></th>\n",
       "      <th></th>\n",
       "      <th></th>\n",
       "      <th></th>\n",
       "      <th></th>\n",
       "      <th></th>\n",
       "      <th></th>\n",
       "      <th></th>\n",
       "      <th></th>\n",
       "      <th></th>\n",
       "      <th></th>\n",
       "      <th></th>\n",
       "      <th></th>\n",
       "      <th></th>\n",
       "    </tr>\n",
       "  </thead>\n",
       "  <tbody>\n",
       "    <tr>\n",
       "      <th>Blowing Sand/Dirt</th>\n",
       "      <td>-1.223288e+03</td>\n",
       "      <td>4.765610e+02</td>\n",
       "      <td>14</td>\n",
       "      <td>24</td>\n",
       "      <td>0</td>\n",
       "      <td>0</td>\n",
       "      <td>23</td>\n",
       "      <td>4</td>\n",
       "      <td>0</td>\n",
       "      <td>0</td>\n",
       "      <td>82</td>\n",
       "      <td>16</td>\n",
       "      <td>160</td>\n",
       "      <td>11</td>\n",
       "    </tr>\n",
       "    <tr>\n",
       "      <th>Clear</th>\n",
       "      <td>-2.781186e+06</td>\n",
       "      <td>1.082646e+06</td>\n",
       "      <td>31308</td>\n",
       "      <td>59403</td>\n",
       "      <td>809</td>\n",
       "      <td>600</td>\n",
       "      <td>46070</td>\n",
       "      <td>10375</td>\n",
       "      <td>450</td>\n",
       "      <td>63</td>\n",
       "      <td>148553</td>\n",
       "      <td>68006</td>\n",
       "      <td>223019</td>\n",
       "      <td>23213</td>\n",
       "    </tr>\n",
       "    <tr>\n",
       "      <th>Fog/Smog/Smoke</th>\n",
       "      <td>-1.492429e+04</td>\n",
       "      <td>5.809141e+03</td>\n",
       "      <td>171</td>\n",
       "      <td>304</td>\n",
       "      <td>0</td>\n",
       "      <td>0</td>\n",
       "      <td>241</td>\n",
       "      <td>63</td>\n",
       "      <td>1</td>\n",
       "      <td>0</td>\n",
       "      <td>1101</td>\n",
       "      <td>379</td>\n",
       "      <td>1035</td>\n",
       "      <td>126</td>\n",
       "    </tr>\n",
       "    <tr>\n",
       "      <th>Overcast</th>\n",
       "      <td>-7.054804e+05</td>\n",
       "      <td>2.746316e+05</td>\n",
       "      <td>7866</td>\n",
       "      <td>14986</td>\n",
       "      <td>207</td>\n",
       "      <td>112</td>\n",
       "      <td>11616</td>\n",
       "      <td>2544</td>\n",
       "      <td>111</td>\n",
       "      <td>11</td>\n",
       "      <td>37609</td>\n",
       "      <td>17077</td>\n",
       "      <td>53586</td>\n",
       "      <td>5888</td>\n",
       "    </tr>\n",
       "    <tr>\n",
       "      <th>Partly Cloudy</th>\n",
       "      <td>-1.223079e+02</td>\n",
       "      <td>4.754698e+01</td>\n",
       "      <td>2</td>\n",
       "      <td>2</td>\n",
       "      <td>0</td>\n",
       "      <td>0</td>\n",
       "      <td>2</td>\n",
       "      <td>1</td>\n",
       "      <td>0</td>\n",
       "      <td>0</td>\n",
       "      <td>2</td>\n",
       "      <td>3</td>\n",
       "      <td>20</td>\n",
       "      <td>1</td>\n",
       "    </tr>\n",
       "    <tr>\n",
       "      <th>Raining</th>\n",
       "      <td>-8.390618e+05</td>\n",
       "      <td>3.266137e+05</td>\n",
       "      <td>9618</td>\n",
       "      <td>18303</td>\n",
       "      <td>302</td>\n",
       "      <td>75</td>\n",
       "      <td>13933</td>\n",
       "      <td>3309</td>\n",
       "      <td>110</td>\n",
       "      <td>11</td>\n",
       "      <td>46768</td>\n",
       "      <td>21765</td>\n",
       "      <td>67722</td>\n",
       "      <td>7081</td>\n",
       "    </tr>\n",
       "    <tr>\n",
       "      <th>Severe Crosswind</th>\n",
       "      <td>-3.670504e+02</td>\n",
       "      <td>1.431120e+02</td>\n",
       "      <td>3</td>\n",
       "      <td>6</td>\n",
       "      <td>0</td>\n",
       "      <td>0</td>\n",
       "      <td>5</td>\n",
       "      <td>0</td>\n",
       "      <td>0</td>\n",
       "      <td>0</td>\n",
       "      <td>19</td>\n",
       "      <td>7</td>\n",
       "      <td>51</td>\n",
       "      <td>3</td>\n",
       "    </tr>\n",
       "    <tr>\n",
       "      <th>Sleet/Hail/Freezing Rain</th>\n",
       "      <td>-3.302901e+03</td>\n",
       "      <td>1.285942e+03</td>\n",
       "      <td>32</td>\n",
       "      <td>56</td>\n",
       "      <td>1</td>\n",
       "      <td>0</td>\n",
       "      <td>50</td>\n",
       "      <td>5</td>\n",
       "      <td>0</td>\n",
       "      <td>0</td>\n",
       "      <td>92</td>\n",
       "      <td>108</td>\n",
       "      <td>257</td>\n",
       "      <td>27</td>\n",
       "    </tr>\n",
       "    <tr>\n",
       "      <th>Snowing</th>\n",
       "      <td>-1.529176e+04</td>\n",
       "      <td>5.953120e+03</td>\n",
       "      <td>150</td>\n",
       "      <td>280</td>\n",
       "      <td>3</td>\n",
       "      <td>0</td>\n",
       "      <td>247</td>\n",
       "      <td>25</td>\n",
       "      <td>2</td>\n",
       "      <td>0</td>\n",
       "      <td>702</td>\n",
       "      <td>311</td>\n",
       "      <td>760</td>\n",
       "      <td>128</td>\n",
       "    </tr>\n",
       "    <tr>\n",
       "      <th>Unknown</th>\n",
       "      <td>-3.239328e+05</td>\n",
       "      <td>1.261219e+05</td>\n",
       "      <td>3015</td>\n",
       "      <td>5615</td>\n",
       "      <td>44</td>\n",
       "      <td>16</td>\n",
       "      <td>5060</td>\n",
       "      <td>279</td>\n",
       "      <td>6</td>\n",
       "      <td>2</td>\n",
       "      <td>17618</td>\n",
       "      <td>8667</td>\n",
       "      <td>23855</td>\n",
       "      <td>2769</td>\n",
       "    </tr>\n",
       "  </tbody>\n",
       "</table>\n",
       "</div>"
      ],
      "text/plain": [
       "                                     X             Y  SEVERITYCODE  \\\n",
       "WEATHER                                                              \n",
       "Blowing Sand/Dirt        -1.223288e+03  4.765610e+02            14   \n",
       "Clear                    -2.781186e+06  1.082646e+06         31308   \n",
       "Fog/Smog/Smoke           -1.492429e+04  5.809141e+03           171   \n",
       "Overcast                 -7.054804e+05  2.746316e+05          7866   \n",
       "Partly Cloudy            -1.223079e+02  4.754698e+01             2   \n",
       "Raining                  -8.390618e+05  3.266137e+05          9618   \n",
       "Severe Crosswind         -3.670504e+02  1.431120e+02             3   \n",
       "Sleet/Hail/Freezing Rain -3.302901e+03  1.285942e+03            32   \n",
       "Snowing                  -1.529176e+04  5.953120e+03           150   \n",
       "Unknown                  -3.239328e+05  1.261219e+05          3015   \n",
       "\n",
       "                          PERSONCOUNT  PEDCOUNT  PEDCYLCOUNT  VEHCOUNT  \\\n",
       "WEATHER                                                                  \n",
       "Blowing Sand/Dirt                  24         0            0        23   \n",
       "Clear                           59403       809          600     46070   \n",
       "Fog/Smog/Smoke                    304         0            0       241   \n",
       "Overcast                        14986       207          112     11616   \n",
       "Partly Cloudy                       2         0            0         2   \n",
       "Raining                         18303       302           75     13933   \n",
       "Severe Crosswind                    6         0            0         5   \n",
       "Sleet/Hail/Freezing Rain           56         1            0        50   \n",
       "Snowing                           280         3            0       247   \n",
       "Unknown                          5615        44           16      5060   \n",
       "\n",
       "                          INJURIES  SERIOUSINJURIES  FATALITIES   Month  \\\n",
       "WEATHER                                                                   \n",
       "Blowing Sand/Dirt                4                0           0      82   \n",
       "Clear                        10375              450          63  148553   \n",
       "Fog/Smog/Smoke                  63                1           0    1101   \n",
       "Overcast                      2544              111          11   37609   \n",
       "Partly Cloudy                    1                0           0       2   \n",
       "Raining                       3309              110          11   46768   \n",
       "Severe Crosswind                 0                0           0      19   \n",
       "Sleet/Hail/Freezing Rain         5                0           0      92   \n",
       "Snowing                         25                2           0     702   \n",
       "Unknown                        279                6           2   17618   \n",
       "\n",
       "                          Weekday    Hour  COUNT  \n",
       "WEATHER                                           \n",
       "Blowing Sand/Dirt              16     160     11  \n",
       "Clear                       68006  223019  23213  \n",
       "Fog/Smog/Smoke                379    1035    126  \n",
       "Overcast                    17077   53586   5888  \n",
       "Partly Cloudy                   3      20      1  \n",
       "Raining                     21765   67722   7081  \n",
       "Severe Crosswind                7      51      3  \n",
       "Sleet/Hail/Freezing Rain      108     257     27  \n",
       "Snowing                       311     760    128  \n",
       "Unknown                      8667   23855   2769  "
      ]
     },
     "execution_count": 73,
     "metadata": {},
     "output_type": "execute_result"
    }
   ],
   "source": [
    "df_weather=df.groupby('WEATHER', axis=0).sum()\n",
    "\n",
    "df_weather"
   ]
  },
  {
   "cell_type": "code",
   "execution_count": 74,
   "metadata": {},
   "outputs": [],
   "source": [
    "df_weather.drop(['Partly Cloudy','Severe Crosswind'], axis=0, inplace=True)"
   ]
  },
  {
   "cell_type": "code",
   "execution_count": 75,
   "metadata": {},
   "outputs": [
    {
     "data": {
      "image/png": "[encoded data removed]",
      "text/plain": [
       "<Figure size 1080x432 with 1 Axes>"
      ]
     },
     "metadata": {},
     "output_type": "display_data"
    }
   ],
   "source": [
    "colors_list = ['red', 'gold', 'lightcoral', 'lightskyblue', 'pink','yellowgreen','turquoise','navy']\n",
    "explode_list = [0.1, 0, 0, 0, 0, 0.1,0,0] # ratio for each continent with which to offset each wedge.\n",
    "\n",
    "df_weather['COUNT'].plot(kind='pie',\n",
    "                            figsize=(15, 6),\n",
    "                            autopct='%1.1f%%', \n",
    "                            startangle=90,    \n",
    "                            shadow=False,       \n",
    "                            labels=None,         # turn off labels on pie chart\n",
    "                            pctdistance=1.12,    # the ratio between the center of each pie slice and the start of the text generated by autopct \n",
    "                            colors=colors_list,  # add custom colors\n",
    "                            explode=explode_list # 'explode' lowest 3 continents\n",
    "                            )\n",
    "\n",
    "# scale the title up by 12% to match pctdistance\n",
    "plt.title('Weather condition of the traffic accidents', y=1.12) \n",
    "\n",
    "plt.axis('equal') \n",
    "\n",
    "# add legend\n",
    "plt.legend(labels=df_weather.index, loc='upper left') \n",
    "\n",
    "plt.show()\n"
   ]
  },
  {
   "cell_type": "code",
   "execution_count": 98,
   "metadata": {},
   "outputs": [
    {
     "data": {
      "image/png": "[encoded data removed]",
      "text/plain": [
       "<Figure size 1440x360 with 1 Axes>"
      ]
     },
     "metadata": {
      "needs_background": "light"
     },
     "output_type": "display_data"
    }
   ],
   "source": [
    "plt.figure(figsize=(20,5))\n",
    "sns.countplot(x='WEATHER', hue='SEVERITYCODE', data=df, palette=\"Set1\")\n",
    "plt.legend(loc='best', prop={'size': 10})\n",
    "plt.title('Count of Accidents by Weather', y=1.05)\n",
    "plt.show()"
   ]
  },
  {
   "cell_type": "code",
   "execution_count": 117,
   "metadata": {},
   "outputs": [
    {
     "data": {
      "image/png": "[encoded data removed]",
      "text/plain": [
       "<Figure size 720x360 with 1 Axes>"
      ]
     },
     "metadata": {
      "needs_background": "light"
     },
     "output_type": "display_data"
    }
   ],
   "source": [
    "plt.figure(figsize=(10,5))\n",
    "sns.countplot(x='Hour', hue='SEVERITYCODE', data=df, palette=\"Set1\")\n",
    "plt.legend(loc='best', prop={'size': 10})\n",
    "plt.title('Count of Accidents by Hour', y=1.05)\n",
    "plt.show()"
   ]
  },
  {
   "cell_type": "code",
   "execution_count": 118,
   "metadata": {},
   "outputs": [
    {
     "data": {
      "image/png": "[encoded data removed]",
      "text/plain": [
       "<Figure size 720x360 with 1 Axes>"
      ]
     },
     "metadata": {
      "needs_background": "light"
     },
     "output_type": "display_data"
    }
   ],
   "source": [
    "plt.figure(figsize=(10,5))\n",
    "sns.countplot(x='Weekday', hue='SEVERITYCODE', data=df, palette=\"Set1\")\n",
    "plt.legend(loc='best', prop={'size': 10})\n",
    "plt.title('Count of Accidents by Weekday', y=1.05)\n",
    "plt.show()"
   ]
  },
  {
   "cell_type": "code",
   "execution_count": 119,
   "metadata": {},
   "outputs": [
    {
     "data": {
      "image/png": "[encoded data removed]",
      "text/plain": [
       "<Figure size 720x360 with 1 Axes>"
      ]
     },
     "metadata": {
      "needs_background": "light"
     },
     "output_type": "display_data"
    }
   ],
   "source": [
    "plt.figure(figsize=(10,5))\n",
    "sns.countplot(x='Month', hue='SEVERITYCODE', data=df, palette=\"Set1\")\n",
    "plt.legend(loc='best', prop={'size': 10})\n",
    "plt.title('Count of Accidents by Month', y=1.05)\n",
    "plt.show()"
   ]
  },
  {
   "cell_type": "markdown",
   "metadata": {},
   "source": [
    "Inspect Address type for the traffic accidents."
   ]
  },
  {
   "cell_type": "code",
   "execution_count": 120,
   "metadata": {},
   "outputs": [
    {
     "data": {
      "text/plain": [
       "Block           0.668178\n",
       "Intersection    0.322037\n",
       "Alley           0.005274\n",
       "NaN             0.004510\n",
       "Name: ADDRTYPE, dtype: float64"
      ]
     },
     "execution_count": 120,
     "metadata": {},
     "output_type": "execute_result"
    }
   ],
   "source": [
    "df['ADDRTYPE'].value_counts(normalize=True, ascending=False, dropna=False)"
   ]
  },
  {
   "cell_type": "code",
   "execution_count": 131,
   "metadata": {},
   "outputs": [
    {
     "data": {
      "image/png": "[encoded data removed]",
      "text/plain": [
       "<Figure size 720x360 with 1 Axes>"
      ]
     },
     "metadata": {
      "needs_background": "light"
     },
     "output_type": "display_data"
    }
   ],
   "source": [
    "df['ADDRTYPE'].replace(np.nan,'Unknown', inplace=True)\n",
    "plt.figure(figsize=(10,5))\n",
    "sns.countplot(x='ADDRTYPE', hue='SEVERITYCODE', data=df, palette=\"Set1\")\n",
    "plt.title('Count of Accidents by Address Type', size=10, y=1.05)\n",
    "plt.legend(loc='upper right', prop={'size': 10})\n",
    "plt.show()"
   ]
  },
  {
   "cell_type": "markdown",
   "metadata": {},
   "source": [
    "### Preparation for Predictive Modelling"
   ]
  },
  {
   "cell_type": "code",
   "execution_count": 136,
   "metadata": {},
   "outputs": [],
   "source": [
    "df['SEVERITYCODE'] = df['SEVERITYCODE'].astype('category')"
   ]
  },
  {
   "cell_type": "code",
   "execution_count": 137,
   "metadata": {},
   "outputs": [
    {
     "data": {
      "text/plain": [
       "0        1\n",
       "1        1\n",
       "5        1\n",
       "6        1\n",
       "8        1\n",
       "        ..\n",
       "43771    1\n",
       "43772    1\n",
       "43773    1\n",
       "43774    1\n",
       "43775    2\n",
       "Name: SEVERITYCODE, Length: 39247, dtype: category\n",
       "Categories (4, int64): [1, 2, 3, 4]"
      ]
     },
     "execution_count": 137,
     "metadata": {},
     "output_type": "execute_result"
    }
   ],
   "source": [
    "df['SEVERITYCODE']"
   ]
  },
  {
   "cell_type": "code",
   "execution_count": 138,
   "metadata": {},
   "outputs": [],
   "source": [
    "df.replace({'WEATHER' : {np.nan : 'Unknown'}}, inplace=True)"
   ]
  },
  {
   "cell_type": "code",
   "execution_count": 139,
   "metadata": {},
   "outputs": [
    {
     "data": {
      "text/plain": [
       "Parked Car    0.251306\n",
       "Rear Ended    0.180014\n",
       "Angles        0.172548\n",
       "Other         0.154381\n",
       "Sideswipe     0.089332\n",
       "Left Turn     0.071445\n",
       "Pedestrian    0.032130\n",
       "Cycles        0.020358\n",
       "Right Turn    0.012536\n",
       "Head On       0.010931\n",
       "NaN           0.005019\n",
       "Name: COLLISIONTYPE, dtype: float64"
      ]
     },
     "execution_count": 139,
     "metadata": {},
     "output_type": "execute_result"
    }
   ],
   "source": [
    "df['COLLISIONTYPE'].value_counts(normalize=True, ascending=False,dropna=False)"
   ]
  },
  {
   "cell_type": "code",
   "execution_count": 140,
   "metadata": {},
   "outputs": [],
   "source": [
    "df.replace({'COLLISIONTYPE' : {np.nan : 'Unknown'}}, inplace=True)"
   ]
  },
  {
   "cell_type": "code",
   "execution_count": 141,
   "metadata": {},
   "outputs": [
    {
     "data": {
      "text/plain": [
       "Mid-Block (not related to intersection)              0.428568\n",
       "At Intersection (intersection related)               0.316126\n",
       "Mid-Block (but intersection related)                 0.163936\n",
       "Driveway Junction                                    0.078248\n",
       "NaN                                                  0.007109\n",
       "At Intersection (but not related to intersection)    0.005504\n",
       "Ramp Junction                                        0.000510\n",
       "Name: JUNCTIONTYPE, dtype: float64"
      ]
     },
     "execution_count": 141,
     "metadata": {},
     "output_type": "execute_result"
    }
   ],
   "source": [
    "df['JUNCTIONTYPE'].value_counts(normalize=True, ascending=False,dropna=False)"
   ]
  },
  {
   "cell_type": "code",
   "execution_count": 142,
   "metadata": {},
   "outputs": [],
   "source": [
    "df.replace({'JUNCTIONTYPE' : {np.nan : 'Unknown'}}, inplace=True)"
   ]
  },
  {
   "cell_type": "code",
   "execution_count": 143,
   "metadata": {},
   "outputs": [
    {
     "data": {
      "text/plain": [
       "0      0.883405\n",
       "N      0.063877\n",
       "1      0.044921\n",
       "NaN    0.005019\n",
       "Y      0.002777\n",
       "Name: UNDERINFL, dtype: float64"
      ]
     },
     "execution_count": 143,
     "metadata": {},
     "output_type": "execute_result"
    }
   ],
   "source": [
    "df['UNDERINFL'].value_counts(normalize=True, ascending=False, dropna=False)"
   ]
  },
  {
   "cell_type": "code",
   "execution_count": 144,
   "metadata": {},
   "outputs": [],
   "source": [
    "df.replace({'UNDERINFL' : {np.nan : 'Unknown', '0': 'N', '1': 'Y'}}, inplace=True)"
   ]
  },
  {
   "cell_type": "code",
   "execution_count": 145,
   "metadata": {},
   "outputs": [
    {
     "data": {
      "text/plain": [
       "N          0.947283\n",
       "Y          0.047698\n",
       "Unknown    0.005019\n",
       "Name: UNDERINFL, dtype: float64"
      ]
     },
     "execution_count": 145,
     "metadata": {},
     "output_type": "execute_result"
    }
   ],
   "source": [
    "df['UNDERINFL'].value_counts(normalize=True, ascending=False, dropna=False)"
   ]
  },
  {
   "cell_type": "code",
   "execution_count": 70,
   "metadata": {},
   "outputs": [
    {
     "data": {
      "image/png": "[encoded data removed]",
      "text/plain": [
       "<Figure size 720x360 with 1 Axes>"
      ]
     },
     "metadata": {
      "needs_background": "light"
     },
     "output_type": "display_data"
    }
   ],
   "source": [
    "df=pd.read_csv('New-Data-Collision2')\n",
    "plt.figure(figsize=(10,5))\n",
    "sns.countplot(x='UNDERINFL', hue='SEVERITYCODE', data=df, palette=\"Set1\")\n",
    "plt.title('Count of Accidents by UNDERINFL', size=10, y=1.05)\n",
    "plt.legend(loc='upper right', prop={'size': 10})\n",
    "plt.show()"
   ]
  },
  {
   "cell_type": "code",
   "execution_count": 147,
   "metadata": {},
   "outputs": [
    {
     "data": {
      "text/plain": [
       "<AxesSubplot:title={'center':'Under Influence Flag'}, xlabel='Under Influence', ylabel='Count'>"
      ]
     },
     "execution_count": 147,
     "metadata": {},
     "output_type": "execute_result"
    },
    {
     "data": {
      "image/png": "[encoded data removed]",
      "text/plain": [
       "<Figure size 360x216 with 1 Axes>"
      ]
     },
     "metadata": {
      "needs_background": "light"
     },
     "output_type": "display_data"
    }
   ],
   "source": [
    "underinfluence = df.UNDERINFL.unique()\n",
    "count_by_un=[]\n",
    "for i in df.UNDERINFL.unique():\n",
    "    count_by_un.append(df.loc[df.UNDERINFL == i, 'UNDERINFL'].count())\n",
    "fig, ax = plt.subplots(figsize=(5,3))\n",
    "ax.set(xlabel='Under Influence', ylabel='Count', title='Under Influence Flag')\n",
    "sns.barplot(underinfluence, count_by_un)"
   ]
  },
  {
   "cell_type": "code",
   "execution_count": 148,
   "metadata": {},
   "outputs": [],
   "source": [
    "df.replace({'ROADCOND' : {np.nan: 'Unknown'}}, inplace=True)"
   ]
  },
  {
   "cell_type": "code",
   "execution_count": 149,
   "metadata": {},
   "outputs": [],
   "source": [
    "df.replace({'LIGHTCOND' : {np.nan: 'Unknown'}}, inplace=True)"
   ]
  },
  {
   "cell_type": "code",
   "execution_count": 150,
   "metadata": {},
   "outputs": [
    {
     "data": {
      "text/plain": [
       "N      0.99399\n",
       "Y      0.00599\n",
       "NaN    0.00003\n",
       "Name: HITPARKEDCAR, dtype: float64"
      ]
     },
     "execution_count": 150,
     "metadata": {},
     "output_type": "execute_result"
    }
   ],
   "source": [
    "df['HITPARKEDCAR'].value_counts(normalize=True, ascending=False,dropna=False).round(5)"
   ]
  },
  {
   "cell_type": "code",
   "execution_count": 151,
   "metadata": {},
   "outputs": [],
   "source": [
    "df.replace({'HITPARKEDCAR' : {np.nan: 'Unknown'}}, inplace=True)"
   ]
  },
  {
   "cell_type": "code",
   "execution_count": 152,
   "metadata": {},
   "outputs": [
    {
     "data": {
      "text/plain": [
       "32    0.232655\n",
       "10    0.172548\n",
       "14    0.140724\n",
       "50    0.071776\n",
       "11    0.059597\n",
       "28    0.054628\n",
       "13    0.035595\n",
       "22    0.030907\n",
       "23    0.021913\n",
       "21    0.021046\n",
       "45    0.019849\n",
       "0     0.016027\n",
       "15    0.015568\n",
       "20    0.014855\n",
       "16    0.012536\n",
       "12    0.012358\n",
       "2     0.008841\n",
       "30    0.006701\n",
       "26    0.005784\n",
       "71    0.005784\n",
       "1     0.005529\n",
       "      0.005019\n",
       "52    0.004306\n",
       "81    0.003949\n",
       "19    0.003796\n",
       "24    0.003363\n",
       "74    0.001885\n",
       "51    0.001554\n",
       "29    0.001249\n",
       "27    0.001147\n",
       "3     0.001096\n",
       "73    0.000892\n",
       "25    0.000866\n",
       "4     0.000637\n",
       "72    0.000535\n",
       "57    0.000535\n",
       "83    0.000484\n",
       "64    0.000459\n",
       "84    0.000433\n",
       "40    0.000408\n",
       "5     0.000280\n",
       "65    0.000229\n",
       "6     0.000204\n",
       "66    0.000204\n",
       "41    0.000178\n",
       "82    0.000178\n",
       "42    0.000153\n",
       "56    0.000153\n",
       "67    0.000153\n",
       "48    0.000127\n",
       "53    0.000102\n",
       "31    0.000076\n",
       "8     0.000025\n",
       "49    0.000025\n",
       "17    0.000025\n",
       "43    0.000025\n",
       "54    0.000025\n",
       "Name: ST_COLCODE, dtype: float64"
      ]
     },
     "execution_count": 152,
     "metadata": {},
     "output_type": "execute_result"
    }
   ],
   "source": [
    "df['ST_COLCODE'].value_counts(normalize=True, ascending=False,dropna=False)"
   ]
  },
  {
   "cell_type": "code",
   "execution_count": 153,
   "metadata": {},
   "outputs": [],
   "source": [
    "df.replace({'HITPARKEDCAR' : {' ': 'Unknown'}}, inplace=True)"
   ]
  },
  {
   "cell_type": "markdown",
   "metadata": {},
   "source": [
    "See the numbers of injuries, serious injuries and fatalities in different severity condition."
   ]
  },
  {
   "cell_type": "code",
   "execution_count": 154,
   "metadata": {},
   "outputs": [
    {
     "data": {
      "text/html": [
       "<div>\n",
       "<style scoped>\n",
       "    .dataframe tbody tr th:only-of-type {\n",
       "        vertical-align: middle;\n",
       "    }\n",
       "\n",
       "    .dataframe tbody tr th {\n",
       "        vertical-align: top;\n",
       "    }\n",
       "\n",
       "    .dataframe thead th {\n",
       "        text-align: right;\n",
       "    }\n",
       "</style>\n",
       "<table border=\"1\" class=\"dataframe\">\n",
       "  <thead>\n",
       "    <tr style=\"text-align: right;\">\n",
       "      <th></th>\n",
       "      <th>SEVERITYCODE</th>\n",
       "      <th>sum_INJURIES</th>\n",
       "      <th>sum_SERIOUSINJURIES</th>\n",
       "      <th>sum_FATALITIES</th>\n",
       "    </tr>\n",
       "  </thead>\n",
       "  <tbody>\n",
       "    <tr>\n",
       "      <th>0</th>\n",
       "      <td>1</td>\n",
       "      <td>0</td>\n",
       "      <td>0</td>\n",
       "      <td>0</td>\n",
       "    </tr>\n",
       "    <tr>\n",
       "      <th>1</th>\n",
       "      <td>2</td>\n",
       "      <td>15623</td>\n",
       "      <td>0</td>\n",
       "      <td>0</td>\n",
       "    </tr>\n",
       "    <tr>\n",
       "      <th>2</th>\n",
       "      <td>3</td>\n",
       "      <td>912</td>\n",
       "      <td>663</td>\n",
       "      <td>0</td>\n",
       "    </tr>\n",
       "    <tr>\n",
       "      <th>3</th>\n",
       "      <td>4</td>\n",
       "      <td>70</td>\n",
       "      <td>17</td>\n",
       "      <td>87</td>\n",
       "    </tr>\n",
       "  </tbody>\n",
       "</table>\n",
       "</div>"
      ],
      "text/plain": [
       "  SEVERITYCODE  sum_INJURIES  sum_SERIOUSINJURIES  sum_FATALITIES\n",
       "0            1             0                    0               0\n",
       "1            2         15623                    0               0\n",
       "2            3           912                  663               0\n",
       "3            4            70                   17              87"
      ]
     },
     "execution_count": 154,
     "metadata": {},
     "output_type": "execute_result"
    }
   ],
   "source": [
    "df.groupby(\n",
    "     ['SEVERITYCODE']\n",
    " ).agg(\n",
    "     sum_INJURIES =            ('INJURIES','sum'),\n",
    "     sum_SERIOUSINJURIES =     ('SERIOUSINJURIES','sum'),\n",
    "     sum_FATALITIES =          ('FATALITIES','sum'),\n",
    " ).reset_index()"
   ]
  },
  {
   "cell_type": "code",
   "execution_count": 155,
   "metadata": {},
   "outputs": [
    {
     "data": {
      "text/plain": [
       "NaN    0.976329\n",
       "Y      0.023671\n",
       "Name: PEDROWNOTGRNT, dtype: float64"
      ]
     },
     "execution_count": 155,
     "metadata": {},
     "output_type": "execute_result"
    }
   ],
   "source": [
    "df['PEDROWNOTGRNT'].value_counts(normalize=True, ascending=False,dropna=False)"
   ]
  },
  {
   "cell_type": "code",
   "execution_count": 156,
   "metadata": {},
   "outputs": [],
   "source": [
    "df.replace({'PEDROWNOTGRNT' : {np.nan: 'N'}}, inplace=True)"
   ]
  },
  {
   "cell_type": "code",
   "execution_count": 71,
   "metadata": {},
   "outputs": [
    {
     "data": {
      "image/png": "[encoded data removed]",
      "text/plain": [
       "<Figure size 720x360 with 1 Axes>"
      ]
     },
     "metadata": {
      "needs_background": "light"
     },
     "output_type": "display_data"
    }
   ],
   "source": [
    "#df=pd.read_csv('New-Data-Collision2')\n",
    "plt.figure(figsize=(10,5))\n",
    "sns.countplot(x='PEDROWNOTGRNT', hue='SEVERITYCODE', data=df, palette=\"Set1\")\n",
    "plt.title('Count of Accidents by PEDROWNOTGRNT', size=10, y=1.05)\n",
    "plt.legend(loc='upper right', prop={'size': 10})\n",
    "plt.show()"
   ]
  },
  {
   "cell_type": "code",
   "execution_count": 157,
   "metadata": {},
   "outputs": [
    {
     "data": {
      "text/plain": [
       "NaN    0.943843\n",
       "Y      0.056157\n",
       "Name: SPEEDING, dtype: float64"
      ]
     },
     "execution_count": 157,
     "metadata": {},
     "output_type": "execute_result"
    }
   ],
   "source": [
    "df['SPEEDING'].value_counts(normalize=True, ascending=False,dropna=False)"
   ]
  },
  {
   "cell_type": "code",
   "execution_count": 158,
   "metadata": {},
   "outputs": [],
   "source": [
    "df.replace({'SPEEDING' : {np.nan: 'N'}}, inplace=True)"
   ]
  },
  {
   "cell_type": "code",
   "execution_count": 72,
   "metadata": {},
   "outputs": [
    {
     "data": {
      "image/png": "[encoded data removed]",
      "text/plain": [
       "<Figure size 720x360 with 1 Axes>"
      ]
     },
     "metadata": {
      "needs_background": "light"
     },
     "output_type": "display_data"
    }
   ],
   "source": [
    "#df=pd.read_csv('New-Data-Collision2')\n",
    "plt.figure(figsize=(10,5))\n",
    "sns.countplot(x='SPEEDING', hue='SEVERITYCODE', data=df, palette=\"Set1\")\n",
    "plt.title('Count of Accidents by Speeding', size=10, y=1.05)\n",
    "plt.legend(loc='upper right', prop={'size': 10})\n",
    "plt.show()"
   ]
  },
  {
   "cell_type": "code",
   "execution_count": 159,
   "metadata": {},
   "outputs": [
    {
     "data": {
      "text/plain": [
       "NaN    0.875379\n",
       "Y      0.124621\n",
       "Name: INATTENTIONIND, dtype: float64"
      ]
     },
     "execution_count": 159,
     "metadata": {},
     "output_type": "execute_result"
    }
   ],
   "source": [
    "df['INATTENTIONIND'].value_counts(normalize=True, ascending=False,dropna=False)"
   ]
  },
  {
   "cell_type": "code",
   "execution_count": 160,
   "metadata": {},
   "outputs": [],
   "source": [
    "df.replace({'INATTENTIONIND' : {np.nan: 'N'}}, inplace=True)"
   ]
  },
  {
   "cell_type": "code",
   "execution_count": 161,
   "metadata": {},
   "outputs": [
    {
     "data": {
      "text/plain": [
       "2     0.601141\n",
       "3     0.187836\n",
       "4     0.076668\n",
       "1     0.061610\n",
       "5     0.036334\n",
       "6     0.016842\n",
       "0     0.007466\n",
       "7     0.006472\n",
       "8     0.002803\n",
       "9     0.000994\n",
       "10    0.000535\n",
       "11    0.000382\n",
       "12    0.000153\n",
       "13    0.000127\n",
       "14    0.000127\n",
       "17    0.000102\n",
       "37    0.000076\n",
       "16    0.000051\n",
       "44    0.000025\n",
       "29    0.000025\n",
       "15    0.000025\n",
       "19    0.000025\n",
       "53    0.000025\n",
       "36    0.000025\n",
       "22    0.000025\n",
       "23    0.000025\n",
       "26    0.000025\n",
       "28    0.000025\n",
       "30    0.000025\n",
       "Name: PERSONCOUNT, dtype: float64"
      ]
     },
     "execution_count": 161,
     "metadata": {},
     "output_type": "execute_result"
    }
   ],
   "source": [
    "df['PERSONCOUNT'].value_counts(normalize=True, ascending=False,dropna=False)"
   ]
  },
  {
   "cell_type": "code",
   "execution_count": null,
   "metadata": {},
   "outputs": [],
   "source": [
    "ccc"
   ]
  },
  {
   "cell_type": "code",
   "execution_count": 162,
   "metadata": {},
   "outputs": [],
   "source": [
    "filename='New-Data-Collision2'\n",
    "df.to_csv(filename,index=False)\n"
   ]
  },
  {
   "cell_type": "code",
   "execution_count": 3,
   "metadata": {},
   "outputs": [
    {
     "name": "stderr",
     "output_type": "stream",
     "text": [
      "/home/jupyterlab/conda/envs/python/lib/python3.6/site-packages/IPython/core/interactiveshell.py:3072: DtypeWarning: Columns (20) have mixed types.Specify dtype option on import or set low_memory=False.\n",
      "  interactivity=interactivity, compiler=compiler, result=result)\n"
     ]
    }
   ],
   "source": [
    "df=pd.read_csv('New-Data-Collision2')"
   ]
  },
  {
   "cell_type": "code",
   "execution_count": 4,
   "metadata": {},
   "outputs": [
    {
     "data": {
      "text/plain": [
       "Index(['X', 'Y', 'ADDRTYPE', 'SEVERITYCODE', 'COLLISIONTYPE', 'PERSONCOUNT',\n",
       "       'PEDCOUNT', 'PEDCYLCOUNT', 'VEHCOUNT', 'INJURIES', 'SERIOUSINJURIES',\n",
       "       'FATALITIES', 'JUNCTIONTYPE', 'INATTENTIONIND', 'UNDERINFL', 'WEATHER',\n",
       "       'ROADCOND', 'LIGHTCOND', 'PEDROWNOTGRNT', 'SPEEDING', 'ST_COLCODE',\n",
       "       'HITPARKEDCAR', 'Month', 'Weekday', 'Hour', 'COUNT'],\n",
       "      dtype='object')"
      ]
     },
     "execution_count": 4,
     "metadata": {},
     "output_type": "execute_result"
    }
   ],
   "source": [
    "df.columns"
   ]
  },
  {
   "cell_type": "code",
   "execution_count": 8,
   "metadata": {},
   "outputs": [],
   "source": [
    "df_M=df[[ 'SEVERITYCODE', 'ADDRTYPE','COLLISIONTYPE', 'JUNCTIONTYPE', 'INATTENTIONIND', 'UNDERINFL', 'WEATHER',\n",
    "       'ROADCOND', 'LIGHTCOND', 'PEDROWNOTGRNT', 'SPEEDING', 'ST_COLCODE',\n",
    "       'HITPARKEDCAR']]\n",
    "Features=['ADDRTYPE', 'COLLISIONTYPE', 'JUNCTIONTYPE', 'INATTENTIONIND', 'UNDERINFL', 'WEATHER',\n",
    "       'ROADCOND', 'LIGHTCOND', 'PEDROWNOTGRNT', 'SPEEDING', 'ST_COLCODE',\n",
    "       'HITPARKEDCAR']"
   ]
  },
  {
   "cell_type": "code",
   "execution_count": 9,
   "metadata": {},
   "outputs": [
    {
     "data": {
      "text/html": [
       "<div>\n",
       "<style scoped>\n",
       "    .dataframe tbody tr th:only-of-type {\n",
       "        vertical-align: middle;\n",
       "    }\n",
       "\n",
       "    .dataframe tbody tr th {\n",
       "        vertical-align: top;\n",
       "    }\n",
       "\n",
       "    .dataframe thead th {\n",
       "        text-align: right;\n",
       "    }\n",
       "</style>\n",
       "<table border=\"1\" class=\"dataframe\">\n",
       "  <thead>\n",
       "    <tr style=\"text-align: right;\">\n",
       "      <th></th>\n",
       "      <th>SEVERITYCODE</th>\n",
       "      <th>ADDRTYPE</th>\n",
       "      <th>COLLISIONTYPE</th>\n",
       "      <th>JUNCTIONTYPE</th>\n",
       "      <th>INATTENTIONIND</th>\n",
       "      <th>UNDERINFL</th>\n",
       "      <th>WEATHER</th>\n",
       "      <th>ROADCOND</th>\n",
       "      <th>LIGHTCOND</th>\n",
       "      <th>PEDROWNOTGRNT</th>\n",
       "      <th>SPEEDING</th>\n",
       "      <th>ST_COLCODE</th>\n",
       "      <th>HITPARKEDCAR</th>\n",
       "    </tr>\n",
       "  </thead>\n",
       "  <tbody>\n",
       "    <tr>\n",
       "      <th>0</th>\n",
       "      <td>1</td>\n",
       "      <td>Block</td>\n",
       "      <td>Sideswipe</td>\n",
       "      <td>Mid-Block (not related to intersection)</td>\n",
       "      <td>N</td>\n",
       "      <td>N</td>\n",
       "      <td>Raining</td>\n",
       "      <td>Wet</td>\n",
       "      <td>Dark - Street Lights On</td>\n",
       "      <td>N</td>\n",
       "      <td>N</td>\n",
       "      <td>11</td>\n",
       "      <td>N</td>\n",
       "    </tr>\n",
       "    <tr>\n",
       "      <th>1</th>\n",
       "      <td>1</td>\n",
       "      <td>Block</td>\n",
       "      <td>Parked Car</td>\n",
       "      <td>Mid-Block (not related to intersection)</td>\n",
       "      <td>N</td>\n",
       "      <td>N</td>\n",
       "      <td>Clear</td>\n",
       "      <td>Dry</td>\n",
       "      <td>Daylight</td>\n",
       "      <td>N</td>\n",
       "      <td>N</td>\n",
       "      <td>32</td>\n",
       "      <td>Y</td>\n",
       "    </tr>\n",
       "    <tr>\n",
       "      <th>2</th>\n",
       "      <td>1</td>\n",
       "      <td>Block</td>\n",
       "      <td>Rear Ended</td>\n",
       "      <td>Mid-Block (not related to intersection)</td>\n",
       "      <td>N</td>\n",
       "      <td>N</td>\n",
       "      <td>Clear</td>\n",
       "      <td>Dry</td>\n",
       "      <td>Daylight</td>\n",
       "      <td>N</td>\n",
       "      <td>N</td>\n",
       "      <td>14</td>\n",
       "      <td>N</td>\n",
       "    </tr>\n",
       "    <tr>\n",
       "      <th>3</th>\n",
       "      <td>1</td>\n",
       "      <td>Block</td>\n",
       "      <td>Other</td>\n",
       "      <td>Mid-Block (but intersection related)</td>\n",
       "      <td>N</td>\n",
       "      <td>N</td>\n",
       "      <td>Clear</td>\n",
       "      <td>Wet</td>\n",
       "      <td>Daylight</td>\n",
       "      <td>N</td>\n",
       "      <td>Y</td>\n",
       "      <td>50</td>\n",
       "      <td>N</td>\n",
       "    </tr>\n",
       "    <tr>\n",
       "      <th>4</th>\n",
       "      <td>1</td>\n",
       "      <td>Intersection</td>\n",
       "      <td>Sideswipe</td>\n",
       "      <td>At Intersection (intersection related)</td>\n",
       "      <td>N</td>\n",
       "      <td>N</td>\n",
       "      <td>Overcast</td>\n",
       "      <td>Dry</td>\n",
       "      <td>Daylight</td>\n",
       "      <td>N</td>\n",
       "      <td>N</td>\n",
       "      <td>81</td>\n",
       "      <td>N</td>\n",
       "    </tr>\n",
       "  </tbody>\n",
       "</table>\n",
       "</div>"
      ],
      "text/plain": [
       "   SEVERITYCODE      ADDRTYPE COLLISIONTYPE  \\\n",
       "0             1         Block     Sideswipe   \n",
       "1             1         Block    Parked Car   \n",
       "2             1         Block    Rear Ended   \n",
       "3             1         Block         Other   \n",
       "4             1  Intersection     Sideswipe   \n",
       "\n",
       "                              JUNCTIONTYPE INATTENTIONIND UNDERINFL   WEATHER  \\\n",
       "0  Mid-Block (not related to intersection)              N         N   Raining   \n",
       "1  Mid-Block (not related to intersection)              N         N     Clear   \n",
       "2  Mid-Block (not related to intersection)              N         N     Clear   \n",
       "3     Mid-Block (but intersection related)              N         N     Clear   \n",
       "4   At Intersection (intersection related)              N         N  Overcast   \n",
       "\n",
       "  ROADCOND                LIGHTCOND PEDROWNOTGRNT SPEEDING ST_COLCODE  \\\n",
       "0      Wet  Dark - Street Lights On             N        N         11   \n",
       "1      Dry                 Daylight             N        N         32   \n",
       "2      Dry                 Daylight             N        N         14   \n",
       "3      Wet                 Daylight             N        Y         50   \n",
       "4      Dry                 Daylight             N        N         81   \n",
       "\n",
       "  HITPARKEDCAR  \n",
       "0            N  \n",
       "1            Y  \n",
       "2            N  \n",
       "3            N  \n",
       "4            N  "
      ]
     },
     "execution_count": 9,
     "metadata": {},
     "output_type": "execute_result"
    }
   ],
   "source": [
    "df_M.head()"
   ]
  },
  {
   "cell_type": "code",
   "execution_count": 10,
   "metadata": {},
   "outputs": [
    {
     "name": "stderr",
     "output_type": "stream",
     "text": [
      "/home/jupyterlab/conda/envs/python/lib/python3.6/site-packages/pandas/core/frame.py:2963: SettingWithCopyWarning: \n",
      "A value is trying to be set on a copy of a slice from a DataFrame.\n",
      "Try using .loc[row_indexer,col_indexer] = value instead\n",
      "\n",
      "See the caveats in the documentation: https://pandas.pydata.org/pandas-docs/stable/user_guide/indexing.html#returning-a-view-versus-a-copy\n",
      "  self[k1] = value[k2]\n"
     ]
    },
    {
     "data": {
      "text/html": [
       "<div>\n",
       "<style scoped>\n",
       "    .dataframe tbody tr th:only-of-type {\n",
       "        vertical-align: middle;\n",
       "    }\n",
       "\n",
       "    .dataframe tbody tr th {\n",
       "        vertical-align: top;\n",
       "    }\n",
       "\n",
       "    .dataframe thead th {\n",
       "        text-align: right;\n",
       "    }\n",
       "</style>\n",
       "<table border=\"1\" class=\"dataframe\">\n",
       "  <thead>\n",
       "    <tr style=\"text-align: right;\">\n",
       "      <th></th>\n",
       "      <th>SEVERITYCODE</th>\n",
       "      <th>ADDRTYPE_Block</th>\n",
       "      <th>ADDRTYPE_Intersection</th>\n",
       "      <th>ADDRTYPE_Unknown</th>\n",
       "      <th>COLLISIONTYPE_Cycles</th>\n",
       "      <th>COLLISIONTYPE_Head On</th>\n",
       "      <th>COLLISIONTYPE_Left Turn</th>\n",
       "      <th>COLLISIONTYPE_Other</th>\n",
       "      <th>COLLISIONTYPE_Parked Car</th>\n",
       "      <th>COLLISIONTYPE_Pedestrian</th>\n",
       "      <th>...</th>\n",
       "      <th>ST_COLCODE_72</th>\n",
       "      <th>ST_COLCODE_73</th>\n",
       "      <th>ST_COLCODE_74</th>\n",
       "      <th>ST_COLCODE_8</th>\n",
       "      <th>ST_COLCODE_81</th>\n",
       "      <th>ST_COLCODE_82</th>\n",
       "      <th>ST_COLCODE_83</th>\n",
       "      <th>ST_COLCODE_84</th>\n",
       "      <th>HITPARKEDCAR_Unknown</th>\n",
       "      <th>HITPARKEDCAR_Y</th>\n",
       "    </tr>\n",
       "  </thead>\n",
       "  <tbody>\n",
       "    <tr>\n",
       "      <th>0</th>\n",
       "      <td>1</td>\n",
       "      <td>1</td>\n",
       "      <td>0</td>\n",
       "      <td>0</td>\n",
       "      <td>0</td>\n",
       "      <td>0</td>\n",
       "      <td>0</td>\n",
       "      <td>0</td>\n",
       "      <td>0</td>\n",
       "      <td>0</td>\n",
       "      <td>...</td>\n",
       "      <td>0</td>\n",
       "      <td>0</td>\n",
       "      <td>0</td>\n",
       "      <td>0</td>\n",
       "      <td>0</td>\n",
       "      <td>0</td>\n",
       "      <td>0</td>\n",
       "      <td>0</td>\n",
       "      <td>0</td>\n",
       "      <td>0</td>\n",
       "    </tr>\n",
       "    <tr>\n",
       "      <th>1</th>\n",
       "      <td>1</td>\n",
       "      <td>1</td>\n",
       "      <td>0</td>\n",
       "      <td>0</td>\n",
       "      <td>0</td>\n",
       "      <td>0</td>\n",
       "      <td>0</td>\n",
       "      <td>0</td>\n",
       "      <td>1</td>\n",
       "      <td>0</td>\n",
       "      <td>...</td>\n",
       "      <td>0</td>\n",
       "      <td>0</td>\n",
       "      <td>0</td>\n",
       "      <td>0</td>\n",
       "      <td>0</td>\n",
       "      <td>0</td>\n",
       "      <td>0</td>\n",
       "      <td>0</td>\n",
       "      <td>0</td>\n",
       "      <td>1</td>\n",
       "    </tr>\n",
       "    <tr>\n",
       "      <th>2</th>\n",
       "      <td>1</td>\n",
       "      <td>1</td>\n",
       "      <td>0</td>\n",
       "      <td>0</td>\n",
       "      <td>0</td>\n",
       "      <td>0</td>\n",
       "      <td>0</td>\n",
       "      <td>0</td>\n",
       "      <td>0</td>\n",
       "      <td>0</td>\n",
       "      <td>...</td>\n",
       "      <td>0</td>\n",
       "      <td>0</td>\n",
       "      <td>0</td>\n",
       "      <td>0</td>\n",
       "      <td>0</td>\n",
       "      <td>0</td>\n",
       "      <td>0</td>\n",
       "      <td>0</td>\n",
       "      <td>0</td>\n",
       "      <td>0</td>\n",
       "    </tr>\n",
       "    <tr>\n",
       "      <th>3</th>\n",
       "      <td>1</td>\n",
       "      <td>1</td>\n",
       "      <td>0</td>\n",
       "      <td>0</td>\n",
       "      <td>0</td>\n",
       "      <td>0</td>\n",
       "      <td>0</td>\n",
       "      <td>1</td>\n",
       "      <td>0</td>\n",
       "      <td>0</td>\n",
       "      <td>...</td>\n",
       "      <td>0</td>\n",
       "      <td>0</td>\n",
       "      <td>0</td>\n",
       "      <td>0</td>\n",
       "      <td>0</td>\n",
       "      <td>0</td>\n",
       "      <td>0</td>\n",
       "      <td>0</td>\n",
       "      <td>0</td>\n",
       "      <td>0</td>\n",
       "    </tr>\n",
       "    <tr>\n",
       "      <th>4</th>\n",
       "      <td>1</td>\n",
       "      <td>0</td>\n",
       "      <td>1</td>\n",
       "      <td>0</td>\n",
       "      <td>0</td>\n",
       "      <td>0</td>\n",
       "      <td>0</td>\n",
       "      <td>0</td>\n",
       "      <td>0</td>\n",
       "      <td>0</td>\n",
       "      <td>...</td>\n",
       "      <td>0</td>\n",
       "      <td>0</td>\n",
       "      <td>0</td>\n",
       "      <td>0</td>\n",
       "      <td>1</td>\n",
       "      <td>0</td>\n",
       "      <td>0</td>\n",
       "      <td>0</td>\n",
       "      <td>0</td>\n",
       "      <td>0</td>\n",
       "    </tr>\n",
       "  </tbody>\n",
       "</table>\n",
       "<p>5 rows × 155 columns</p>\n",
       "</div>"
      ],
      "text/plain": [
       "   SEVERITYCODE  ADDRTYPE_Block  ADDRTYPE_Intersection  ADDRTYPE_Unknown  \\\n",
       "0             1               1                      0                 0   \n",
       "1             1               1                      0                 0   \n",
       "2             1               1                      0                 0   \n",
       "3             1               1                      0                 0   \n",
       "4             1               0                      1                 0   \n",
       "\n",
       "   COLLISIONTYPE_Cycles  COLLISIONTYPE_Head On  COLLISIONTYPE_Left Turn  \\\n",
       "0                     0                      0                        0   \n",
       "1                     0                      0                        0   \n",
       "2                     0                      0                        0   \n",
       "3                     0                      0                        0   \n",
       "4                     0                      0                        0   \n",
       "\n",
       "   COLLISIONTYPE_Other  COLLISIONTYPE_Parked Car  COLLISIONTYPE_Pedestrian  \\\n",
       "0                    0                         0                         0   \n",
       "1                    0                         1                         0   \n",
       "2                    0                         0                         0   \n",
       "3                    1                         0                         0   \n",
       "4                    0                         0                         0   \n",
       "\n",
       "   ...  ST_COLCODE_72  ST_COLCODE_73  ST_COLCODE_74  ST_COLCODE_8  \\\n",
       "0  ...              0              0              0             0   \n",
       "1  ...              0              0              0             0   \n",
       "2  ...              0              0              0             0   \n",
       "3  ...              0              0              0             0   \n",
       "4  ...              0              0              0             0   \n",
       "\n",
       "   ST_COLCODE_81  ST_COLCODE_82  ST_COLCODE_83  ST_COLCODE_84  \\\n",
       "0              0              0              0              0   \n",
       "1              0              0              0              0   \n",
       "2              0              0              0              0   \n",
       "3              0              0              0              0   \n",
       "4              1              0              0              0   \n",
       "\n",
       "   HITPARKEDCAR_Unknown  HITPARKEDCAR_Y  \n",
       "0                     0               0  \n",
       "1                     0               1  \n",
       "2                     0               0  \n",
       "3                     0               0  \n",
       "4                     0               0  \n",
       "\n",
       "[5 rows x 155 columns]"
      ]
     },
     "execution_count": 10,
     "metadata": {},
     "output_type": "execute_result"
    }
   ],
   "source": [
    "df_M[Features] = df_M[Features].astype('category')\n",
    "df_M = pd.get_dummies(df_M, columns=Features, drop_first=True, dtype='int64')\n",
    "\n",
    "df_M.head()"
   ]
  },
  {
   "cell_type": "code",
   "execution_count": 11,
   "metadata": {},
   "outputs": [],
   "source": [
    "df_M.drop(df_M.columns[df_M.columns.str.contains('Unknown')], axis=1, inplace=True)"
   ]
  },
  {
   "cell_type": "code",
   "execution_count": 12,
   "metadata": {},
   "outputs": [],
   "source": [
    "filename = \"Data-Collision-after-Feature\"\n",
    "df_M.to_csv(filename, index=False)"
   ]
  },
  {
   "cell_type": "markdown",
   "metadata": {},
   "source": [
    "### Prediction Models"
   ]
  },
  {
   "cell_type": "code",
   "execution_count": 2,
   "metadata": {},
   "outputs": [],
   "source": [
    "import itertools\n",
    "import matplotlib.pyplot as plt\n",
    "import numpy as np\n",
    "\n",
    "from sklearn.preprocessing import StandardScaler\n",
    "from sklearn.model_selection import train_test_split\n",
    "\n",
    "from sklearn.metrics import classification_report,confusion_matrix\n",
    "from sklearn import metrics"
   ]
  },
  {
   "cell_type": "code",
   "execution_count": null,
   "metadata": {},
   "outputs": [],
   "source": []
  },
  {
   "cell_type": "code",
   "execution_count": null,
   "metadata": {},
   "outputs": [],
   "source": []
  },
  {
   "cell_type": "markdown",
   "metadata": {},
   "source": [
    "Balance data\n",
    "\n",
    "Since the data for high severity is much less than the other catogories, we need to balance the data to avoid the bias in prediction.\n"
   ]
  },
  {
   "cell_type": "code",
   "execution_count": 17,
   "metadata": {},
   "outputs": [
    {
     "data": {
      "text/plain": [
       "1    0.690550\n",
       "2    0.291436\n",
       "3    0.015976\n",
       "4    0.002038\n",
       "Name: SEVERITYCODE, dtype: float64"
      ]
     },
     "execution_count": 17,
     "metadata": {},
     "output_type": "execute_result"
    }
   ],
   "source": [
    "df_M['SEVERITYCODE'].value_counts(normalize=True, ascending=False,dropna=False)"
   ]
  },
  {
   "cell_type": "code",
   "execution_count": 18,
   "metadata": {},
   "outputs": [
    {
     "data": {
      "text/plain": [
       "Index(['SEVERITYCODE', 'ADDRTYPE_Block', 'ADDRTYPE_Intersection',\n",
       "       'COLLISIONTYPE_Cycles', 'COLLISIONTYPE_Head On',\n",
       "       'COLLISIONTYPE_Left Turn', 'COLLISIONTYPE_Other',\n",
       "       'COLLISIONTYPE_Parked Car', 'COLLISIONTYPE_Pedestrian',\n",
       "       'COLLISIONTYPE_Rear Ended',\n",
       "       ...\n",
       "       'ST_COLCODE_71', 'ST_COLCODE_72', 'ST_COLCODE_73', 'ST_COLCODE_74',\n",
       "       'ST_COLCODE_8', 'ST_COLCODE_81', 'ST_COLCODE_82', 'ST_COLCODE_83',\n",
       "       'ST_COLCODE_84', 'HITPARKEDCAR_Y'],\n",
       "      dtype='object', length=146)"
      ]
     },
     "execution_count": 18,
     "metadata": {},
     "output_type": "execute_result"
    }
   ],
   "source": [
    "df_M.columns"
   ]
  },
  {
   "cell_type": "code",
   "execution_count": 20,
   "metadata": {},
   "outputs": [],
   "source": [
    "df_M['Severity']=1\n",
    "df_M.loc[df['SEVERITYCODE'] == 2, 'Severity'] = 2\n",
    "df_M.loc[df['SEVERITYCODE'] == 3, 'Severity'] = 3\n",
    "df_M.loc[df['SEVERITYCODE'] == 4, 'Severity'] = 4\n"
   ]
  },
  {
   "cell_type": "code",
   "execution_count": 22,
   "metadata": {},
   "outputs": [
    {
     "data": {
      "text/plain": [
       "1    27102\n",
       "2    11438\n",
       "3      627\n",
       "4       80\n",
       "Name: Severity, dtype: int64"
      ]
     },
     "execution_count": 22,
     "metadata": {},
     "output_type": "execute_result"
    }
   ],
   "source": [
    "df_M['Severity'].value_counts()"
   ]
  },
  {
   "cell_type": "code",
   "execution_count": 25,
   "metadata": {},
   "outputs": [],
   "source": [
    "df_B =pd.concat([df_M[df_M['Severity']==1].sample(10000,replace=True),df_M[df_M['Severity']==2].sample(10000,replace=True),\n",
    "                   df_M[df_M['Severity']==3].sample(10000,replace=True),df_M[df_M['Severity']==4].sample(10000,replace=True)], axis=0)"
   ]
  },
  {
   "cell_type": "code",
   "execution_count": 26,
   "metadata": {},
   "outputs": [
    {
     "data": {
      "text/html": [
       "<div>\n",
       "<style scoped>\n",
       "    .dataframe tbody tr th:only-of-type {\n",
       "        vertical-align: middle;\n",
       "    }\n",
       "\n",
       "    .dataframe tbody tr th {\n",
       "        vertical-align: top;\n",
       "    }\n",
       "\n",
       "    .dataframe thead th {\n",
       "        text-align: right;\n",
       "    }\n",
       "</style>\n",
       "<table border=\"1\" class=\"dataframe\">\n",
       "  <thead>\n",
       "    <tr style=\"text-align: right;\">\n",
       "      <th></th>\n",
       "      <th>SEVERITYCODE</th>\n",
       "      <th>ADDRTYPE_Block</th>\n",
       "      <th>ADDRTYPE_Intersection</th>\n",
       "      <th>COLLISIONTYPE_Cycles</th>\n",
       "      <th>COLLISIONTYPE_Head On</th>\n",
       "      <th>COLLISIONTYPE_Left Turn</th>\n",
       "      <th>COLLISIONTYPE_Other</th>\n",
       "      <th>COLLISIONTYPE_Parked Car</th>\n",
       "      <th>COLLISIONTYPE_Pedestrian</th>\n",
       "      <th>COLLISIONTYPE_Rear Ended</th>\n",
       "      <th>...</th>\n",
       "      <th>ST_COLCODE_72</th>\n",
       "      <th>ST_COLCODE_73</th>\n",
       "      <th>ST_COLCODE_74</th>\n",
       "      <th>ST_COLCODE_8</th>\n",
       "      <th>ST_COLCODE_81</th>\n",
       "      <th>ST_COLCODE_82</th>\n",
       "      <th>ST_COLCODE_83</th>\n",
       "      <th>ST_COLCODE_84</th>\n",
       "      <th>HITPARKEDCAR_Y</th>\n",
       "      <th>Severity</th>\n",
       "    </tr>\n",
       "  </thead>\n",
       "  <tbody>\n",
       "    <tr>\n",
       "      <th>14997</th>\n",
       "      <td>1</td>\n",
       "      <td>0</td>\n",
       "      <td>1</td>\n",
       "      <td>0</td>\n",
       "      <td>0</td>\n",
       "      <td>0</td>\n",
       "      <td>0</td>\n",
       "      <td>0</td>\n",
       "      <td>0</td>\n",
       "      <td>0</td>\n",
       "      <td>...</td>\n",
       "      <td>0</td>\n",
       "      <td>0</td>\n",
       "      <td>0</td>\n",
       "      <td>0</td>\n",
       "      <td>0</td>\n",
       "      <td>0</td>\n",
       "      <td>0</td>\n",
       "      <td>0</td>\n",
       "      <td>0</td>\n",
       "      <td>1</td>\n",
       "    </tr>\n",
       "    <tr>\n",
       "      <th>32650</th>\n",
       "      <td>1</td>\n",
       "      <td>0</td>\n",
       "      <td>1</td>\n",
       "      <td>0</td>\n",
       "      <td>0</td>\n",
       "      <td>0</td>\n",
       "      <td>0</td>\n",
       "      <td>0</td>\n",
       "      <td>0</td>\n",
       "      <td>0</td>\n",
       "      <td>...</td>\n",
       "      <td>0</td>\n",
       "      <td>0</td>\n",
       "      <td>0</td>\n",
       "      <td>0</td>\n",
       "      <td>0</td>\n",
       "      <td>0</td>\n",
       "      <td>0</td>\n",
       "      <td>0</td>\n",
       "      <td>0</td>\n",
       "      <td>1</td>\n",
       "    </tr>\n",
       "    <tr>\n",
       "      <th>13881</th>\n",
       "      <td>1</td>\n",
       "      <td>0</td>\n",
       "      <td>1</td>\n",
       "      <td>0</td>\n",
       "      <td>0</td>\n",
       "      <td>0</td>\n",
       "      <td>0</td>\n",
       "      <td>0</td>\n",
       "      <td>0</td>\n",
       "      <td>0</td>\n",
       "      <td>...</td>\n",
       "      <td>0</td>\n",
       "      <td>0</td>\n",
       "      <td>0</td>\n",
       "      <td>0</td>\n",
       "      <td>0</td>\n",
       "      <td>0</td>\n",
       "      <td>0</td>\n",
       "      <td>0</td>\n",
       "      <td>0</td>\n",
       "      <td>1</td>\n",
       "    </tr>\n",
       "    <tr>\n",
       "      <th>23212</th>\n",
       "      <td>1</td>\n",
       "      <td>1</td>\n",
       "      <td>0</td>\n",
       "      <td>0</td>\n",
       "      <td>0</td>\n",
       "      <td>0</td>\n",
       "      <td>0</td>\n",
       "      <td>1</td>\n",
       "      <td>0</td>\n",
       "      <td>0</td>\n",
       "      <td>...</td>\n",
       "      <td>0</td>\n",
       "      <td>0</td>\n",
       "      <td>0</td>\n",
       "      <td>0</td>\n",
       "      <td>0</td>\n",
       "      <td>0</td>\n",
       "      <td>0</td>\n",
       "      <td>0</td>\n",
       "      <td>0</td>\n",
       "      <td>1</td>\n",
       "    </tr>\n",
       "    <tr>\n",
       "      <th>14643</th>\n",
       "      <td>1</td>\n",
       "      <td>1</td>\n",
       "      <td>0</td>\n",
       "      <td>0</td>\n",
       "      <td>0</td>\n",
       "      <td>0</td>\n",
       "      <td>0</td>\n",
       "      <td>1</td>\n",
       "      <td>0</td>\n",
       "      <td>0</td>\n",
       "      <td>...</td>\n",
       "      <td>0</td>\n",
       "      <td>0</td>\n",
       "      <td>0</td>\n",
       "      <td>0</td>\n",
       "      <td>0</td>\n",
       "      <td>0</td>\n",
       "      <td>0</td>\n",
       "      <td>0</td>\n",
       "      <td>0</td>\n",
       "      <td>1</td>\n",
       "    </tr>\n",
       "  </tbody>\n",
       "</table>\n",
       "<p>5 rows × 147 columns</p>\n",
       "</div>"
      ],
      "text/plain": [
       "       SEVERITYCODE  ADDRTYPE_Block  ADDRTYPE_Intersection  \\\n",
       "14997             1               0                      1   \n",
       "32650             1               0                      1   \n",
       "13881             1               0                      1   \n",
       "23212             1               1                      0   \n",
       "14643             1               1                      0   \n",
       "\n",
       "       COLLISIONTYPE_Cycles  COLLISIONTYPE_Head On  COLLISIONTYPE_Left Turn  \\\n",
       "14997                     0                      0                        0   \n",
       "32650                     0                      0                        0   \n",
       "13881                     0                      0                        0   \n",
       "23212                     0                      0                        0   \n",
       "14643                     0                      0                        0   \n",
       "\n",
       "       COLLISIONTYPE_Other  COLLISIONTYPE_Parked Car  \\\n",
       "14997                    0                         0   \n",
       "32650                    0                         0   \n",
       "13881                    0                         0   \n",
       "23212                    0                         1   \n",
       "14643                    0                         1   \n",
       "\n",
       "       COLLISIONTYPE_Pedestrian  COLLISIONTYPE_Rear Ended  ...  ST_COLCODE_72  \\\n",
       "14997                         0                         0  ...              0   \n",
       "32650                         0                         0  ...              0   \n",
       "13881                         0                         0  ...              0   \n",
       "23212                         0                         0  ...              0   \n",
       "14643                         0                         0  ...              0   \n",
       "\n",
       "       ST_COLCODE_73  ST_COLCODE_74  ST_COLCODE_8  ST_COLCODE_81  \\\n",
       "14997              0              0             0              0   \n",
       "32650              0              0             0              0   \n",
       "13881              0              0             0              0   \n",
       "23212              0              0             0              0   \n",
       "14643              0              0             0              0   \n",
       "\n",
       "       ST_COLCODE_82  ST_COLCODE_83  ST_COLCODE_84  HITPARKEDCAR_Y  Severity  \n",
       "14997              0              0              0               0         1  \n",
       "32650              0              0              0               0         1  \n",
       "13881              0              0              0               0         1  \n",
       "23212              0              0              0               0         1  \n",
       "14643              0              0              0               0         1  \n",
       "\n",
       "[5 rows x 147 columns]"
      ]
     },
     "execution_count": 26,
     "metadata": {},
     "output_type": "execute_result"
    }
   ],
   "source": [
    "df_B.head()"
   ]
  },
  {
   "cell_type": "code",
   "execution_count": 27,
   "metadata": {},
   "outputs": [
    {
     "data": {
      "text/plain": [
       "4    10000\n",
       "3    10000\n",
       "2    10000\n",
       "1    10000\n",
       "Name: SEVERITYCODE, dtype: int64"
      ]
     },
     "execution_count": 27,
     "metadata": {},
     "output_type": "execute_result"
    }
   ],
   "source": [
    "df_B['SEVERITYCODE'].value_counts()"
   ]
  },
  {
   "cell_type": "code",
   "execution_count": 28,
   "metadata": {},
   "outputs": [],
   "source": [
    "filename = \"Data-Collision-after-Balanced\"\n",
    "df_B.to_csv(filename, index=False)"
   ]
  },
  {
   "cell_type": "code",
   "execution_count": 49,
   "metadata": {},
   "outputs": [],
   "source": [
    "df_B=pd.read_csv(\"Data-Collision-after-Balanced\")\n",
    "y = df_B['SEVERITYCODE']\n",
    "X = df_B.drop('SEVERITYCODE', axis=1)\n"
   ]
  },
  {
   "cell_type": "code",
   "execution_count": 50,
   "metadata": {},
   "outputs": [
    {
     "name": "stderr",
     "output_type": "stream",
     "text": [
      "/home/jupyterlab/conda/envs/python/lib/python3.6/site-packages/sklearn/preprocessing/data.py:625: DataConversionWarning: Data with input dtype int64 were all converted to float64 by StandardScaler.\n",
      "  return self.partial_fit(X, y)\n",
      "/home/jupyterlab/conda/envs/python/lib/python3.6/site-packages/ipykernel_launcher.py:2: DataConversionWarning: Data with input dtype int64 were all converted to float64 by StandardScaler.\n",
      "  \n"
     ]
    }
   ],
   "source": [
    "X=X.drop('Severity', axis=1)\n",
    "X = StandardScaler().fit(X).transform(X)\n",
    "\n",
    "# Split the data set into training and testing data sets\n",
    "X_train, X_test, y_train, y_test = train_test_split(X, y, test_size=0.2, random_state=4)"
   ]
  },
  {
   "cell_type": "code",
   "execution_count": 6,
   "metadata": {},
   "outputs": [
    {
     "data": {
      "text/plain": [
       "(32000, 145)"
      ]
     },
     "execution_count": 6,
     "metadata": {},
     "output_type": "execute_result"
    }
   ],
   "source": [
    "X_train.shape"
   ]
  },
  {
   "cell_type": "markdown",
   "metadata": {},
   "source": [
    "### Logistic Regression"
   ]
  },
  {
   "cell_type": "code",
   "execution_count": 57,
   "metadata": {},
   "outputs": [
    {
     "name": "stderr",
     "output_type": "stream",
     "text": [
      "/home/jupyterlab/conda/envs/python/lib/python3.6/site-packages/sklearn/linear_model/logistic.py:460: FutureWarning: Default multi_class will be changed to 'auto' in 0.22. Specify the multi_class option to silence this warning.\n",
      "  \"this warning.\", FutureWarning)\n"
     ]
    },
    {
     "data": {
      "text/plain": [
       "LogisticRegression(C=0.01, class_weight=None, dual=False, fit_intercept=True,\n",
       "          intercept_scaling=1, max_iter=100, multi_class='warn',\n",
       "          n_jobs=None, penalty='l2', random_state=None, solver='liblinear',\n",
       "          tol=0.0001, verbose=0, warm_start=False)"
      ]
     },
     "execution_count": 57,
     "metadata": {},
     "output_type": "execute_result"
    }
   ],
   "source": [
    "from sklearn.linear_model import LogisticRegression\n",
    "\n",
    "# Classifier Model = Logistic Regression\n",
    "LR = LogisticRegression(C=0.01, solver='liblinear').fit(X_train,y_train)\n",
    "LR\n",
    "\n"
   ]
  },
  {
   "cell_type": "code",
   "execution_count": 58,
   "metadata": {},
   "outputs": [
    {
     "name": "stdout",
     "output_type": "stream",
     "text": [
      "Test set Accuracy:  0.56225\n"
     ]
    }
   ],
   "source": [
    "yhat = LR.predict(X_test)\n",
    "yhat\n",
    "LR_accuracy=metrics.accuracy_score(y_test, yhat)\n",
    "print(\"Test set Accuracy: \", metrics.accuracy_score(y_test, yhat))"
   ]
  },
  {
   "cell_type": "code",
   "execution_count": 21,
   "metadata": {},
   "outputs": [],
   "source": [
    "def plot_confusion_matrix(cm, classes,\n",
    "                          normalize=False,\n",
    "                          title='Confusion matrix',\n",
    "                          cmap=plt.cm.Blues):\n",
    "    \"\"\"\n",
    "    This function prints and plots the confusion matrix.\n",
    "    Normalization can be applied by setting `normalize=True`.\n",
    "    \"\"\"\n",
    "    if normalize:\n",
    "        cm = cm.astype('float') / cm.sum(axis=1)[:, np.newaxis]\n",
    "        print(\"Normalized confusion matrix\")\n",
    "    else:\n",
    "        print('Confusion matrix, without normalization')\n",
    "\n",
    "    print(cm)\n",
    "\n",
    "    plt.imshow(cm, interpolation='nearest', cmap=cmap)\n",
    "    plt.title(title)\n",
    "    plt.colorbar()\n",
    "    tick_marks = np.arange(len(classes)) \n",
    "    plt.xticks(tick_marks, classes, rotation=45)\n",
    "    plt.yticks(tick_marks, classes)\n",
    "\n",
    "    fmt = '.2f' if normalize else 'd'\n",
    "    thresh = cm.max() / 2.\n",
    "    for i, j in itertools.product(range(cm.shape[0]), range(cm.shape[1])):\n",
    "        plt.text(j, i, format(cm[i, j], fmt),\n",
    "                 horizontalalignment=\"center\",\n",
    "                 color=\"white\" if cm[i, j] > thresh else \"black\")\n",
    "\n",
    "    plt.tight_layout()\n",
    "    plt.ylabel('True label')\n",
    "    plt.xlabel('Predicted label')\n",
    "    \n",
    "    print (classification_report(y_test, yhat))\n"
   ]
  },
  {
   "cell_type": "code",
   "execution_count": 59,
   "metadata": {},
   "outputs": [
    {
     "name": "stdout",
     "output_type": "stream",
     "text": [
      "Confusion matrix, without normalization\n",
      "[[1177  595  117  105]\n",
      " [ 324 1085  382  225]\n",
      " [ 202  502  745  527]\n",
      " [  79  238  206 1491]]\n",
      "              precision    recall  f1-score   support\n",
      "\n",
      "           1       0.66      0.59      0.62      1994\n",
      "           2       0.45      0.54      0.49      2016\n",
      "           3       0.51      0.38      0.43      1976\n",
      "           4       0.64      0.74      0.68      2014\n",
      "\n",
      "   micro avg       0.56      0.56      0.56      8000\n",
      "   macro avg       0.56      0.56      0.56      8000\n",
      "weighted avg       0.56      0.56      0.56      8000\n",
      "\n"
     ]
    },
    {
     "data": {
      "image/png": "[encoded data removed]",
      "text/plain": [
       "<Figure size 432x288 with 2 Axes>"
      ]
     },
     "metadata": {
      "needs_background": "light"
     },
     "output_type": "display_data"
    }
   ],
   "source": [
    "cnf_matrix = confusion_matrix(y_test, yhat, labels=[1,2,3,4])\n",
    "\n",
    "\n",
    "# Plot non-normalized confusion matrix\n",
    "plt.figure()\n",
    "plot_confusion_matrix(cnf_matrix, classes=[1,2,3,4],normalize= False,  title='Confusion matrix')\n"
   ]
  },
  {
   "cell_type": "markdown",
   "metadata": {},
   "source": [
    "### K Nearest Neighbour (KNN)\n"
   ]
  },
  {
   "cell_type": "code",
   "execution_count": 64,
   "metadata": {},
   "outputs": [
    {
     "data": {
      "image/png": "[encoded data removed]",
      "text/plain": [
       "<Figure size 432x288 with 1 Axes>"
      ]
     },
     "metadata": {
      "needs_background": "light"
     },
     "output_type": "display_data"
    }
   ],
   "source": [
    "from sklearn.neighbors import KNeighborsClassifier\n",
    "Ks=10\n",
    "mean_acc = np.zeros((Ks-1))\n",
    "std_acc = np.zeros((Ks-1))\n",
    "for i in range(1,Ks):\n",
    "    knn = KNeighborsClassifier(n_neighbors=i).fit(X_train, y_train)\n",
    "    yhat=knn.predict(X_test)\n",
    "    mean_acc[i-1] = metrics.accuracy_score(y_test, yhat)\n",
    "    std_acc[i-1]=np.std(yhat==y_test)/np.sqrt(yhat.shape[0])\n",
    "\n",
    "plt.plot(range(1,Ks),mean_acc,'g')\n",
    "plt.fill_between(range(1,Ks),mean_acc - 1 * std_acc,mean_acc + 1 * std_acc, alpha=0.10)\n",
    "plt.legend(('Accuracy ', '+/- 3xstd'))\n",
    "plt.ylabel('Accuracy ')\n",
    "plt.xlabel('Number of Nabors (K)')\n",
    "plt.tight_layout()\n",
    "plt.show()\n"
   ]
  },
  {
   "cell_type": "code",
   "execution_count": 7,
   "metadata": {},
   "outputs": [
    {
     "name": "stdout",
     "output_type": "stream",
     "text": [
      "Test set Accuracy:  0.673125\n"
     ]
    }
   ],
   "source": [
    "from sklearn.neighbors import KNeighborsClassifier\n",
    "knn = KNeighborsClassifier(n_neighbors=7).fit(X_train, y_train)\n",
    "yhat=knn.predict(X_test)\n",
    "knn_acuuracy=metrics.accuracy_score(y_test, yhat)\n",
    "print(\"Test set Accuracy: \", metrics.accuracy_score(y_test, yhat))"
   ]
  },
  {
   "cell_type": "code",
   "execution_count": 10,
   "metadata": {},
   "outputs": [
    {
     "name": "stdout",
     "output_type": "stream",
     "text": [
      "Confusion matrix, without normalization\n",
      "[[1171  556  218   49]\n",
      " [ 429 1102  396   89]\n",
      " [ 146  314 1335  181]\n",
      " [  63  125   49 1777]]\n",
      "              precision    recall  f1-score   support\n",
      "\n",
      "           1       0.65      0.59      0.62      1994\n",
      "           2       0.53      0.55      0.54      2016\n",
      "           3       0.67      0.68      0.67      1976\n",
      "           4       0.85      0.88      0.86      2014\n",
      "\n",
      "   micro avg       0.67      0.67      0.67      8000\n",
      "   macro avg       0.67      0.67      0.67      8000\n",
      "weighted avg       0.67      0.67      0.67      8000\n",
      "\n"
     ]
    },
    {
     "data": {
      "image/png": "[encoded data removed]",
      "text/plain": [
       "<Figure size 432x288 with 2 Axes>"
      ]
     },
     "metadata": {
      "needs_background": "light"
     },
     "output_type": "display_data"
    }
   ],
   "source": [
    "cnf_matrix = confusion_matrix(y_test, yhat, labels=[1,2,3,4])\n",
    "\n",
    "\n",
    "# Plot non-normalized confusion matrix\n",
    "plt.figure()\n",
    "plot_confusion_matrix(cnf_matrix, classes=[1,2,3,4],normalize= False,  title='Confusion matrix')"
   ]
  },
  {
   "cell_type": "markdown",
   "metadata": {},
   "source": [
    "### SVM"
   ]
  },
  {
   "cell_type": "code",
   "execution_count": 61,
   "metadata": {},
   "outputs": [
    {
     "name": "stderr",
     "output_type": "stream",
     "text": [
      "/home/jupyterlab/conda/envs/python/lib/python3.6/site-packages/sklearn/svm/base.py:196: FutureWarning: The default value of gamma will change from 'auto' to 'scale' in version 0.22 to account better for unscaled features. Set gamma explicitly to 'auto' or 'scale' to avoid this warning.\n",
      "  \"avoid this warning.\", FutureWarning)\n"
     ]
    },
    {
     "data": {
      "text/plain": [
       "SVC(C=1.0, cache_size=200, class_weight=None, coef0=0.0,\n",
       "  decision_function_shape='ovr', degree=3, gamma='auto_deprecated',\n",
       "  kernel='rbf', max_iter=-1, probability=False, random_state=None,\n",
       "  shrinking=True, tol=0.001, verbose=False)"
      ]
     },
     "execution_count": 61,
     "metadata": {},
     "output_type": "execute_result"
    }
   ],
   "source": [
    "from sklearn import svm\n",
    "clf = svm.SVC(kernel='rbf')\n",
    "clf.fit(X_train, y_train) \n"
   ]
  },
  {
   "cell_type": "code",
   "execution_count": 62,
   "metadata": {},
   "outputs": [
    {
     "name": "stdout",
     "output_type": "stream",
     "text": [
      "Test set Accuracy:  0.655875\n"
     ]
    }
   ],
   "source": [
    "yhat = clf.predict(X_test)\n",
    "svm_acuuracy=metrics.accuracy_score(y_test, yhat)\n",
    "print(\"Test set Accuracy: \", metrics.accuracy_score(y_test, yhat))"
   ]
  },
  {
   "cell_type": "code",
   "execution_count": 63,
   "metadata": {},
   "outputs": [
    {
     "name": "stdout",
     "output_type": "stream",
     "text": [
      "Confusion matrix, without normalization\n",
      "[[1181  620  128   65]\n",
      " [ 328 1167  395  126]\n",
      " [ 164  458 1081  273]\n",
      " [  44  152    0 1818]]\n",
      "              precision    recall  f1-score   support\n",
      "\n",
      "           1       0.69      0.59      0.64      1994\n",
      "           2       0.49      0.58      0.53      2016\n",
      "           3       0.67      0.55      0.60      1976\n",
      "           4       0.80      0.90      0.85      2014\n",
      "\n",
      "   micro avg       0.66      0.66      0.66      8000\n",
      "   macro avg       0.66      0.66      0.65      8000\n",
      "weighted avg       0.66      0.66      0.65      8000\n",
      "\n"
     ]
    },
    {
     "data": {
      "image/png": "[encoded data removed]",
      "text/plain": [
       "<Figure size 432x288 with 2 Axes>"
      ]
     },
     "metadata": {
      "needs_background": "light"
     },
     "output_type": "display_data"
    }
   ],
   "source": [
    "cnf_matrix = confusion_matrix(y_test, yhat, labels=[1,2,3,4])\n",
    "\n",
    "# Plot non-normalized confusion matrix\n",
    "plt.figure()\n",
    "plot_confusion_matrix(cnf_matrix, classes=[1,2,3,4],normalize= False,  title='Confusion matrix')"
   ]
  },
  {
   "cell_type": "markdown",
   "metadata": {},
   "source": [
    "### Decision Tree"
   ]
  },
  {
   "cell_type": "code",
   "execution_count": 11,
   "metadata": {},
   "outputs": [],
   "source": [
    "from sklearn.tree import DecisionTreeClassifier"
   ]
  },
  {
   "cell_type": "code",
   "execution_count": 51,
   "metadata": {},
   "outputs": [
    {
     "data": {
      "text/plain": [
       "DecisionTreeClassifier(class_weight='balanced', criterion='gini',\n",
       "            max_depth=None, max_features='log2', max_leaf_nodes=None,\n",
       "            min_impurity_decrease=0.0, min_impurity_split=None,\n",
       "            min_samples_leaf=1, min_samples_split=5,\n",
       "            min_weight_fraction_leaf=0.0, presort=False, random_state=20,\n",
       "            splitter='best')"
      ]
     },
     "execution_count": 51,
     "metadata": {},
     "output_type": "execute_result"
    }
   ],
   "source": [
    "Tree = DecisionTreeClassifier(min_samples_split = 5, max_features = 'log2', \n",
    "                                       class_weight='balanced', random_state=20)\n",
    "Tree.fit(X_train,y_train)"
   ]
  },
  {
   "cell_type": "code",
   "execution_count": 52,
   "metadata": {},
   "outputs": [
    {
     "name": "stdout",
     "output_type": "stream",
     "text": [
      "Test set Accuracy:  0.70825\n"
     ]
    }
   ],
   "source": [
    "yhat = Tree.predict(X_test)\n",
    "decision_tree_acuuracy=metrics.accuracy_score(y_test, yhat)\n",
    "print(\"Test set Accuracy: \", metrics.accuracy_score(y_test, yhat))"
   ]
  },
  {
   "cell_type": "code",
   "execution_count": 53,
   "metadata": {},
   "outputs": [
    {
     "name": "stdout",
     "output_type": "stream",
     "text": [
      "Confusion matrix, without normalization\n",
      "[[1133  627  176   58]\n",
      " [ 285 1297  332  102]\n",
      " [  74  331 1361  210]\n",
      " [  44   95    0 1875]]\n",
      "              precision    recall  f1-score   support\n",
      "\n",
      "           1       0.74      0.57      0.64      1994\n",
      "           2       0.55      0.64      0.59      2016\n",
      "           3       0.73      0.69      0.71      1976\n",
      "           4       0.84      0.93      0.88      2014\n",
      "\n",
      "   micro avg       0.71      0.71      0.71      8000\n",
      "   macro avg       0.71      0.71      0.71      8000\n",
      "weighted avg       0.71      0.71      0.71      8000\n",
      "\n"
     ]
    },
    {
     "data": {
      "image/png": "[encoded data removed]",
      "text/plain": [
       "<Figure size 432x288 with 2 Axes>"
      ]
     },
     "metadata": {
      "needs_background": "light"
     },
     "output_type": "display_data"
    }
   ],
   "source": [
    "cnf_matrix = confusion_matrix(y_test, yhat, labels=[1,2,3,4])\n",
    "\n",
    "# Plot non-normalized confusion matrix\n",
    "plt.figure\n",
    "plot_confusion_matrix(cnf_matrix, classes=[1,2,3,4],normalize= False,  title='Confusion matrix')"
   ]
  },
  {
   "cell_type": "code",
   "execution_count": 54,
   "metadata": {},
   "outputs": [
    {
     "data": {
      "image/png": "[encoded data removed]",
      "text/plain": [
       "<Figure size 720x720 with 1 Axes>"
      ]
     },
     "metadata": {
      "needs_background": "light"
     },
     "output_type": "display_data"
    }
   ],
   "source": [
    "df_BX=df_B.drop('SEVERITYCODE',axis=1)\n",
    "importances = pd.DataFrame(np.zeros((X_train.shape[1], 1)), columns=['importance'], \n",
    "                           index=df_BX.drop('Severity',axis=1).columns)\n",
    "\n",
    "importances.iloc[:,0] = Tree.feature_importances_\n",
    "\n",
    "importances.sort_values(by='importance', inplace=True, ascending=False)\n",
    "importancestop = importances.head(30)\n",
    "\n",
    "plt.figure(figsize=(10, 10))\n",
    "sns.barplot(x='importance', y=importancestop.index, data=importancestop)\n",
    "\n",
    "plt.xlabel('')\n",
    "plt.tick_params(axis='x', labelsize=10)\n",
    "plt.tick_params(axis='y', labelsize=10)\n",
    "plt.title('Feature Importance (using Decision Tree Classifier)', size=15)\n",
    "\n",
    "plt.show()"
   ]
  },
  {
   "cell_type": "markdown",
   "metadata": {},
   "source": [
    "Evaluation"
   ]
  },
  {
   "cell_type": "code",
   "execution_count": 66,
   "metadata": {},
   "outputs": [
    {
     "data": {
      "text/html": [
       "<div>\n",
       "<style scoped>\n",
       "    .dataframe tbody tr th:only-of-type {\n",
       "        vertical-align: middle;\n",
       "    }\n",
       "\n",
       "    .dataframe tbody tr th {\n",
       "        vertical-align: top;\n",
       "    }\n",
       "\n",
       "    .dataframe thead th {\n",
       "        text-align: right;\n",
       "    }\n",
       "</style>\n",
       "<table border=\"1\" class=\"dataframe\">\n",
       "  <thead>\n",
       "    <tr style=\"text-align: right;\">\n",
       "      <th></th>\n",
       "      <th>Algorithm</th>\n",
       "      <th>Accuracy</th>\n",
       "    </tr>\n",
       "  </thead>\n",
       "  <tbody>\n",
       "    <tr>\n",
       "      <th>0</th>\n",
       "      <td>LR</td>\n",
       "      <td>56.23%</td>\n",
       "    </tr>\n",
       "    <tr>\n",
       "      <th>1</th>\n",
       "      <td>KNN</td>\n",
       "      <td>67.31%</td>\n",
       "    </tr>\n",
       "    <tr>\n",
       "      <th>2</th>\n",
       "      <td>SVM</td>\n",
       "      <td>65.59%</td>\n",
       "    </tr>\n",
       "    <tr>\n",
       "      <th>3</th>\n",
       "      <td>Decision Tree</td>\n",
       "      <td>70.83%</td>\n",
       "    </tr>\n",
       "  </tbody>\n",
       "</table>\n",
       "</div>"
      ],
      "text/plain": [
       "       Algorithm Accuracy\n",
       "0             LR   56.23%\n",
       "1            KNN   67.31%\n",
       "2            SVM   65.59%\n",
       "3  Decision Tree   70.83%"
      ]
     },
     "execution_count": 66,
     "metadata": {},
     "output_type": "execute_result"
    }
   ],
   "source": [
    "Eva_Multiclass=pd.DataFrame(data={'Algorithm':[\"LR\",\"KNN\",\"SVM\",\"Decision Tree\"], 'Accuracy':[\"56.23%\", \"67.31%\", \"65.59%\", \"70.83%\"]})\n",
    "#Eva_Multiclass.set_index('Algorithm',inplace=True)\n",
    "Eva_Multiclass"
   ]
  },
  {
   "cell_type": "markdown",
   "metadata": {},
   "source": [
    "### Two-Class"
   ]
  },
  {
   "cell_type": "markdown",
   "metadata": {},
   "source": [
    "Since the test accuracy of the multiple-class prediction model is not very high, here we can rearrange the severity code to 2 classes. Severity=0 contains SEVERITYCODE=1,2(2—injury, 1—prop damage). Severity=1 contains SEVERITYCODE=2b,3(3—fatality, 2b—serious injury)."
   ]
  },
  {
   "cell_type": "code",
   "execution_count": 4,
   "metadata": {},
   "outputs": [
    {
     "data": {
      "text/html": [
       "<div>\n",
       "<style scoped>\n",
       "    .dataframe tbody tr th:only-of-type {\n",
       "        vertical-align: middle;\n",
       "    }\n",
       "\n",
       "    .dataframe tbody tr th {\n",
       "        vertical-align: top;\n",
       "    }\n",
       "\n",
       "    .dataframe thead th {\n",
       "        text-align: right;\n",
       "    }\n",
       "</style>\n",
       "<table border=\"1\" class=\"dataframe\">\n",
       "  <thead>\n",
       "    <tr style=\"text-align: right;\">\n",
       "      <th></th>\n",
       "      <th>SEVERITYCODE</th>\n",
       "      <th>ADDRTYPE_Block</th>\n",
       "      <th>ADDRTYPE_Intersection</th>\n",
       "      <th>COLLISIONTYPE_Cycles</th>\n",
       "      <th>COLLISIONTYPE_Head On</th>\n",
       "      <th>COLLISIONTYPE_Left Turn</th>\n",
       "      <th>COLLISIONTYPE_Other</th>\n",
       "      <th>COLLISIONTYPE_Parked Car</th>\n",
       "      <th>COLLISIONTYPE_Pedestrian</th>\n",
       "      <th>COLLISIONTYPE_Rear Ended</th>\n",
       "      <th>...</th>\n",
       "      <th>ST_COLCODE_71.1</th>\n",
       "      <th>ST_COLCODE_72.1</th>\n",
       "      <th>ST_COLCODE_73.1</th>\n",
       "      <th>ST_COLCODE_74.1</th>\n",
       "      <th>ST_COLCODE_8</th>\n",
       "      <th>ST_COLCODE_81.1</th>\n",
       "      <th>ST_COLCODE_82.1</th>\n",
       "      <th>ST_COLCODE_83.1</th>\n",
       "      <th>ST_COLCODE_84.1</th>\n",
       "      <th>HITPARKEDCAR_Y</th>\n",
       "    </tr>\n",
       "  </thead>\n",
       "  <tbody>\n",
       "    <tr>\n",
       "      <th>0</th>\n",
       "      <td>1</td>\n",
       "      <td>1</td>\n",
       "      <td>0</td>\n",
       "      <td>0</td>\n",
       "      <td>0</td>\n",
       "      <td>0</td>\n",
       "      <td>0</td>\n",
       "      <td>0</td>\n",
       "      <td>0</td>\n",
       "      <td>0</td>\n",
       "      <td>...</td>\n",
       "      <td>0</td>\n",
       "      <td>0</td>\n",
       "      <td>0</td>\n",
       "      <td>0</td>\n",
       "      <td>0</td>\n",
       "      <td>0</td>\n",
       "      <td>0</td>\n",
       "      <td>0</td>\n",
       "      <td>0</td>\n",
       "      <td>0</td>\n",
       "    </tr>\n",
       "    <tr>\n",
       "      <th>1</th>\n",
       "      <td>1</td>\n",
       "      <td>1</td>\n",
       "      <td>0</td>\n",
       "      <td>0</td>\n",
       "      <td>0</td>\n",
       "      <td>0</td>\n",
       "      <td>0</td>\n",
       "      <td>1</td>\n",
       "      <td>0</td>\n",
       "      <td>0</td>\n",
       "      <td>...</td>\n",
       "      <td>0</td>\n",
       "      <td>0</td>\n",
       "      <td>0</td>\n",
       "      <td>0</td>\n",
       "      <td>0</td>\n",
       "      <td>0</td>\n",
       "      <td>0</td>\n",
       "      <td>0</td>\n",
       "      <td>0</td>\n",
       "      <td>1</td>\n",
       "    </tr>\n",
       "    <tr>\n",
       "      <th>2</th>\n",
       "      <td>1</td>\n",
       "      <td>1</td>\n",
       "      <td>0</td>\n",
       "      <td>0</td>\n",
       "      <td>0</td>\n",
       "      <td>0</td>\n",
       "      <td>0</td>\n",
       "      <td>0</td>\n",
       "      <td>0</td>\n",
       "      <td>1</td>\n",
       "      <td>...</td>\n",
       "      <td>0</td>\n",
       "      <td>0</td>\n",
       "      <td>0</td>\n",
       "      <td>0</td>\n",
       "      <td>0</td>\n",
       "      <td>0</td>\n",
       "      <td>0</td>\n",
       "      <td>0</td>\n",
       "      <td>0</td>\n",
       "      <td>0</td>\n",
       "    </tr>\n",
       "    <tr>\n",
       "      <th>3</th>\n",
       "      <td>1</td>\n",
       "      <td>1</td>\n",
       "      <td>0</td>\n",
       "      <td>0</td>\n",
       "      <td>0</td>\n",
       "      <td>0</td>\n",
       "      <td>1</td>\n",
       "      <td>0</td>\n",
       "      <td>0</td>\n",
       "      <td>0</td>\n",
       "      <td>...</td>\n",
       "      <td>0</td>\n",
       "      <td>0</td>\n",
       "      <td>0</td>\n",
       "      <td>0</td>\n",
       "      <td>0</td>\n",
       "      <td>0</td>\n",
       "      <td>0</td>\n",
       "      <td>0</td>\n",
       "      <td>0</td>\n",
       "      <td>0</td>\n",
       "    </tr>\n",
       "    <tr>\n",
       "      <th>4</th>\n",
       "      <td>1</td>\n",
       "      <td>0</td>\n",
       "      <td>1</td>\n",
       "      <td>0</td>\n",
       "      <td>0</td>\n",
       "      <td>0</td>\n",
       "      <td>0</td>\n",
       "      <td>0</td>\n",
       "      <td>0</td>\n",
       "      <td>0</td>\n",
       "      <td>...</td>\n",
       "      <td>0</td>\n",
       "      <td>0</td>\n",
       "      <td>0</td>\n",
       "      <td>0</td>\n",
       "      <td>0</td>\n",
       "      <td>1</td>\n",
       "      <td>0</td>\n",
       "      <td>0</td>\n",
       "      <td>0</td>\n",
       "      <td>0</td>\n",
       "    </tr>\n",
       "  </tbody>\n",
       "</table>\n",
       "<p>5 rows × 146 columns</p>\n",
       "</div>"
      ],
      "text/plain": [
       "   SEVERITYCODE  ADDRTYPE_Block  ADDRTYPE_Intersection  COLLISIONTYPE_Cycles  \\\n",
       "0             1               1                      0                     0   \n",
       "1             1               1                      0                     0   \n",
       "2             1               1                      0                     0   \n",
       "3             1               1                      0                     0   \n",
       "4             1               0                      1                     0   \n",
       "\n",
       "   COLLISIONTYPE_Head On  COLLISIONTYPE_Left Turn  COLLISIONTYPE_Other  \\\n",
       "0                      0                        0                    0   \n",
       "1                      0                        0                    0   \n",
       "2                      0                        0                    0   \n",
       "3                      0                        0                    1   \n",
       "4                      0                        0                    0   \n",
       "\n",
       "   COLLISIONTYPE_Parked Car  COLLISIONTYPE_Pedestrian  \\\n",
       "0                         0                         0   \n",
       "1                         1                         0   \n",
       "2                         0                         0   \n",
       "3                         0                         0   \n",
       "4                         0                         0   \n",
       "\n",
       "   COLLISIONTYPE_Rear Ended  ...  ST_COLCODE_71.1  ST_COLCODE_72.1  \\\n",
       "0                         0  ...                0                0   \n",
       "1                         0  ...                0                0   \n",
       "2                         1  ...                0                0   \n",
       "3                         0  ...                0                0   \n",
       "4                         0  ...                0                0   \n",
       "\n",
       "   ST_COLCODE_73.1  ST_COLCODE_74.1  ST_COLCODE_8  ST_COLCODE_81.1  \\\n",
       "0                0                0             0                0   \n",
       "1                0                0             0                0   \n",
       "2                0                0             0                0   \n",
       "3                0                0             0                0   \n",
       "4                0                0             0                1   \n",
       "\n",
       "   ST_COLCODE_82.1  ST_COLCODE_83.1  ST_COLCODE_84.1  HITPARKEDCAR_Y  \n",
       "0                0                0                0               0  \n",
       "1                0                0                0               1  \n",
       "2                0                0                0               0  \n",
       "3                0                0                0               0  \n",
       "4                0                0                0               0  \n",
       "\n",
       "[5 rows x 146 columns]"
      ]
     },
     "execution_count": 4,
     "metadata": {},
     "output_type": "execute_result"
    }
   ],
   "source": [
    "df_T=pd.read_csv(\"Data-Collision-after-Feature\")\n",
    "df_T.head()"
   ]
  },
  {
   "cell_type": "code",
   "execution_count": 6,
   "metadata": {},
   "outputs": [
    {
     "data": {
      "text/plain": [
       "1    27102\n",
       "2    11438\n",
       "3      627\n",
       "4       80\n",
       "Name: SEVERITYCODE, dtype: int64"
      ]
     },
     "execution_count": 6,
     "metadata": {},
     "output_type": "execute_result"
    }
   ],
   "source": [
    "df_T.SEVERITYCODE.value_counts()"
   ]
  },
  {
   "cell_type": "code",
   "execution_count": 9,
   "metadata": {},
   "outputs": [
    {
     "data": {
      "text/plain": [
       "0    38540\n",
       "1      707\n",
       "Name: Severity, dtype: int64"
      ]
     },
     "execution_count": 9,
     "metadata": {},
     "output_type": "execute_result"
    }
   ],
   "source": [
    "df_T['Severity']=1\n",
    "df_T.loc[df_T['SEVERITYCODE'] == 1, 'Severity'] = 0\n",
    "df_T.loc[df_T['SEVERITYCODE'] == 2, 'Severity'] = 0\n",
    "df_T.Severity.value_counts()\n"
   ]
  },
  {
   "cell_type": "code",
   "execution_count": 10,
   "metadata": {},
   "outputs": [
    {
     "data": {
      "text/plain": [
       "1    10000\n",
       "0    10000\n",
       "Name: Severity, dtype: int64"
      ]
     },
     "execution_count": 10,
     "metadata": {},
     "output_type": "execute_result"
    }
   ],
   "source": [
    "df_BT =pd.concat([df_T[df_T['Severity']==1].sample(10000,replace=True),df_T[df_T['Severity']==0].sample(10000,replace=True)], axis=0)\n",
    "df_BT.Severity.value_counts()"
   ]
  },
  {
   "cell_type": "code",
   "execution_count": 11,
   "metadata": {},
   "outputs": [
    {
     "data": {
      "text/html": [
       "<div>\n",
       "<style scoped>\n",
       "    .dataframe tbody tr th:only-of-type {\n",
       "        vertical-align: middle;\n",
       "    }\n",
       "\n",
       "    .dataframe tbody tr th {\n",
       "        vertical-align: top;\n",
       "    }\n",
       "\n",
       "    .dataframe thead th {\n",
       "        text-align: right;\n",
       "    }\n",
       "</style>\n",
       "<table border=\"1\" class=\"dataframe\">\n",
       "  <thead>\n",
       "    <tr style=\"text-align: right;\">\n",
       "      <th></th>\n",
       "      <th>SEVERITYCODE</th>\n",
       "      <th>ADDRTYPE_Block</th>\n",
       "      <th>ADDRTYPE_Intersection</th>\n",
       "      <th>COLLISIONTYPE_Cycles</th>\n",
       "      <th>COLLISIONTYPE_Head On</th>\n",
       "      <th>COLLISIONTYPE_Left Turn</th>\n",
       "      <th>COLLISIONTYPE_Other</th>\n",
       "      <th>COLLISIONTYPE_Parked Car</th>\n",
       "      <th>COLLISIONTYPE_Pedestrian</th>\n",
       "      <th>COLLISIONTYPE_Rear Ended</th>\n",
       "      <th>...</th>\n",
       "      <th>ST_COLCODE_72.1</th>\n",
       "      <th>ST_COLCODE_73.1</th>\n",
       "      <th>ST_COLCODE_74.1</th>\n",
       "      <th>ST_COLCODE_8</th>\n",
       "      <th>ST_COLCODE_81.1</th>\n",
       "      <th>ST_COLCODE_82.1</th>\n",
       "      <th>ST_COLCODE_83.1</th>\n",
       "      <th>ST_COLCODE_84.1</th>\n",
       "      <th>HITPARKEDCAR_Y</th>\n",
       "      <th>Severity</th>\n",
       "    </tr>\n",
       "  </thead>\n",
       "  <tbody>\n",
       "    <tr>\n",
       "      <th>31873</th>\n",
       "      <td>3</td>\n",
       "      <td>0</td>\n",
       "      <td>1</td>\n",
       "      <td>0</td>\n",
       "      <td>0</td>\n",
       "      <td>1</td>\n",
       "      <td>0</td>\n",
       "      <td>0</td>\n",
       "      <td>0</td>\n",
       "      <td>0</td>\n",
       "      <td>...</td>\n",
       "      <td>0</td>\n",
       "      <td>0</td>\n",
       "      <td>0</td>\n",
       "      <td>0</td>\n",
       "      <td>0</td>\n",
       "      <td>0</td>\n",
       "      <td>0</td>\n",
       "      <td>0</td>\n",
       "      <td>0</td>\n",
       "      <td>1</td>\n",
       "    </tr>\n",
       "    <tr>\n",
       "      <th>15934</th>\n",
       "      <td>3</td>\n",
       "      <td>1</td>\n",
       "      <td>0</td>\n",
       "      <td>0</td>\n",
       "      <td>0</td>\n",
       "      <td>0</td>\n",
       "      <td>1</td>\n",
       "      <td>0</td>\n",
       "      <td>0</td>\n",
       "      <td>0</td>\n",
       "      <td>...</td>\n",
       "      <td>0</td>\n",
       "      <td>0</td>\n",
       "      <td>0</td>\n",
       "      <td>0</td>\n",
       "      <td>0</td>\n",
       "      <td>0</td>\n",
       "      <td>0</td>\n",
       "      <td>0</td>\n",
       "      <td>0</td>\n",
       "      <td>1</td>\n",
       "    </tr>\n",
       "    <tr>\n",
       "      <th>36048</th>\n",
       "      <td>3</td>\n",
       "      <td>0</td>\n",
       "      <td>1</td>\n",
       "      <td>0</td>\n",
       "      <td>0</td>\n",
       "      <td>1</td>\n",
       "      <td>0</td>\n",
       "      <td>0</td>\n",
       "      <td>0</td>\n",
       "      <td>0</td>\n",
       "      <td>...</td>\n",
       "      <td>0</td>\n",
       "      <td>0</td>\n",
       "      <td>0</td>\n",
       "      <td>0</td>\n",
       "      <td>0</td>\n",
       "      <td>0</td>\n",
       "      <td>0</td>\n",
       "      <td>0</td>\n",
       "      <td>0</td>\n",
       "      <td>1</td>\n",
       "    </tr>\n",
       "    <tr>\n",
       "      <th>20985</th>\n",
       "      <td>3</td>\n",
       "      <td>0</td>\n",
       "      <td>1</td>\n",
       "      <td>0</td>\n",
       "      <td>0</td>\n",
       "      <td>0</td>\n",
       "      <td>0</td>\n",
       "      <td>0</td>\n",
       "      <td>0</td>\n",
       "      <td>0</td>\n",
       "      <td>...</td>\n",
       "      <td>0</td>\n",
       "      <td>0</td>\n",
       "      <td>0</td>\n",
       "      <td>0</td>\n",
       "      <td>0</td>\n",
       "      <td>0</td>\n",
       "      <td>0</td>\n",
       "      <td>0</td>\n",
       "      <td>0</td>\n",
       "      <td>1</td>\n",
       "    </tr>\n",
       "    <tr>\n",
       "      <th>21702</th>\n",
       "      <td>3</td>\n",
       "      <td>1</td>\n",
       "      <td>0</td>\n",
       "      <td>0</td>\n",
       "      <td>0</td>\n",
       "      <td>0</td>\n",
       "      <td>1</td>\n",
       "      <td>0</td>\n",
       "      <td>0</td>\n",
       "      <td>0</td>\n",
       "      <td>...</td>\n",
       "      <td>0</td>\n",
       "      <td>0</td>\n",
       "      <td>0</td>\n",
       "      <td>0</td>\n",
       "      <td>0</td>\n",
       "      <td>0</td>\n",
       "      <td>0</td>\n",
       "      <td>0</td>\n",
       "      <td>0</td>\n",
       "      <td>1</td>\n",
       "    </tr>\n",
       "  </tbody>\n",
       "</table>\n",
       "<p>5 rows × 147 columns</p>\n",
       "</div>"
      ],
      "text/plain": [
       "       SEVERITYCODE  ADDRTYPE_Block  ADDRTYPE_Intersection  \\\n",
       "31873             3               0                      1   \n",
       "15934             3               1                      0   \n",
       "36048             3               0                      1   \n",
       "20985             3               0                      1   \n",
       "21702             3               1                      0   \n",
       "\n",
       "       COLLISIONTYPE_Cycles  COLLISIONTYPE_Head On  COLLISIONTYPE_Left Turn  \\\n",
       "31873                     0                      0                        1   \n",
       "15934                     0                      0                        0   \n",
       "36048                     0                      0                        1   \n",
       "20985                     0                      0                        0   \n",
       "21702                     0                      0                        0   \n",
       "\n",
       "       COLLISIONTYPE_Other  COLLISIONTYPE_Parked Car  \\\n",
       "31873                    0                         0   \n",
       "15934                    1                         0   \n",
       "36048                    0                         0   \n",
       "20985                    0                         0   \n",
       "21702                    1                         0   \n",
       "\n",
       "       COLLISIONTYPE_Pedestrian  COLLISIONTYPE_Rear Ended  ...  \\\n",
       "31873                         0                         0  ...   \n",
       "15934                         0                         0  ...   \n",
       "36048                         0                         0  ...   \n",
       "20985                         0                         0  ...   \n",
       "21702                         0                         0  ...   \n",
       "\n",
       "       ST_COLCODE_72.1  ST_COLCODE_73.1  ST_COLCODE_74.1  ST_COLCODE_8  \\\n",
       "31873                0                0                0             0   \n",
       "15934                0                0                0             0   \n",
       "36048                0                0                0             0   \n",
       "20985                0                0                0             0   \n",
       "21702                0                0                0             0   \n",
       "\n",
       "       ST_COLCODE_81.1  ST_COLCODE_82.1  ST_COLCODE_83.1  ST_COLCODE_84.1  \\\n",
       "31873                0                0                0                0   \n",
       "15934                0                0                0                0   \n",
       "36048                0                0                0                0   \n",
       "20985                0                0                0                0   \n",
       "21702                0                0                0                0   \n",
       "\n",
       "       HITPARKEDCAR_Y  Severity  \n",
       "31873               0         1  \n",
       "15934               0         1  \n",
       "36048               0         1  \n",
       "20985               0         1  \n",
       "21702               0         1  \n",
       "\n",
       "[5 rows x 147 columns]"
      ]
     },
     "execution_count": 11,
     "metadata": {},
     "output_type": "execute_result"
    }
   ],
   "source": [
    "df_BT.head()"
   ]
  },
  {
   "cell_type": "code",
   "execution_count": 12,
   "metadata": {},
   "outputs": [
    {
     "data": {
      "text/plain": [
       "3    8847\n",
       "1    7023\n",
       "2    2977\n",
       "4    1153\n",
       "Name: SEVERITYCODE, dtype: int64"
      ]
     },
     "execution_count": 12,
     "metadata": {},
     "output_type": "execute_result"
    }
   ],
   "source": [
    "df_BT.SEVERITYCODE.value_counts()"
   ]
  },
  {
   "cell_type": "code",
   "execution_count": 14,
   "metadata": {},
   "outputs": [],
   "source": [
    "filename='Two-Class-Balenced-Collision'\n",
    "df_BT.to_csv(filename,index=False)"
   ]
  },
  {
   "cell_type": "code",
   "execution_count": 18,
   "metadata": {},
   "outputs": [
    {
     "name": "stderr",
     "output_type": "stream",
     "text": [
      "/home/jupyterlab/conda/envs/python/lib/python3.6/site-packages/sklearn/preprocessing/data.py:625: DataConversionWarning: Data with input dtype int64 were all converted to float64 by StandardScaler.\n",
      "  return self.partial_fit(X, y)\n",
      "/home/jupyterlab/conda/envs/python/lib/python3.6/site-packages/ipykernel_launcher.py:4: DataConversionWarning: Data with input dtype int64 were all converted to float64 by StandardScaler.\n",
      "  after removing the cwd from sys.path.\n"
     ]
    }
   ],
   "source": [
    "y = df_BT['Severity']\n",
    "X = df_BT.drop('SEVERITYCODE', axis=1)\n",
    "X=X.drop('Severity', axis=1)\n",
    "X = StandardScaler().fit(X).transform(X)\n",
    "\n"
   ]
  },
  {
   "cell_type": "code",
   "execution_count": 19,
   "metadata": {},
   "outputs": [],
   "source": [
    "\n",
    "# Split the data set into training and testing data sets\n",
    "X_train, X_test, y_train, y_test = train_test_split(X, y, test_size=0.2, random_state=4)"
   ]
  },
  {
   "cell_type": "markdown",
   "metadata": {},
   "source": [
    "### Logistic Regression"
   ]
  },
  {
   "cell_type": "code",
   "execution_count": 22,
   "metadata": {},
   "outputs": [
    {
     "name": "stdout",
     "output_type": "stream",
     "text": [
      "Test set Accuracy:  0.75875\n",
      "Confusion matrix, without normalization\n",
      "[[1625  395]\n",
      " [ 570 1410]]\n",
      "              precision    recall  f1-score   support\n",
      "\n",
      "           0       0.74      0.80      0.77      2020\n",
      "           1       0.78      0.71      0.75      1980\n",
      "\n",
      "   micro avg       0.76      0.76      0.76      4000\n",
      "   macro avg       0.76      0.76      0.76      4000\n",
      "weighted avg       0.76      0.76      0.76      4000\n",
      "\n"
     ]
    },
    {
     "data": {
      "image/png": "[encoded data removed]",
      "text/plain": [
       "<Figure size 432x288 with 2 Axes>"
      ]
     },
     "metadata": {
      "needs_background": "light"
     },
     "output_type": "display_data"
    }
   ],
   "source": [
    "from sklearn.linear_model import LogisticRegression\n",
    "\n",
    "# Classifier Model = Logistic Regression\n",
    "LR = LogisticRegression(C=0.01, solver='liblinear').fit(X_train,y_train)\n",
    "LR\n",
    "\n",
    "yhat = LR.predict(X_test)\n",
    "yhat\n",
    "LR_accuracy=metrics.accuracy_score(y_test, yhat)\n",
    "print(\"Test set Accuracy: \", metrics.accuracy_score(y_test, yhat))\n",
    "\n",
    "\n",
    "cnf_matrix = confusion_matrix(y_test, yhat, labels=[0,1])\n",
    "# Plot non-normalized confusion matrix\n",
    "plt.figure()\n",
    "plot_confusion_matrix(cnf_matrix, classes=[0,1],normalize= False,  title='Confusion matrix')"
   ]
  },
  {
   "cell_type": "markdown",
   "metadata": {},
   "source": [
    "### K Nearest Neighbours"
   ]
  },
  {
   "cell_type": "code",
   "execution_count": 23,
   "metadata": {},
   "outputs": [
    {
     "data": {
      "image/png": "[encoded data removed]",
      "text/plain": [
       "<Figure size 432x288 with 1 Axes>"
      ]
     },
     "metadata": {
      "needs_background": "light"
     },
     "output_type": "display_data"
    }
   ],
   "source": [
    "from sklearn.neighbors import KNeighborsClassifier\n",
    "Ks=10\n",
    "mean_acc = np.zeros((Ks-1))\n",
    "std_acc = np.zeros((Ks-1))\n",
    "for i in range(1,Ks):\n",
    "    knn = KNeighborsClassifier(n_neighbors=i).fit(X_train, y_train)\n",
    "    yhat=knn.predict(X_test)\n",
    "    mean_acc[i-1] = metrics.accuracy_score(y_test, yhat)\n",
    "    std_acc[i-1]=np.std(yhat==y_test)/np.sqrt(yhat.shape[0])\n",
    "\n",
    "plt.plot(range(1,Ks),mean_acc,'g')\n",
    "plt.fill_between(range(1,Ks),mean_acc - 1 * std_acc,mean_acc + 1 * std_acc, alpha=0.10)\n",
    "plt.legend(('Accuracy ', '+/- 3xstd'))\n",
    "plt.ylabel('Accuracy ')\n",
    "plt.xlabel('Number of Nabors (K)')\n",
    "plt.tight_layout()\n",
    "plt.show()\n"
   ]
  },
  {
   "cell_type": "code",
   "execution_count": 24,
   "metadata": {},
   "outputs": [
    {
     "name": "stdout",
     "output_type": "stream",
     "text": [
      "The best accuracy was with 0.8115 with k= 3\n"
     ]
    }
   ],
   "source": [
    "print( \"The best accuracy was with\", mean_acc.max(), \"with k=\", mean_acc.argmax()+1)"
   ]
  },
  {
   "cell_type": "code",
   "execution_count": 26,
   "metadata": {},
   "outputs": [
    {
     "name": "stdout",
     "output_type": "stream",
     "text": [
      "Test set Accuracy:  0.8115\n"
     ]
    }
   ],
   "source": [
    "from sklearn.neighbors import KNeighborsClassifier\n",
    "knn = KNeighborsClassifier(n_neighbors=3).fit(X_train, y_train)\n",
    "yhat=knn.predict(X_test)\n",
    "knn_acuuracy=metrics.accuracy_score(y_test, yhat)\n",
    "print(\"Test set Accuracy: \", metrics.accuracy_score(y_test, yhat))"
   ]
  },
  {
   "cell_type": "code",
   "execution_count": 28,
   "metadata": {},
   "outputs": [
    {
     "name": "stdout",
     "output_type": "stream",
     "text": [
      "Confusion matrix, without normalization\n",
      "[[1494  526]\n",
      " [ 228 1752]]\n",
      "              precision    recall  f1-score   support\n",
      "\n",
      "           0       0.87      0.74      0.80      2020\n",
      "           1       0.77      0.88      0.82      1980\n",
      "\n",
      "   micro avg       0.81      0.81      0.81      4000\n",
      "   macro avg       0.82      0.81      0.81      4000\n",
      "weighted avg       0.82      0.81      0.81      4000\n",
      "\n"
     ]
    },
    {
     "data": {
      "image/png": "[encoded data removed]",
      "text/plain": [
       "<Figure size 432x288 with 2 Axes>"
      ]
     },
     "metadata": {
      "needs_background": "light"
     },
     "output_type": "display_data"
    }
   ],
   "source": [
    "cnf_matrix = confusion_matrix(y_test, yhat, labels=[0,1])\n",
    "# Plot non-normalized confusion matrix\n",
    "plt.figure()\n",
    "plot_confusion_matrix(cnf_matrix, classes=[0,1],normalize= False,  title='Confusion matrix')"
   ]
  },
  {
   "cell_type": "markdown",
   "metadata": {},
   "source": [
    "### SVM"
   ]
  },
  {
   "cell_type": "code",
   "execution_count": 29,
   "metadata": {},
   "outputs": [
    {
     "name": "stderr",
     "output_type": "stream",
     "text": [
      "/home/jupyterlab/conda/envs/python/lib/python3.6/site-packages/sklearn/svm/base.py:196: FutureWarning: The default value of gamma will change from 'auto' to 'scale' in version 0.22 to account better for unscaled features. Set gamma explicitly to 'auto' or 'scale' to avoid this warning.\n",
      "  \"avoid this warning.\", FutureWarning)\n"
     ]
    },
    {
     "name": "stdout",
     "output_type": "stream",
     "text": [
      "Test set Accuracy:  0.785\n",
      "Confusion matrix, without normalization\n",
      "[[1666  354]\n",
      " [ 506 1474]]\n",
      "              precision    recall  f1-score   support\n",
      "\n",
      "           0       0.77      0.82      0.79      2020\n",
      "           1       0.81      0.74      0.77      1980\n",
      "\n",
      "   micro avg       0.79      0.79      0.79      4000\n",
      "   macro avg       0.79      0.78      0.78      4000\n",
      "weighted avg       0.79      0.79      0.78      4000\n",
      "\n"
     ]
    },
    {
     "data": {
      "image/png": "[encoded data removed]",
      "text/plain": [
       "<Figure size 432x288 with 2 Axes>"
      ]
     },
     "metadata": {
      "needs_background": "light"
     },
     "output_type": "display_data"
    }
   ],
   "source": [
    "from sklearn import svm\n",
    "clf = svm.SVC(kernel='rbf')\n",
    "clf.fit(X_train, y_train) \n",
    "\n",
    "yhat=clf.predict(X_test)\n",
    "svm_acuuracy=metrics.accuracy_score(y_test, yhat)\n",
    "print(\"Test set Accuracy: \", metrics.accuracy_score(y_test, yhat))\n",
    "\n",
    "cnf_matrix = confusion_matrix(y_test, yhat, labels=[0,1])\n",
    "# Plot non-normalized confusion matrix\n",
    "plt.figure()\n",
    "plot_confusion_matrix(cnf_matrix, classes=[0,1],normalize= False,  title='Confusion matrix')"
   ]
  },
  {
   "cell_type": "markdown",
   "metadata": {},
   "source": [
    "### Decision Tree"
   ]
  },
  {
   "cell_type": "code",
   "execution_count": 47,
   "metadata": {},
   "outputs": [
    {
     "name": "stdout",
     "output_type": "stream",
     "text": [
      "Test set Accuracy:  0.83675\n",
      "Confusion matrix, without normalization\n",
      "[[1612  408]\n",
      " [ 245 1735]]\n",
      "              precision    recall  f1-score   support\n",
      "\n",
      "           0       0.87      0.80      0.83      2020\n",
      "           1       0.81      0.88      0.84      1980\n",
      "\n",
      "   micro avg       0.84      0.84      0.84      4000\n",
      "   macro avg       0.84      0.84      0.84      4000\n",
      "weighted avg       0.84      0.84      0.84      4000\n",
      "\n"
     ]
    },
    {
     "data": {
      "image/png": "[encoded data removed]",
      "text/plain": [
       "<Figure size 432x288 with 2 Axes>"
      ]
     },
     "metadata": {
      "needs_background": "light"
     },
     "output_type": "display_data"
    }
   ],
   "source": [
    "from sklearn.tree import DecisionTreeClassifier\n",
    "Tree = DecisionTreeClassifier(min_samples_split = 5, max_features = 'log2', \n",
    "                                       class_weight='balanced', random_state=20)\n",
    "Tree.fit(X_train,y_train)\n",
    "yhat = Tree.predict(X_test)\n",
    "decision_tree_acuuracy=metrics.accuracy_score(y_test, yhat)\n",
    "print(\"Test set Accuracy: \", metrics.accuracy_score(y_test, yhat))\n",
    "\n",
    "cnf_matrix = confusion_matrix(y_test, yhat, labels=[0,1])\n",
    "# Plot non-normalized confusion matrix\n",
    "plt.figure()\n",
    "plot_confusion_matrix(cnf_matrix, classes=[0,1],normalize= False,  title='Confusion matrix')"
   ]
  },
  {
   "cell_type": "code",
   "execution_count": 48,
   "metadata": {},
   "outputs": [
    {
     "data": {
      "image/png": "[encoded data removed]",
      "text/plain": [
       "<Figure size 720x720 with 1 Axes>"
      ]
     },
     "metadata": {
      "needs_background": "light"
     },
     "output_type": "display_data"
    }
   ],
   "source": [
    "df_BTX=df_BT.drop('SEVERITYCODE',axis=1)\n",
    "importances = pd.DataFrame(np.zeros((X_train.shape[1], 1)), columns=['importance'], \n",
    "                           index=df_BTX.drop('Severity',axis=1).columns)\n",
    "\n",
    "importances.iloc[:,0] = Tree.feature_importances_\n",
    "\n",
    "importances.sort_values(by='importance', inplace=True, ascending=False)\n",
    "importancestop = importances.head(30)\n",
    "\n",
    "plt.figure(figsize=(10, 10))\n",
    "sns.barplot(x='importance', y=importancestop.index, data=importancestop)\n",
    "\n",
    "plt.xlabel('')\n",
    "plt.tick_params(axis='x', labelsize=10)\n",
    "plt.tick_params(axis='y', labelsize=10)\n",
    "plt.title('Feature Importance (using Decision Tree Classifier)', size=15)\n",
    "\n",
    "plt.show()"
   ]
  },
  {
   "cell_type": "markdown",
   "metadata": {},
   "source": [
    "Evaluation"
   ]
  },
  {
   "cell_type": "code",
   "execution_count": 65,
   "metadata": {},
   "outputs": [
    {
     "data": {
      "text/html": [
       "<div>\n",
       "<style scoped>\n",
       "    .dataframe tbody tr th:only-of-type {\n",
       "        vertical-align: middle;\n",
       "    }\n",
       "\n",
       "    .dataframe tbody tr th {\n",
       "        vertical-align: top;\n",
       "    }\n",
       "\n",
       "    .dataframe thead th {\n",
       "        text-align: right;\n",
       "    }\n",
       "</style>\n",
       "<table border=\"1\" class=\"dataframe\">\n",
       "  <thead>\n",
       "    <tr style=\"text-align: right;\">\n",
       "      <th></th>\n",
       "      <th>Algorithm</th>\n",
       "      <th>Accuracy</th>\n",
       "    </tr>\n",
       "  </thead>\n",
       "  <tbody>\n",
       "    <tr>\n",
       "      <th>0</th>\n",
       "      <td>LR</td>\n",
       "      <td>75.88%</td>\n",
       "    </tr>\n",
       "    <tr>\n",
       "      <th>1</th>\n",
       "      <td>KNN</td>\n",
       "      <td>81.15%</td>\n",
       "    </tr>\n",
       "    <tr>\n",
       "      <th>2</th>\n",
       "      <td>SVM</td>\n",
       "      <td>78.56%</td>\n",
       "    </tr>\n",
       "    <tr>\n",
       "      <th>3</th>\n",
       "      <td>Decision Tree</td>\n",
       "      <td>83.68%</td>\n",
       "    </tr>\n",
       "  </tbody>\n",
       "</table>\n",
       "</div>"
      ],
      "text/plain": [
       "       Algorithm Accuracy\n",
       "0             LR   75.88%\n",
       "1            KNN   81.15%\n",
       "2            SVM   78.56%\n",
       "3  Decision Tree   83.68%"
      ]
     },
     "execution_count": 65,
     "metadata": {},
     "output_type": "execute_result"
    }
   ],
   "source": [
    "Eva_Multiclass=pd.DataFrame(data={'Algorithm':[\"LR\",\"KNN\",\"SVM\",\"Decision Tree\"], 'Accuracy':[\"75.88%\", \"81.15%\", \"78.56%\", \"83.68%\"]})\n",
    "#Eva_Multiclass.set_index('Algorithm',inplace=True)\n",
    "Eva_Multiclass"
   ]
  },
  {
   "cell_type": "markdown",
   "metadata": {},
   "source": [
    "### Conclusion"
   ]
  },
  {
   "cell_type": "markdown",
   "metadata": {},
   "source": [
    "This project analysed the relationship in main factors and the severity of traffic collisions.The predictive models are built in LR, KNN, SVM and Decision Tree algorithms. Besides the original severitycode degree, this project also makes a two-class level severity code. We can conclude that Decision Tree has the best predicting accuracy in Multiple-Class and Two-Class models."
   ]
  },
  {
   "cell_type": "code",
   "execution_count": null,
   "metadata": {},
   "outputs": [],
   "source": []
  }
 ],
 "metadata": {
  "kernelspec": {
   "display_name": "Python",
   "language": "python",
   "name": "conda-env-python-py"
  },
  "language_info": {
   "codemirror_mode": {
    "name": "ipython",
    "version": 3
   },
   "file_extension": ".py",
   "mimetype": "text/x-python",
   "name": "python",
   "nbconvert_exporter": "python",
   "pygments_lexer": "ipython3",
   "version": "3.6.11"
  }
 },
 "nbformat": 4,
 "nbformat_minor": 4
}
